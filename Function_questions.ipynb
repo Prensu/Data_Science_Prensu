{
  "nbformat": 4,
  "nbformat_minor": 0,
  "metadata": {
    "colab": {
      "provenance": [],
      "authorship_tag": "ABX9TyNM9h1wuARm9gxXTp8+ohLL",
      "include_colab_link": true
    },
    "kernelspec": {
      "name": "python3",
      "display_name": "Python 3"
    },
    "language_info": {
      "name": "python"
    }
  },
  "cells": [
    {
      "cell_type": "markdown",
      "metadata": {
        "id": "view-in-github",
        "colab_type": "text"
      },
      "source": [
        "<a href=\"https://colab.research.google.com/github/Prensu/Data_Science_Prensu/blob/main/Function_questions.ipynb\" target=\"_parent\"><img src=\"https://colab.research.google.com/assets/colab-badge.svg\" alt=\"Open In Colab\"/></a>"
      ]
    },
    {
      "cell_type": "markdown",
      "source": [
        "##Question 1: Write a function called count_occurrences that takes a list of words and a target word as input. The function should return the number of times the target word appears in the list.\n"
      ],
      "metadata": {
        "id": "nKSGImGoI51Y"
      }
    },
    {
      "cell_type": "code",
      "execution_count": null,
      "metadata": {
        "colab": {
          "base_uri": "https://localhost:8080/"
        },
        "id": "jURJ31c1IvgJ",
        "outputId": "ce9aea00-e08c-4d59-f7cc-8fe08086f4a7"
      },
      "outputs": [
        {
          "output_type": "stream",
          "name": "stdout",
          "text": [
            "3\n"
          ]
        }
      ],
      "source": [
        "def count_occurences(list_of_words,target):\n",
        "    return list_of_words.count(target)\n",
        "\n",
        "list_of_words=['youtube','google','google','opera','google']\n",
        "target_word='google'\n",
        "\n",
        "print(count_occurences(list_of_words,target_word))"
      ]
    },
    {
      "cell_type": "markdown",
      "source": [
        "## Question 2: Write a function called remove_duplicates that takes a list as input and returns a new list with duplicates removed. The order of the elements should be preserved."
      ],
      "metadata": {
        "id": "QLzrAZH5I_ov"
      }
    },
    {
      "cell_type": "code",
      "source": [
        "def remove_duplicates(list):\n",
        "    new_list=[]\n",
        "    for i in list:\n",
        "        if i not in new_list:\n",
        "            new_list.append(i)\n",
        "    return new_list\n",
        "\n",
        "remove_duplicates([1,2,3,3,3,3,4,5,5])"
      ],
      "metadata": {
        "colab": {
          "base_uri": "https://localhost:8080/"
        },
        "id": "0UIcjTY0I3TO",
        "outputId": "07b29816-639f-41ff-d622-a9c4251043bd"
      },
      "execution_count": null,
      "outputs": [
        {
          "output_type": "execute_result",
          "data": {
            "text/plain": [
              "[1, 2, 3, 4, 5]"
            ]
          },
          "metadata": {},
          "execution_count": 30
        }
      ]
    },
    {
      "cell_type": "markdown",
      "source": [
        "positive negative zero => function name posnegzero(), eg: posnegzero(0) => zero\n"
      ],
      "metadata": {
        "id": "oH9DvT3eKCtO"
      }
    },
    {
      "cell_type": "code",
      "source": [
        "def posnegzero(num):\n",
        "  if num>0:\n",
        "    print(\"positive\")\n",
        "  elif num<0:\n",
        "    print(\"negative\")\n",
        "  else:\n",
        "    print(\"zero\")\n",
        "\n",
        "posnegzero(7)\n",
        "posnegzero(-7)\n",
        "posnegzero(0)"
      ],
      "metadata": {
        "colab": {
          "base_uri": "https://localhost:8080/"
        },
        "id": "rWSH_6vhKJP2",
        "outputId": "d2245fe5-8d65-4c7a-f14c-5aa521ebb124"
      },
      "execution_count": null,
      "outputs": [
        {
          "output_type": "stream",
          "name": "stdout",
          "text": [
            "positive\n",
            "negative\n",
            "zero\n"
          ]
        }
      ]
    },
    {
      "cell_type": "markdown",
      "source": [
        "count character => function name countchar(), eg: countchar('environment','e') => 2"
      ],
      "metadata": {
        "id": "0euAH6V3Koz6"
      }
    },
    {
      "cell_type": "code",
      "source": [
        "def countchar(string, character):\n",
        "    return string.count(character)\n",
        "\n",
        "result = countchar('environment', 'e')\n",
        "print(result)\n",
        "\n"
      ],
      "metadata": {
        "colab": {
          "base_uri": "https://localhost:8080/"
        },
        "id": "qOZPUzb1Kbxp",
        "outputId": "10c3d847-edfc-4d0a-e73a-c166a4896289"
      },
      "execution_count": null,
      "outputs": [
        {
          "output_type": "stream",
          "name": "stdout",
          "text": [
            "2\n"
          ]
        }
      ]
    },
    {
      "cell_type": "markdown",
      "source": [
        "grading problem => see_grade(), eg: see_grade(92) => A+"
      ],
      "metadata": {
        "id": "yPP4s_2ZLtaa"
      }
    },
    {
      "cell_type": "code",
      "source": [
        "def see_grade(grade):\n",
        "  if grade>=90:\n",
        "    print(\"A+\")\n",
        "  elif grade>=80 and grade<=89:\n",
        "    print(\"A\")\n",
        "  elif grade>=70 and grade<=79:\n",
        "    print(\"B\")\n",
        "  elif grade>=60 and grade<=69:\n",
        "    print(\"C\")\n",
        "  elif grade>=50 and grade<=59:\n",
        "    print(\"D\")\n",
        "  elif grade>=40 and grade<=49:\n",
        "    print(\"E\")\n",
        "  elif grade<40:\n",
        "    print(\"F\")\n",
        "\n",
        "see_grade(92)"
      ],
      "metadata": {
        "colab": {
          "base_uri": "https://localhost:8080/"
        },
        "id": "ItGh5w88LjcS",
        "outputId": "bfce14e5-bf2b-4bd9-d336-f49bba9f538a"
      },
      "execution_count": null,
      "outputs": [
        {
          "output_type": "stream",
          "name": "stdout",
          "text": [
            "A+\n"
          ]
        }
      ]
    },
    {
      "cell_type": "markdown",
      "source": [
        "bmi problem => bmi() , eg: bmi(22.3) => Normal weight | Weight | Status | |------------|--------------------| | Below 18.5 | Underweight | | 18.5 to 24.9 | Normal weight | | 25 to 29.9 | Overweight | | 30 to 34.9 | Obese | | 35 to 39.9 | Very obese | | Above 40 | Extremely obese |"
      ],
      "metadata": {
        "id": "qyMGRqwnMCLT"
      }
    },
    {
      "cell_type": "code",
      "source": [
        "def bmi(weight):\n",
        "  if weight<18.5:\n",
        "    print(\"Underweight\")\n",
        "  elif weight>=18.5 and weight<=24.9:\n",
        "    print(\"Normal weight\")\n",
        "  elif weight>=25 and weight<=29.9:\n",
        "    print(\"Overweight\")\n",
        "  elif weight>=30 and weight<=34.9:\n",
        "    print(\"Obese\")\n",
        "  elif weight>=35 and weight<=39.9:\n",
        "    print(\"Very obese\")\n",
        "  elif weight>=40:\n",
        "    print(\"Extremely obese\")\n",
        "\n",
        "bmi(18.5)"
      ],
      "metadata": {
        "colab": {
          "base_uri": "https://localhost:8080/"
        },
        "id": "WnQvuuACMGO0",
        "outputId": "e82ecc10-2612-4c7f-b9cf-e101d63a9801"
      },
      "execution_count": null,
      "outputs": [
        {
          "output_type": "stream",
          "name": "stdout",
          "text": [
            "Normal weight\n"
          ]
        }
      ]
    },
    {
      "cell_type": "markdown",
      "source": [
        "Using an f-string print the following with table(13) function\n"
      ],
      "metadata": {
        "id": "jUDClYwwOUxz"
      }
    },
    {
      "cell_type": "code",
      "source": [
        "def table(num):\n",
        "  for i in range(1,11):\n",
        "    print(f\"{num} x {i} = {num*i}\")\n",
        "\n",
        "table(13)"
      ],
      "metadata": {
        "colab": {
          "base_uri": "https://localhost:8080/"
        },
        "id": "STh7SwUlNBar",
        "outputId": "def12116-14d2-4843-e223-8171dfc47791"
      },
      "execution_count": null,
      "outputs": [
        {
          "output_type": "stream",
          "name": "stdout",
          "text": [
            "13 x 1 = 13\n",
            "13 x 2 = 26\n",
            "13 x 3 = 39\n",
            "13 x 4 = 52\n",
            "13 x 5 = 65\n",
            "13 x 6 = 78\n",
            "13 x 7 = 91\n",
            "13 x 8 = 104\n",
            "13 x 9 = 117\n",
            "13 x 10 = 130\n"
          ]
        }
      ]
    },
    {
      "cell_type": "markdown",
      "source": [
        "Question 3: Write a function called print_even_numbers that takes a list of numbers as input. The function should print only the even numbers in the list."
      ],
      "metadata": {
        "id": "31PCYfRaPQ65"
      }
    },
    {
      "cell_type": "code",
      "source": [
        "def print_even_numbers(numbers):\n",
        "    for num in numbers:\n",
        "        if num % 2 == 0:\n",
        "            print(num)\n",
        "\n",
        "\n",
        "numbers = [1, 2, 3, 4, 5, 6, 7, 8, 9, 10]\n",
        "print_even_numbers(numbers)"
      ],
      "metadata": {
        "colab": {
          "base_uri": "https://localhost:8080/"
        },
        "id": "lUcBmcDxOhxS",
        "outputId": "291f9d13-08bb-4102-fc5d-57ad38963c6c"
      },
      "execution_count": null,
      "outputs": [
        {
          "output_type": "stream",
          "name": "stdout",
          "text": [
            "2\n",
            "4\n",
            "6\n",
            "8\n",
            "10\n"
          ]
        }
      ]
    },
    {
      "cell_type": "code",
      "source": [],
      "metadata": {
        "id": "ee7XJWeLPysc"
      },
      "execution_count": null,
      "outputs": []
    }
  ]
}