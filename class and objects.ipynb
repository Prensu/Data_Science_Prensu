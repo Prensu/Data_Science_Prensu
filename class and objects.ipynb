{
 "cells": [
  {
   "cell_type": "markdown",
   "id": "018f8e7d-1c65-4a7f-8b47-ed95cd38d8a5",
   "metadata": {},
   "source": [
    "class\n",
    "-> collection of functions and variables which can work independently                                    \n",
    "-> example in real word scenario vehicles,animals\n",
    "\n",
    "Object\n",
    "->its instance of class that has its own independent identity                       \n",
    "-> Dog from animal can be object , car in vehicles                                 \n",
    "-> every object has its own set of attributes and functions diffently                    \n",
    "-> Dog has four legs and it barks"
   ]
  },
  {
   "cell_type": "code",
   "execution_count": null,
   "id": "5b695d53-c1fc-45a7-ac43-f6677c360979",
   "metadata": {},
   "outputs": [],
   "source": [
    "class Animal:\n",
    "    def what_sound_does_it_make(flag):\n",
    "        if flag.lower()=='bark':\n",
    "            print(\"Hey its fucking dog\")\n",
    "        elif flag.lower()=='meow':\n",
    "            print(\"Its cat\")\n",
    "        else:\n",
    "            print\n",
    "        "
   ]
  }
 ],
 "metadata": {
  "kernelspec": {
   "display_name": "Python 3 (ipykernel)",
   "language": "python",
   "name": "python3"
  },
  "language_info": {
   "codemirror_mode": {
    "name": "ipython",
    "version": 3
   },
   "file_extension": ".py",
   "mimetype": "text/x-python",
   "name": "python",
   "nbconvert_exporter": "python",
   "pygments_lexer": "ipython3",
   "version": "3.12.4"
  }
 },
 "nbformat": 4,
 "nbformat_minor": 5
}
