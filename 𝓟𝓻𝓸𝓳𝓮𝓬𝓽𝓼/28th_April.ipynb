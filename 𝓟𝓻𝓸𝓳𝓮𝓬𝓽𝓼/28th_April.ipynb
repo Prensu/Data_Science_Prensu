{
  "nbformat": 4,
  "nbformat_minor": 0,
  "metadata": {
    "colab": {
      "provenance": [],
      "authorship_tag": "ABX9TyOemkN5M0/vvzJqqyLnwBRr",
      "include_colab_link": true
    },
    "kernelspec": {
      "name": "python3",
      "display_name": "Python 3"
    },
    "language_info": {
      "name": "python"
    }
  },
  "cells": [
    {
      "cell_type": "markdown",
      "metadata": {
        "id": "view-in-github",
        "colab_type": "text"
      },
      "source": [
        "<a href=\"https://colab.research.google.com/github/Prensu/Data_Science_Prensu/blob/main/28th_April.ipynb\" target=\"_parent\"><img src=\"https://colab.research.google.com/assets/colab-badge.svg\" alt=\"Open In Colab\"/></a>"
      ]
    },
    {
      "cell_type": "code",
      "execution_count": null,
      "metadata": {
        "colab": {
          "base_uri": "https://localhost:8080/"
        },
        "id": "Or0bg7EvWP_G",
        "outputId": "c2a073e9-c70e-4f4b-e6dc-33cd9c373d3d"
      },
      "outputs": [
        {
          "output_type": "stream",
          "name": "stdout",
          "text": [
            "Enter your choice3\n",
            "1.Winter season\n",
            "2.summer season\n",
            "3.autum season\n",
            "recommended dished for autum season:\n",
            "mango soup\n"
          ]
        }
      ],
      "source": [
        "user= input(\"Enter your choice\")\n",
        "print(\"1.Winter season\")\n",
        "print(\"2.summer season\")\n",
        "print(\"3.autum season\")\n",
        "\n",
        "\n",
        "if user==\"1\":\n",
        "  print(\"recommended dished for winter season:\")\n",
        "  print(\"Gundruk soup\")\n",
        "\n",
        "elif user==\"2\":\n",
        "  print(\"recommended dished for summer season:\")\n",
        "  print(\"masu soup\")\n",
        "\n",
        "elif user==\"3\":\n",
        "  print(\"recommended dished for autum season:\")\n",
        "  print(\"mango soup\")\n",
        "else:\n",
        "  print(\"sorry customerm we dont have recommendation for that selection\")\n",
        "\n",
        "\n"
      ]
    },
    {
      "cell_type": "code",
      "source": [
        "#for variable in iterable\n",
        "#code to be executed"
      ],
      "metadata": {
        "id": "cI1gqGu6XgCx"
      },
      "execution_count": null,
      "outputs": []
    },
    {
      "cell_type": "code",
      "source": [
        "list=['milk','momo','tea','butter']\n",
        "\n",
        "for item in list:\n",
        "  print(item)"
      ],
      "metadata": {
        "colab": {
          "base_uri": "https://localhost:8080/"
        },
        "id": "mRnDKAAqZjjC",
        "outputId": "acafd8fb-e045-4c90-ce0b-9951303dda2a"
      },
      "execution_count": null,
      "outputs": [
        {
          "output_type": "stream",
          "name": "stdout",
          "text": [
            "milk\n",
            "momo\n",
            "tea\n",
            "butter\n"
          ]
        }
      ]
    },
    {
      "cell_type": "code",
      "source": [
        "for i in range(5):\n",
        "  print(i)"
      ],
      "metadata": {
        "colab": {
          "base_uri": "https://localhost:8080/"
        },
        "id": "AM_dZLMLZt9j",
        "outputId": "c9730b8e-9e10-4ee4-aa3d-bf032f5e41de"
      },
      "execution_count": null,
      "outputs": [
        {
          "output_type": "stream",
          "name": "stdout",
          "text": [
            "0\n",
            "1\n",
            "2\n",
            "3\n",
            "4\n"
          ]
        }
      ]
    },
    {
      "cell_type": "code",
      "source": [
        "for i in range(1,4):\n",
        "  for j in range(1,4):\n",
        "    product=i*j\n",
        "    print(f\"{i} * {j} = {product}\")\n",
        "    print()"
      ],
      "metadata": {
        "colab": {
          "base_uri": "https://localhost:8080/"
        },
        "id": "HTr__c5waPpg",
        "outputId": "f2666d3d-37d7-4e45-f913-6189c544144a"
      },
      "execution_count": null,
      "outputs": [
        {
          "output_type": "stream",
          "name": "stdout",
          "text": [
            "1 * 1 = 1\n",
            "\n",
            "1 * 2 = 2\n",
            "\n",
            "1 * 3 = 3\n",
            "\n",
            "2 * 1 = 2\n",
            "\n",
            "2 * 2 = 4\n",
            "\n",
            "2 * 3 = 6\n",
            "\n",
            "3 * 1 = 3\n",
            "\n",
            "3 * 2 = 6\n",
            "\n",
            "3 * 3 = 9\n",
            "\n"
          ]
        }
      ]
    },
    {
      "cell_type": "code",
      "source": [
        "#math=float(input(\"Enter your marks\"))\n",
        "#science=float(input(\"Enter your marks\"))\n",
        "#commerce=float(input(\"Enter your marks\"))\n",
        "\n",
        "#grade=(math+science+commerce)/3\n",
        "\n",
        "#print(grade)\n",
        "\n",
        "#for grade in range()"
      ],
      "metadata": {
        "id": "NEEDZXjPdah6"
      },
      "execution_count": null,
      "outputs": []
    },
    {
      "cell_type": "markdown",
      "source": [],
      "metadata": {
        "id": "9DHIlFOkauBa"
      }
    },
    {
      "cell_type": "code",
      "source": [
        "subject=[\"maths\",\"Science\",\"English\",\"Nepali\"]\n",
        "weight=[0.3,0.3, 0.2,0.2]\n",
        "total_marks=0\n",
        "\n",
        "for i in range(len(subject)):\n",
        "  subjects=subject[i]\n",
        "  weights=weight[i]\n",
        "  mark=float(input(f\"Enter the marks obtained in {subjects}:\"))\n",
        "  total_marks+=mark+weights\n",
        "\n",
        "\n",
        "print(f\"Your total mark is {total_marks}\")\n",
        "\n"
      ],
      "metadata": {
        "colab": {
          "base_uri": "https://localhost:8080/"
        },
        "id": "KXxUKWhWdiD6",
        "outputId": "ff327603-7ca7-4781-c2a4-de6568beaea7"
      },
      "execution_count": null,
      "outputs": [
        {
          "output_type": "stream",
          "name": "stdout",
          "text": [
            "Enter the marks obtained in maths:96\n",
            "Enter the marks obtained in Science:65\n",
            "Enter the marks obtained in English:34\n",
            "Enter the marks obtained in Nepali:32\n",
            "Your total mark is 228.0\n"
          ]
        }
      ]
    },
    {
      "cell_type": "code",
      "source": [
        "78\n"
      ],
      "metadata": {
        "id": "1FoDrgK6fIFm"
      },
      "execution_count": null,
      "outputs": []
    }
  ]
}