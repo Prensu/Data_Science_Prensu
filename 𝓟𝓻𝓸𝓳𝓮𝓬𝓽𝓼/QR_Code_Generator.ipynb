{
 "cells": [
  {
   "cell_type": "code",
   "execution_count": 7,
   "id": "fd6af076-1401-46e9-afa1-b2b5c1669f7f",
   "metadata": {},
   "outputs": [
    {
     "name": "stdout",
     "output_type": "stream",
     "text": [
      "[b'https://hamrocsit.com/csit/college/amrit-science-campus-ascol/']\n"
     ]
    }
   ],
   "source": [
    "import qrcode\n",
    "\n",
    "input_URL = \"https://hamrocsit.com/csit/college/amrit-science-campus-ascol/\"\n",
    "\n",
    "qr = qrcode.QRCode(\n",
    "    version=1,\n",
    "    error_correction=qrcode.constants.ERROR_CORRECT_L,\n",
    "    box_size=15,\n",
    "    border=4\n",
    ")\n",
    "#This creates an instance of the QRCode class with specific parameters:\n",
    "#version=1: This defines the size of the QR code (1 is the smallest, which can hold up to 21 characters).\n",
    "#error_correction=qrcode.constants.ERROR_CORRECT_L: This sets the error correction level. Level L allows for about 7% error correction.\n",
    "#box_size=15: This sets the size of each individual box in the QR code (15 pixels in this case).\n",
    "#border=4: This defines the thickness of the border around the QR code (4 boxes thick).\n",
    "\n",
    "                                                                       \n",
    "qr.add_data(input_URL)\n",
    "qr.make(fit=True)\n",
    "#qr.add_data(input_URL): This method adds the specified URL to the QR code. \n",
    "#qr.make(fit=True): This method generates the QR code based on the data added,adjusting the size as necessary to fit the data.\n",
    "\n",
    "img = qr.make_image(fill_color=\"black\", back_color=\"white\")#qr.make_image(fill_color=\"red\", back_color=\"white\"): This generates an image of the QR code with red boxes and a white background.\n",
    "img.save(\"prensu_qr.png\")\n",
    "\n",
    "print(qr.data_list)#This prints the list of data that has been added to the QR code, which in this case will contain the URL you provided.\n",
    "\n",
    "from PIL import Image\n",
    "img.show()  # This will display the QR code image"
   ]
  },
  {
   "cell_type": "code",
   "execution_count": null,
   "id": "107fbff9-77e5-4fde-8459-c790b10b26a8",
   "metadata": {},
   "outputs": [],
   "source": []
  }
 ],
 "metadata": {
  "kernelspec": {
   "display_name": "Python 3 (ipykernel)",
   "language": "python",
   "name": "python3"
  },
  "language_info": {
   "codemirror_mode": {
    "name": "ipython",
    "version": 3
   },
   "file_extension": ".py",
   "mimetype": "text/x-python",
   "name": "python",
   "nbconvert_exporter": "python",
   "pygments_lexer": "ipython3",
   "version": "3.12.4"
  }
 },
 "nbformat": 4,
 "nbformat_minor": 5
}
