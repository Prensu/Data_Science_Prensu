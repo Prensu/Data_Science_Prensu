{
 "cells": [
  {
   "cell_type": "code",
   "execution_count": 1,
   "id": "8b4ad07d-b650-4a47-b8e9-da5fe92713eb",
   "metadata": {},
   "outputs": [
    {
     "name": "stdout",
     "output_type": "stream",
     "text": [
      "['ALFRED', 'TABITHA', 'WILLIAM', 'ARLA']\n"
     ]
    }
   ],
   "source": [
    "persons = ['alfred', 'tabitha', 'william', 'arla']\n",
    "uppered_persons = []\n",
    "\n",
    "\n",
    "for person in persons:\n",
    "    persons_ = person.upper()\n",
    "    uppered_persons.append(persons_)\n",
    "    \n",
    "\n",
    "print(uppered_persons)"
   ]
  },
  {
   "cell_type": "code",
   "execution_count": 6,
   "id": "49c1acb3-9bab-40d6-8ddf-9de51a171037",
   "metadata": {},
   "outputs": [
    {
     "name": "stdout",
     "output_type": "stream",
     "text": [
      "['HARRY', 'KANE', 'MICKY', 'MOUSE']\n"
     ]
    }
   ],
   "source": [
    "people=['harry','kane','micky','mouse']\n",
    "footballers=[]\n",
    "\n",
    "for person in people:\n",
    "    c_people=person.upper()\n",
    "    footballers.append(c_people)\n",
    "print(footballers)"
   ]
  },
  {
   "cell_type": "code",
   "execution_count": 10,
   "id": "a99c51d7-bb7d-4356-b0b4-da3220d4dbe3",
   "metadata": {},
   "outputs": [
    {
     "name": "stdout",
     "output_type": "stream",
     "text": [
      "['HARRY', 'KANE', 'MICKY', 'MOUSE']\n"
     ]
    }
   ],
   "source": [
    "people=['harry','kane','micky','mouse']\n",
    "wtf=list(map(str.upper,people))\n",
    "print(wtf)"
   ]
  },
  {
   "cell_type": "code",
   "execution_count": null,
   "id": "35d72cdc-ca00-49d1-9f81-0112fcde9b9e",
   "metadata": {},
   "outputs": [],
   "source": [
    "#list(map(function,iterable))"
   ]
  },
  {
   "cell_type": "code",
   "execution_count": 12,
   "id": "a42a9095-769a-44f4-91e0-d315a04cc842",
   "metadata": {},
   "outputs": [
    {
     "name": "stdout",
     "output_type": "stream",
     "text": [
      "[6.6, 9.58, 4.009, 56.2424, 9.01344, 32.00013]\n"
     ]
    }
   ],
   "source": [
    "circle_areas = [6.56773, 9.57668, 4.00914, 56.24241, 9.01344, 32.00013]\n",
    "\n",
    "\n",
    "result = list(map(round, circle_areas, range(1,7)))  #round decimal places to round \n",
    "\n",
    "\n",
    "print(result)"
   ]
  },
  {
   "cell_type": "code",
   "execution_count": 13,
   "id": "2c4b56fd-cbfe-4bf2-af7a-43ed7347ce64",
   "metadata": {},
   "outputs": [
    {
     "name": "stdout",
     "output_type": "stream",
     "text": [
      "[('a', 1), ('b', 2), ('c', 3), ('d', 4), ('e', 5)]\n"
     ]
    }
   ],
   "source": [
    "my_chars = ['a', 'b', 'c', 'd', 'e']\n",
    "my_nums = [1,2,3,4,5]\n",
    "\n",
    "\n",
    "result = list(zip(my_chars, my_nums))\n",
    "\n",
    "\n",
    "print(result)"
   ]
  },
  {
   "cell_type": "code",
   "execution_count": 14,
   "id": "8c0156a4-524b-4c4c-ab3b-95984655c8d7",
   "metadata": {},
   "outputs": [
    {
     "name": "stdout",
     "output_type": "stream",
     "text": [
      "[('Alice', 25), ('Bob', 30), ('Charlie', 35)]\n"
     ]
    }
   ],
   "source": [
    "# Two lists\n",
    "names = [\"Alice\", \"Bob\", \"Charlie\"]\n",
    "ages = [25, 30, 35]\n",
    "\n",
    "# Use zip to combine the lists\n",
    "combined = zip(names, ages)\n",
    "\n",
    "# Convert the zip object to a list to print the result\n",
    "print(list(combined))\n",
    "\n",
    "# Outputs: [('Alice', 25), ('Bob', 30), ('Charlie', 35)]"
   ]
  },
  {
   "cell_type": "markdown",
   "id": "2418104f-0364-4567-b2b9-ac6b17d8e085",
   "metadata": {},
   "source": [
    "usage of filter"
   ]
  },
  {
   "cell_type": "code",
   "execution_count": 15,
   "id": "89a2af05-ab0f-4a4d-8e40-ab227e65fb2c",
   "metadata": {},
   "outputs": [
    {
     "name": "stdout",
     "output_type": "stream",
     "text": [
      "[90, 88, 81, 92, 85]\n"
     ]
    }
   ],
   "source": [
    "scores = [66, 90, 68, 59, 76, 60, 88, 74, 81, 65, 92, 85]\n",
    "\n",
    "\n",
    "def is_A_student(score):\n",
    "    return score > 80\n",
    "    \n",
    "\n",
    "passing = list(filter(is_A_student, scores))\n",
    "\n",
    "\n",
    "print(passing)"
   ]
  },
  {
   "cell_type": "code",
   "execution_count": 20,
   "id": "fb9d2e6d-c571-4b54-a512-2a547647b87f",
   "metadata": {},
   "outputs": [
    {
     "name": "stdout",
     "output_type": "stream",
     "text": [
      "[67, 89, 99]\n"
     ]
    }
   ],
   "source": [
    "marks=[33,55,67,89,99,11]\n",
    "good_marks=list(filter(lambda mark:mark>55,marks))\n",
    "print(good_marks)"
   ]
  },
  {
   "cell_type": "code",
   "execution_count": 21,
   "id": "f9f732eb-810e-4186-9ce5-b029a695626e",
   "metadata": {},
   "outputs": [
    {
     "name": "stdout",
     "output_type": "stream",
     "text": [
      "['madam', 'salas', 'PHP']\n"
     ]
    }
   ],
   "source": [
    "myStrings = (\"demigod\", \"rewire\", \"madam\", \"fortran\", \"python\", \"xamarin\", \"salas\", \"PHP\")\n",
    "\n",
    "\n",
    "palindromes = list(filter(lambda word: word == word[::-1], myStrings))\n",
    "\n",
    "\n",
    "print(palindromes)"
   ]
  },
  {
   "cell_type": "code",
   "execution_count": 23,
   "id": "520dd5d8-e760-4a01-a855-020287bd0fc3",
   "metadata": {},
   "outputs": [
    {
     "name": "stdout",
     "output_type": "stream",
     "text": [
      "['php', 'civic', 'level', 'madam']\n"
     ]
    }
   ],
   "source": [
    "words=['php','good','civic','level','madam','aakash', 'mouse','laila','majnu']\n",
    "wtf=list(filter(lambda word: word == word[::-1],words))\n",
    "print(wtf)"
   ]
  },
  {
   "cell_type": "markdown",
   "id": "2d87f0ea-ea9e-49b4-b21e-23c899e83174",
   "metadata": {},
   "source": [
    "Reduce"
   ]
  },
  {
   "cell_type": "code",
   "execution_count": 24,
   "id": "35fd5912-1702-493f-817b-1fe6632df74f",
   "metadata": {},
   "outputs": [
    {
     "name": "stdout",
     "output_type": "stream",
     "text": [
      "68\n"
     ]
    }
   ],
   "source": [
    "from functools import reduce\n",
    "\n",
    "\n",
    "myNumbers = [3, 4, 6, 9, 34, 12]\n",
    "\n",
    "\n",
    "def custom_sum(first, second):\n",
    "    return first + second\n",
    "    \n",
    "\n",
    "result = reduce(custom_sum, myNumbers)\n",
    "print(result)"
   ]
  },
  {
   "cell_type": "code",
   "execution_count": 25,
   "id": "ba0f1e2e-87e9-493e-93fa-9eebb7bfa021",
   "metadata": {},
   "outputs": [
    {
     "name": "stdout",
     "output_type": "stream",
     "text": [
      "12000\n"
     ]
    }
   ],
   "source": [
    "from functools import reduce \n",
    "mero_numbers=[2,10,10,3,4,5]\n",
    "\n",
    "def custom_mula(a,b):\n",
    "    return a*b\n",
    "\n",
    "result=reduce(custom_mula,mero_numbers)\n",
    "print(result)"
   ]
  },
  {
   "cell_type": "code",
   "execution_count": 28,
   "id": "5caa4390-e768-41d1-a202-06f7c3770dea",
   "metadata": {},
   "outputs": [
    {
     "name": "stdout",
     "output_type": "stream",
     "text": [
      "16000\n"
     ]
    }
   ],
   "source": [
    "from functools import reduce\n",
    "\n",
    "\n",
    "myNumbers = [10, 4, 5, 4, 2, 1]\n",
    "\n",
    "\n",
    "def custom_sum(first, second):\n",
    "    return first*second\n",
    "    \n",
    "\n",
    "result = reduce(custom_sum, myNumbers, 10)\n",
    "print(result)"
   ]
  },
  {
   "cell_type": "code",
   "execution_count": 35,
   "id": "c67968fe-51c6-465f-bd6b-299b7ead70b3",
   "metadata": {},
   "outputs": [
    {
     "name": "stdout",
     "output_type": "stream",
     "text": [
      "['4.350', '6.090', '3.250', '9.770', '2.160', '8.880', '4.590']\n",
      "['olumide', 'akinremi', 'temidayo', 'omoseun']\n",
      "24840\n"
     ]
    }
   ],
   "source": [
    "from functools import reduce\n",
    "\n",
    "\n",
    "# Use map to print the square of each numbers rounded\n",
    "# to three decimal places\n",
    "my_floats = [4.35, 6.09, 3.25, 9.77, 2.16, 8.88, 4.59]\n",
    "\n",
    "\n",
    "\n",
    "# Use filter to print only the names that are less than\n",
    "# or equal to seven letters\n",
    "my_names = [\"olumide\", \"akinremi\", \"josiah\", \"temidayo\", \"omoseun\"]\n",
    "\n",
    "\n",
    "\n",
    "# Use reduce to print the product of these numbers\n",
    "my_numbers = [4, 6, 9, 23, 5]\n",
    "\n",
    "\n",
    "\n",
    "\n",
    "# Fix all three respectively.\n",
    "my=list(map(lambda n:format(n,'.3f'),my_floats))\n",
    "ff=list(filter(lambda name:len(name)>=7,my_names))\n",
    "product=reduce(lambda a,b:a*b ,my_numbers)\n",
    "\n",
    "\n",
    "print(my)\n",
    "print(ff)\n",
    "print(product)"
   ]
  },
  {
   "cell_type": "code",
   "execution_count": null,
   "id": "f666c9e7-f1c8-4d68-87ac-cbd954d40a44",
   "metadata": {},
   "outputs": [],
   "source": []
  }
 ],
 "metadata": {
  "kernelspec": {
   "display_name": "Python 3 (ipykernel)",
   "language": "python",
   "name": "python3"
  },
  "language_info": {
   "codemirror_mode": {
    "name": "ipython",
    "version": 3
   },
   "file_extension": ".py",
   "mimetype": "text/x-python",
   "name": "python",
   "nbconvert_exporter": "python",
   "pygments_lexer": "ipython3",
   "version": "3.12.4"
  }
 },
 "nbformat": 4,
 "nbformat_minor": 5
}
