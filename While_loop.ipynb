{
  "nbformat": 4,
  "nbformat_minor": 0,
  "metadata": {
    "colab": {
      "provenance": [],
      "authorship_tag": "ABX9TyO/rePRtAC3Qy+Xrk/f8zC9",
      "include_colab_link": true
    },
    "kernelspec": {
      "name": "python3",
      "display_name": "Python 3"
    },
    "language_info": {
      "name": "python"
    }
  },
  "cells": [
    {
      "cell_type": "markdown",
      "metadata": {
        "id": "view-in-github",
        "colab_type": "text"
      },
      "source": [
        "<a href=\"https://colab.research.google.com/github/Prensu/Data_Science_Prensu/blob/main/While_loop.ipynb\" target=\"_parent\"><img src=\"https://colab.research.google.com/assets/colab-badge.svg\" alt=\"Open In Colab\"/></a>"
      ]
    },
    {
      "cell_type": "markdown",
      "source": [
        "Question No .1) Write a program to ask user to enter a postive integer and and then uses a loop to calculate and print the sum of all integers from to that integer\n"
      ],
      "metadata": {
        "id": "GUDHBHk8n_SL"
      }
    },
    {
      "cell_type": "code",
      "execution_count": 3,
      "metadata": {
        "colab": {
          "base_uri": "https://localhost:8080/"
        },
        "id": "5i0zPCcdn9Ge",
        "outputId": "212641e9-ed90-4f18-fed2-dfbe2b9bbcb7"
      },
      "outputs": [
        {
          "output_type": "stream",
          "name": "stdout",
          "text": [
            "Enter a positive number: 5\n",
            "The sum of all numbers from 1 to 5 is : 1\n",
            "The sum of all numbers from 2 to 5 is : 3\n",
            "The sum of all numbers from 3 to 5 is : 6\n",
            "The sum of all numbers from 4 to 5 is : 10\n",
            "The sum of all numbers from 5 to 5 is : 15\n"
          ]
        }
      ],
      "source": [
        "num=int(input(\"Enter a positive number: \"))\n",
        "\n",
        "if(num<=0):\n",
        "  print(\"please enter a positive number\")\n",
        "else:\n",
        "  total=0\n",
        "  for i in range(1,num+1):\n",
        "    total+=i\n",
        "    print(f\"The sum of all numbers from {i} to {num} is : {total}\")\n"
      ]
    },
    {
      "cell_type": "markdown",
      "source": [
        "***Now using while loop for the same question no 1 text***"
      ],
      "metadata": {
        "id": "pDAVwKLTpRVq"
      }
    },
    {
      "cell_type": "code",
      "source": [
        "num=int(input(\"Enter a positive number:\"))\n",
        "\n",
        "if num<=0:\n",
        "  print(\"Please enter a valid number\")\n",
        "else:\n",
        "  total=0\n",
        "  i=1\n",
        "  while i<=num:\n",
        "    total+=i\n",
        "    i+=1\n",
        "print(f\"The sum of all positive numbers from 1 to {num} is : {total}\")\n"
      ],
      "metadata": {
        "colab": {
          "base_uri": "https://localhost:8080/"
        },
        "id": "3PXD-9_OpAGT",
        "outputId": "a0f64d35-d273-4a8f-ce68-939579e14026"
      },
      "execution_count": 8,
      "outputs": [
        {
          "output_type": "stream",
          "name": "stdout",
          "text": [
            "Enter a positive number:8\n",
            "The sum of all positive numbers from 1 to 8 is : 36\n"
          ]
        }
      ]
    },
    {
      "cell_type": "markdown",
      "source": [
        "Question no 2.The population of Nepal is currently 29 million. The population growth rate is 1.1% per year. Write a program that calculates and prints the projected population of Nepal after 5 years, 10 years, and 15 years, using a for loop."
      ],
      "metadata": {
        "id": "dnXiiWobvkyi"
      }
    },
    {
      "cell_type": "code",
      "source": [
        "current_population=29000000\n",
        "growth_rate=1.1/100\n",
        "year_list=[5,10,15]\n",
        "for year in year_list:\n",
        "        projected_population=current_population*(1+growth_rate)**year\n",
        "        print(f\"The projected population of nepal in {year}years is {projected_population:.0f}\")"
      ],
      "metadata": {
        "colab": {
          "base_uri": "https://localhost:8080/"
        },
        "id": "ZvDZlJMqvka0",
        "outputId": "c096cb24-43f1-4df6-aef2-52b91151f3bd"
      },
      "execution_count": 9,
      "outputs": [
        {
          "output_type": "stream",
          "name": "stdout",
          "text": [
            "The projected population of nepal in 5years is 30630478\n",
            "The projected population of nepal in 10years is 32352627\n",
            "The projected population of nepal in 15years is 34171601\n"
          ]
        }
      ]
    },
    {
      "cell_type": "markdown",
      "source": [
        "Question no 3:A trekker is planning a hike in the Annapurna region of Nepal. The trek involves a total elevation gain of 10,000 meters. The trekker can gain 500 meters of elevation per day. Write a program that calculates and prints the number of days it will take the trekker to complete the trek, using a while loop.\n"
      ],
      "metadata": {
        "id": "v6P_GP2jvu58"
      }
    },
    {
      "cell_type": "code",
      "source": [
        "total_elevation_gain=10_000\n",
        "daily_elevation_gain=500\n",
        "current_elevation_gain=0\n",
        "days=0\n",
        "while current_elevation_gain<10_000:\n",
        "    current_elevation_gain+=daily_elevation_gain\n",
        "    days+=1\n",
        "\n",
        "print(f\"so the trekker to annapurna will take {days}days to climb {current_elevation_gain}\")\n",
        ""
      ],
      "metadata": {
        "colab": {
          "base_uri": "https://localhost:8080/"
        },
        "id": "trlNR7WFvtTr",
        "outputId": "c76aba71-2d4b-4331-8a56-cf80c175342b"
      },
      "execution_count": 10,
      "outputs": [
        {
          "output_type": "stream",
          "name": "stdout",
          "text": [
            "so the trekker to annapurna will take 20days to climb 10000\n"
          ]
        }
      ]
    },
    {
      "cell_type": "markdown",
      "source": [
        "Question no:4 .An earthquake struck a region in Nepal, and the government needs to assess the damage. The earthquake had a magnitude of 7.8 on the Richter scale. For every 0.1 increase in magnitude, the damage increases by 30%. Write a program that calculates and prints the percentage of damage caused by the earthquake, using an f-string.\n"
      ],
      "metadata": {
        "id": "1W8LqPsB1NSM"
      }
    },
    {
      "cell_type": "code",
      "source": [],
      "metadata": {
        "id": "G8ZTqtHz1TbD"
      },
      "execution_count": null,
      "outputs": []
    },
    {
      "cell_type": "markdown",
      "source": [
        "Question 5: Write a program that allows a user to check their account balance at Everest Bank. The program should prompt the user to enter their account number and then display the current balance. Use a while loop to handle invalid account numbers."
      ],
      "metadata": {
        "id": "JLb_VngX3Ts8"
      }
    },
    {
      "cell_type": "code",
      "source": [
        "# Predefined account numbers and their balances\n",
        "accounts = {\n",
        "    '12345678': 1500.75,\n",
        "    '87654321': 2300.50,\n",
        "    '11223344': 3200.00,\n",
        "    '44332211': 2750.25\n",
        "}\n",
        "\n",
        "# Prompt user to enter account number\n",
        "while True:\n",
        "    account_number = input(\"Please enter your account number: \")\n",
        "    if account_number in accounts:\n",
        "        balance = accounts[account_number]\n",
        "        print(f\"The current balance for account {account_number} is: {balance:.2f}nrs\")\n",
        "        break\n",
        "    else:\n",
        "        print(\"Invalid account number. Please try again.\")\n"
      ],
      "metadata": {
        "colab": {
          "base_uri": "https://localhost:8080/"
        },
        "id": "SqkGcw6b3n_L",
        "outputId": "a74698da-9d78-4525-cdaf-23b713759b90"
      },
      "execution_count": 12,
      "outputs": [
        {
          "output_type": "stream",
          "name": "stdout",
          "text": [
            "Please enter your account number: 12345678\n",
            "The current balance for account 12345678 is: 1500.75nrs\n"
          ]
        }
      ]
    },
    {
      "cell_type": "code",
      "source": [],
      "metadata": {
        "id": "CnVcOUy041NS"
      },
      "execution_count": null,
      "outputs": []
    }
  ]
}