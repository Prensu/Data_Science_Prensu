{
  "nbformat": 4,
  "nbformat_minor": 0,
  "metadata": {
    "colab": {
      "provenance": [],
      "authorship_tag": "ABX9TyNwVKlpc/lC7FBAl/rYkZ1T",
      "include_colab_link": true
    },
    "kernelspec": {
      "name": "python3",
      "display_name": "Python 3"
    },
    "language_info": {
      "name": "python"
    }
  },
  "cells": [
    {
      "cell_type": "markdown",
      "metadata": {
        "id": "view-in-github",
        "colab_type": "text"
      },
      "source": [
        "<a href=\"https://colab.research.google.com/github/Prensu/Data_Science_Prensu/blob/main/class_and_object.ipynb\" target=\"_parent\"><img src=\"https://colab.research.google.com/assets/colab-badge.svg\" alt=\"Open In Colab\"/></a>"
      ]
    },
    {
      "cell_type": "code",
      "execution_count": 6,
      "metadata": {
        "id": "QkV7BxBCb65V"
      },
      "outputs": [],
      "source": [
        "class Car:\n",
        "  def __init__(self,make,model,year):\n",
        "    self.make=make\n",
        "    self.model=model\n",
        "    self.year=year\n",
        "\n",
        "  def display_info(self):\n",
        "      return f\"{self.year} {self.make} {self.model}\""
      ]
    },
    {
      "cell_type": "code",
      "source": [
        "car1=Car(\"BYD\",\"CHINA\",2023)\n",
        "car2=Car(\"Tata\",\"India\",2023)"
      ],
      "metadata": {
        "id": "SHPdwSNAcaMV"
      },
      "execution_count": 7,
      "outputs": []
    },
    {
      "cell_type": "code",
      "source": [
        "print(car1.display_info())\n",
        "print(car2.display_info())"
      ],
      "metadata": {
        "colab": {
          "base_uri": "https://localhost:8080/"
        },
        "id": "-qSp8XXqcwfa",
        "outputId": "da0576f8-34f8-4b6c-ed08-75da8e967672"
      },
      "execution_count": 9,
      "outputs": [
        {
          "output_type": "stream",
          "name": "stdout",
          "text": [
            "2023 BYD CHINA\n",
            "2023 Tata India\n"
          ]
        }
      ]
    },
    {
      "cell_type": "markdown",
      "source": [
        "Create a class Company that initializes the attributes employee_name, employee_salary in the _init_ function.\n",
        "Create a class function get_emp_detail that stores the employee's record in the form of\n",
        "\"Employee name is {{employee_name}} and the salary is {{employee_salary}}\"\n",
        "Define another method salary_after_tax_cut which takes the employee's salary and cuts 13% from it and returns Salary after tax cut: {self.new_salary}"
      ],
      "metadata": {
        "id": "5RcIqbiZeZpX"
      }
    },
    {
      "cell_type": "code",
      "source": [
        "class Company:\n",
        "  def __init__(self,employee_name,employee_salary):\n",
        "    self.employee_name=employee_name\n",
        "    self.employee_salary=employee_salary\n",
        "\n",
        "    def get_emp_detail(self):\n",
        "      return f\"Employee name is {self.employee}\"and the salary is {employee_salary}\n",
        "\n",
        "    def salary_tax_cut(self):\n",
        ""
      ],
      "metadata": {
        "id": "N48l8FDAee42"
      },
      "execution_count": null,
      "outputs": []
    },
    {
      "cell_type": "markdown",
      "source": [
        "[Task] Create a class called Student with attributes name, age, and marks. Write a method within the class called has_distinction that checks if a student has passed with distinction based on their marks. If the mark is greater than or equal to 80, the method should return a congratulatory message mentioning the student's name and the fact that they passed with distinction. Otherwise, it should return a message addressing the student by name and wishing them better luck next time for achieving the distinction."
      ],
      "metadata": {
        "id": "LQAYdiRLhVqT"
      }
    },
    {
      "cell_type": "code",
      "source": [
        "class student:\n",
        "  def __init__(self,name,age,marks):\n",
        "    self.name=name\n",
        "    self.age=age\n",
        "    self.marks=marks\n",
        "\n",
        "  def has_distinction(self):\n",
        "    if self.marks>=80:\n",
        "      return f\"congratulations {self.name} on receiving distinction\"\n",
        "    else:\n",
        "      return f\" {self.name} , you done progress but better luck next time for achiving distinction!\"\n",
        "\n",
        "student1=student(\"John\",20,90)\n",
        "print(student1.has_distinction())"
      ],
      "metadata": {
        "colab": {
          "base_uri": "https://localhost:8080/"
        },
        "id": "8tHGrhkEhXd6",
        "outputId": "314eb0bd-4939-4a4d-a6bb-7f142321479d"
      },
      "execution_count": 17,
      "outputs": [
        {
          "output_type": "stream",
          "name": "stdout",
          "text": [
            "congratulations John on receiving distinction\n"
          ]
        }
      ]
    },
    {
      "cell_type": "code",
      "source": [],
      "metadata": {
        "id": "llUaikKEigzt"
      },
      "execution_count": null,
      "outputs": []
    }
  ]
}