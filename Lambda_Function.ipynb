{
  "nbformat": 4,
  "nbformat_minor": 0,
  "metadata": {
    "colab": {
      "provenance": []
    },
    "kernelspec": {
      "name": "python3",
      "display_name": "Python 3"
    },
    "language_info": {
      "name": "python"
    }
  },
  "cells": [
    {
      "cell_type": "markdown",
      "source": [
        "# **Python Lambda Function**"
      ],
      "metadata": {
        "id": "ERlDySfkrQfx"
      }
    },
    {
      "cell_type": "code",
      "execution_count": null,
      "metadata": {
        "id": "TIky9ct5rNy0"
      },
      "outputs": [],
      "source": [
        "# Anonymous function\n",
        "# is a function defined without a name\n",
        "# def - normal function\n",
        "# lambda - keyword\n",
        "\n",
        "\n",
        "# Characteristics\n",
        "  # The lamdba function can take many arguments but can return only one expression.\n",
        "   # The expression is nothing but the result returned by the lamdba function\n",
        "  # Lamdba function are restricted to return a single expression.\n",
        "  # You can use them as an anonymous function inside other functions.\n",
        "  # The lambda function do not need a return statement, they always return a single expression\n",
        "  # The lamdba function is more powerful and faster than the regular function."
      ]
    },
    {
      "cell_type": "code",
      "source": [
        "# lamdba argument: expression"
      ],
      "metadata": {
        "id": "sn3u8rFRtzrZ"
      },
      "execution_count": null,
      "outputs": []
    },
    {
      "cell_type": "code",
      "source": [
        "add = lambda a: a + a\n",
        "print(add(5))\n",
        "# lamdba is a keyword and a is an arugument or you can say it as a varibale.\n",
        "# a + a is the expression, remember that we are trying to add two numbers (a+a)\n",
        "# we are now just calling a normal function, we shall call teh lambda function with it's variable name and by sending\n",
        "# 5 as a parameter\n",
        "# single data output"
      ],
      "metadata": {
        "colab": {
          "base_uri": "https://localhost:8080/"
        },
        "id": "-KrpVzBLt7Lf",
        "outputId": "18cac7c0-4280-4d18-9f15-009e97b7c9db"
      },
      "execution_count": null,
      "outputs": [
        {
          "output_type": "stream",
          "name": "stdout",
          "text": [
            "10\n"
          ]
        }
      ]
    },
    {
      "cell_type": "code",
      "source": [
        "add = lambda a, b, c: a + b + c\n",
        "print(add(5, 5, 5))"
      ],
      "metadata": {
        "colab": {
          "base_uri": "https://localhost:8080/"
        },
        "id": "Sc0-fqwivR1K",
        "outputId": "98a542f9-b891-49ab-97fa-f7f8f58c126e"
      },
      "execution_count": null,
      "outputs": [
        {
          "output_type": "stream",
          "name": "stdout",
          "text": [
            "15\n"
          ]
        }
      ]
    },
    {
      "cell_type": "markdown",
      "source": [
        "# Adding three numbers using the normal function"
      ],
      "metadata": {
        "id": "5n_naFUEw_Lb"
      }
    },
    {
      "cell_type": "code",
      "source": [
        "def add(a,b,c):\n",
        "  return a + b + c\n",
        "result = add(10,10,10)\n",
        "print(result)"
      ],
      "metadata": {
        "colab": {
          "base_uri": "https://localhost:8080/"
        },
        "id": "UmXwXlIWwXp4",
        "outputId": "727072d4-a472-4866-e4da-17a974955994"
      },
      "execution_count": null,
      "outputs": [
        {
          "output_type": "stream",
          "name": "stdout",
          "text": [
            "30\n"
          ]
        }
      ]
    },
    {
      "cell_type": "code",
      "source": [
        "print(type(result))"
      ],
      "metadata": {
        "colab": {
          "base_uri": "https://localhost:8080/"
        },
        "id": "T4WdzZoRxLIn",
        "outputId": "95d0365a-c460-492a-925f-5a6c69b22c99"
      },
      "execution_count": null,
      "outputs": [
        {
          "output_type": "stream",
          "name": "stdout",
          "text": [
            "<class 'int'>\n"
          ]
        }
      ]
    },
    {
      "cell_type": "code",
      "source": [
        "add = lambda a, b, c: a + b + c\n",
        "print(add(10, 10, 10))"
      ],
      "metadata": {
        "colab": {
          "base_uri": "https://localhost:8080/"
        },
        "id": "m4yXAQFcxPQ9",
        "outputId": "eee8d7e8-b0f7-49bb-8d40-78a6ac93372f"
      },
      "execution_count": null,
      "outputs": [
        {
          "output_type": "stream",
          "name": "stdout",
          "text": [
            "30\n"
          ]
        }
      ]
    },
    {
      "cell_type": "code",
      "source": [
        "print(type(add))"
      ],
      "metadata": {
        "colab": {
          "base_uri": "https://localhost:8080/"
        },
        "id": "Ppu8ZixqxYFJ",
        "outputId": "b46457ee-8bb9-43cd-f02c-e61278ca3d6d"
      },
      "execution_count": null,
      "outputs": [
        {
          "output_type": "stream",
          "name": "stdout",
          "text": [
            "<class 'function'>\n"
          ]
        }
      ]
    },
    {
      "cell_type": "code",
      "source": [
        "check_even_odd = lambda x: \"even\" if x % 2 == 0 else \"odd\"\n",
        "print(check_even_odd(10))"
      ],
      "metadata": {
        "colab": {
          "base_uri": "https://localhost:8080/"
        },
        "id": "gGau_YWBxceC",
        "outputId": "6fa38dff-9816-42d0-97b2-46530d335f13"
      },
      "execution_count": null,
      "outputs": [
        {
          "output_type": "stream",
          "name": "stdout",
          "text": [
            "even\n"
          ]
        }
      ]
    },
    {
      "cell_type": "code",
      "source": [
        "tuples = [(1,5), (3,8), (2,3), (5, 1)]\n",
        "sorted_list = sorted(tuples, key = lambda x: x[1])\n",
        "# it will extracr the second element of each tuple for comparision during the sorting process\n",
        "print(sorted_list)"
      ],
      "metadata": {
        "colab": {
          "base_uri": "https://localhost:8080/"
        },
        "id": "53Irkuv0z1Bb",
        "outputId": "e3314e03-bfb7-46ce-b667-d1a92a7e4351"
      },
      "execution_count": null,
      "outputs": [
        {
          "output_type": "stream",
          "name": "stdout",
          "text": [
            "[(5, 1), (2, 3), (1, 5), (3, 8)]\n"
          ]
        }
      ]
    },
    {
      "cell_type": "code",
      "source": [],
      "metadata": {
        "id": "--2wPXy10vTI"
      },
      "execution_count": null,
      "outputs": []
    }
  ]
}