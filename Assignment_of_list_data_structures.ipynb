{
  "nbformat": 4,
  "nbformat_minor": 0,
  "metadata": {
    "colab": {
      "provenance": [],
      "authorship_tag": "ABX9TyN5ewdalUuiwmHzW5bfx5zk",
      "include_colab_link": true
    },
    "kernelspec": {
      "name": "python3",
      "display_name": "Python 3"
    },
    "language_info": {
      "name": "python"
    }
  },
  "cells": [
    {
      "cell_type": "markdown",
      "metadata": {
        "id": "view-in-github",
        "colab_type": "text"
      },
      "source": [
        "<a href=\"https://colab.research.google.com/github/Prensu/Data_Science_Prensu/blob/main/Assignment_of_list_data_structures.ipynb\" target=\"_parent\"><img src=\"https://colab.research.google.com/assets/colab-badge.svg\" alt=\"Open In Colab\"/></a>"
      ]
    },
    {
      "cell_type": "markdown",
      "source": [
        "To find the min max and length of the lists"
      ],
      "metadata": {
        "id": "ZolATqvb9VRU"
      }
    },
    {
      "cell_type": "code",
      "execution_count": null,
      "metadata": {
        "colab": {
          "base_uri": "https://localhost:8080/"
        },
        "id": "IWt-BCj48l9b",
        "outputId": "1a057518-ba29-4b27-e001-506111e5de5e"
      },
      "outputs": [
        {
          "output_type": "stream",
          "name": "stdout",
          "text": [
            "6\n",
            "10\n",
            "99\n"
          ]
        }
      ],
      "source": [
        "hello=[34,67,89,45,10,99]\n",
        "x=len(hello)\n",
        "y=min(hello)\n",
        "z=max(hello)\n",
        "print(x)\n",
        "print(y)\n",
        "print(z)\n"
      ]
    },
    {
      "cell_type": "markdown",
      "source": [
        "to find the total sum of the list"
      ],
      "metadata": {
        "id": "RgpQl4LC9caC"
      }
    },
    {
      "cell_type": "markdown",
      "source": [],
      "metadata": {
        "id": "eD7HOKgBWT9I"
      }
    },
    {
      "cell_type": "code",
      "source": [
        "total=sum(hello)"
      ],
      "metadata": {
        "id": "tPcGKL4A8njV"
      },
      "execution_count": null,
      "outputs": []
    },
    {
      "cell_type": "code",
      "source": [
        "total"
      ],
      "metadata": {
        "colab": {
          "base_uri": "https://localhost:8080/"
        },
        "id": "mUERsTo19IDn",
        "outputId": "0e7b8653-5a5d-4ac4-e9ea-8eb9b30b8969"
      },
      "execution_count": null,
      "outputs": [
        {
          "output_type": "execute_result",
          "data": {
            "text/plain": [
              "344"
            ]
          },
          "metadata": {},
          "execution_count": 12
        }
      ]
    },
    {
      "cell_type": "code",
      "source": [
        "string=\"Anmol Kc\"\n",
        "list_string=list(string)\n",
        "list_string\n"
      ],
      "metadata": {
        "colab": {
          "base_uri": "https://localhost:8080/",
          "height": 176
        },
        "id": "clsKvjlW9JHl",
        "outputId": "9f04add0-44d4-4784-ffb2-3ef1625648e2"
      },
      "execution_count": null,
      "outputs": [
        {
          "output_type": "error",
          "ename": "TypeError",
          "evalue": "'list' object is not callable",
          "traceback": [
            "\u001b[0;31m---------------------------------------------------------------------------\u001b[0m",
            "\u001b[0;31mTypeError\u001b[0m                                 Traceback (most recent call last)",
            "\u001b[0;32m<ipython-input-14-25065569595c>\u001b[0m in \u001b[0;36m<cell line: 2>\u001b[0;34m()\u001b[0m\n\u001b[1;32m      1\u001b[0m \u001b[0mstring\u001b[0m\u001b[0;34m=\u001b[0m\u001b[0;34m\"Anmol Kc\"\u001b[0m\u001b[0;34m\u001b[0m\u001b[0;34m\u001b[0m\u001b[0m\n\u001b[0;32m----> 2\u001b[0;31m \u001b[0mlist_string\u001b[0m\u001b[0;34m=\u001b[0m\u001b[0mlist\u001b[0m\u001b[0;34m(\u001b[0m\u001b[0mstring\u001b[0m\u001b[0;34m)\u001b[0m\u001b[0;34m\u001b[0m\u001b[0;34m\u001b[0m\u001b[0m\n\u001b[0m\u001b[1;32m      3\u001b[0m \u001b[0mlist_string\u001b[0m\u001b[0;34m\u001b[0m\u001b[0;34m\u001b[0m\u001b[0m\n",
            "\u001b[0;31mTypeError\u001b[0m: 'list' object is not callable"
          ]
        }
      ]
    },
    {
      "cell_type": "markdown",
      "source": [],
      "metadata": {
        "id": "ohRRyyph91eV"
      }
    },
    {
      "cell_type": "code",
      "source": [
        "students=['ram','unita','aunty']\n",
        "for index,student  in enumerate(students, start=3):\n",
        "  print(f\"{index}.{student}\")\n"
      ],
      "metadata": {
        "colab": {
          "base_uri": "https://localhost:8080/"
        },
        "id": "2dApB3FQ_BBa",
        "outputId": "ba393064-4c3a-4d88-dee7-ea736b93ba49"
      },
      "execution_count": null,
      "outputs": [
        {
          "output_type": "stream",
          "name": "stdout",
          "text": [
            "3.ram\n",
            "4.unita\n",
            "5.aunty\n"
          ]
        }
      ]
    },
    {
      "cell_type": "code",
      "source": [
        "numbers=[1,2,3,4,5]\n",
        "positive =all(num >0 for num in numbers)\n",
        "positive"
      ],
      "metadata": {
        "colab": {
          "base_uri": "https://localhost:8080/"
        },
        "id": "xknONfCZ_O3F",
        "outputId": "1f3c54fc-1b15-4793-f2bf-9906593504e8"
      },
      "execution_count": null,
      "outputs": [
        {
          "output_type": "execute_result",
          "data": {
            "text/plain": [
              "True"
            ]
          },
          "metadata": {},
          "execution_count": 23
        }
      ]
    },
    {
      "cell_type": "markdown",
      "source": [
        "Write a program that prompts the user to input the names of 5 individuals interested in joining a trekking expedition in Nepal. Store these names in a list and then use a for loop to iterate through the list and print a message for each member using an f-string."
      ],
      "metadata": {
        "id": "03PML7cxDpM7"
      }
    },
    {
      "cell_type": "code",
      "source": [
        "trekkers=[]\n",
        "\n",
        "for i in range(5):\n",
        "    trekker=input(f\"Enter your names{i+1}: \")\n",
        "    trekkers.append(trekker)\n",
        "\n",
        "for member in trekkers:\n",
        "    print(f\"{member} is interested in joining trekking expedition\")"
      ],
      "metadata": {
        "colab": {
          "base_uri": "https://localhost:8080/"
        },
        "id": "TebCx-L9AVIj",
        "outputId": "d7fd0d37-8957-4b51-f308-e9b315b9dacb"
      },
      "execution_count": null,
      "outputs": [
        {
          "output_type": "stream",
          "name": "stdout",
          "text": [
            "Enter your names1: miraj\n",
            "Enter your names2: shekh\n",
            "Enter your names3: minaxi =\n",
            "Enter your names4: yakku\n",
            "Enter your names5: bhaskar\n",
            "miraj is interested in joining trekking expedition\n",
            "shekh is interested in joining trekking expedition\n",
            "minaxi = is interested in joining trekking expedition\n",
            "yakku is interested in joining trekking expedition\n",
            "bhaskar is interested in joining trekking expedition\n"
          ]
        }
      ]
    },
    {
      "cell_type": "markdown",
      "source": [
        "Create a program that asks the user to input their top 3 favorite Nepalese dishes. Store these dishes in a list and then use a for loop to iterate through the list and print a customized message for each dish using an f-string"
      ],
      "metadata": {
        "id": "WTeTzwHKWXdE"
      }
    },
    {
      "cell_type": "code",
      "source": [
        "users = ['ram', 'anmol', 'ratan']\n",
        "\n",
        "fav_dishes = []\n",
        "\n",
        "for index, user in enumerate(users):\n",
        "    print(f\"\\nDear {user}, enter your favorite dishes: \")\n",
        "    dishes = []\n",
        "    for i in range(3):\n",
        "        dish = input(f\"Enter dish {i + 1}: \")\n",
        "        dishes.append(dish)\n",
        "    fav_dishes.append(dishes)\n",
        "\n",
        "# here i had to use zip because enumerate was only taking two inputs\n",
        "for index,(user, dishes)in enumerate(zip(users, fav_dishes), start=1):\n",
        "    print(f\"\\n The likes of({user}):\")\n",
        "    for dish in dishes:\n",
        "        print(f\"- {dish}\")\n",
        "\n",
        ""
      ],
      "metadata": {
        "id": "8pMp1qEhDgb1",
        "colab": {
          "base_uri": "https://localhost:8080/"
        },
        "outputId": "9db23628-2606-441f-83e8-a8d13be76640"
      },
      "execution_count": 26,
      "outputs": [
        {
          "output_type": "stream",
          "name": "stdout",
          "text": [
            "\n",
            "Dear ram, enter your favorite dishes: \n",
            "Enter dish 1: bara\n",
            "Enter dish 2: chatamari\n",
            "Enter dish 3: yomari\n",
            "\n",
            "Dear anmol, enter your favorite dishes: \n",
            "Enter dish 1: chicken curry\n",
            "Enter dish 2: dal bhat\n",
            "Enter dish 3: dal puri\n",
            "\n",
            "Dear ratan, enter your favorite dishes: \n",
            "Enter dish 1: kheer\n",
            "Enter dish 2: Qeema\n",
            "Enter dish 3: thukpa\n",
            "\n",
            " The likes of(ram):\n",
            "- bara\n",
            "- chatamari\n",
            "- yomari\n",
            "\n",
            " The likes of(anmol):\n",
            "- chicken curry\n",
            "- dal bhat\n",
            "- dal puri\n",
            "\n",
            " The likes of(ratan):\n",
            "- kheer\n",
            "- Qeema\n",
            "- thukpa\n"
          ]
        }
      ]
    },
    {
      "cell_type": "markdown",
      "source": [
        "Develop a program that takes input from the user for 4 historical sites they plan to visit in Nepal. Store these sites in a list and then use a for loop to iterate through the list and print an itinerary message with the site names using an f-string.\n",
        "\n"
      ],
      "metadata": {
        "id": "sToqZAj6c0rw"
      }
    },
    {
      "cell_type": "code",
      "source": [
        "print(\"Enter the 4 historical sites  when you want to  visit in Nepal: \")\n",
        "historical_sites=[]\n",
        "for i in range(4):\n",
        "  historical_site_name=(input(f\"{i+1}. \"))\n",
        "  historical_sites.append(historical_site_name)\n",
        "print(f\"The list of 4 historical sites are: {historical_sites}\")\n",
        "for historcial_site in historical_sites:\n",
        "  print(f\"Your choice includes visits to {historcial_site}. This historical site gives you a background of nepalese history.You will get the feeling of joy with past \")\n"
      ],
      "metadata": {
        "colab": {
          "base_uri": "https://localhost:8080/"
        },
        "id": "MSkR2NSUYOUZ",
        "outputId": "2bc8619e-4e88-45fe-e0ec-3803dab0aed7"
      },
      "execution_count": 27,
      "outputs": [
        {
          "output_type": "stream",
          "name": "stdout",
          "text": [
            "Enter the 4 historical sites  when you want to  visit in Nepal: \n",
            "1. syambu\n",
            "2. pashupati\n",
            "3. sagarmath\n",
            "4. kanchanjanga\n",
            "The list of 4 historical sites are: ['syambu', 'pashupati', 'sagarmath', 'kanchanjanga']\n",
            "Your choice includes visits to syambu. This historical site gives you a background of nepalese history.You will get the feeling of joy with past \n",
            "Your choice includes visits to pashupati. This historical site gives you a background of nepalese history.You will get the feeling of joy with past \n",
            "Your choice includes visits to sagarmath. This historical site gives you a background of nepalese history.You will get the feeling of joy with past \n",
            "Your choice includes visits to kanchanjanga. This historical site gives you a background of nepalese history.You will get the feeling of joy with past \n"
          ]
        }
      ]
    },
    {
      "cell_type": "code",
      "source": [],
      "metadata": {
        "id": "B36uMn-Ydd51"
      },
      "execution_count": null,
      "outputs": []
    }
  ]
}