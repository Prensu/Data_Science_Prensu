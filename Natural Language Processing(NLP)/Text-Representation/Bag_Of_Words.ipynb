{
 "cells": [
  {
   "cell_type": "markdown",
   "id": "47c78f0b-eba0-4db8-b5ad-c95d3bc22a2f",
   "metadata": {},
   "source": [
    " <span style=\"font-family: 'Arial'; font-size: 24px; font-weight: bold; background-color: yellow; color: black; padding: 5px;\">Bag of Words (BoW) is a simple and widely used technique in natural language processing (NLP) and machine learning for converting text data (like sentences or documents) into numerical features.</span>"
   ]
  },
  {
   "cell_type": "code",
   "execution_count": 1,
   "id": "f6c52cc2-ac59-45f0-a91d-b16e97caae61",
   "metadata": {},
   "outputs": [],
   "source": [
    "import pandas as pd \n",
    "import numpy as np \n"
   ]
  },
  {
   "cell_type": "code",
   "execution_count": 5,
   "id": "894498f2-5a27-4267-9bcb-b2247c7889ff",
   "metadata": {},
   "outputs": [],
   "source": [
    "df=pd.DataFrame({'text':['people watch campusx','campusx watch campusx','people write comment','campusx write comment'],'output':[1,1,0,0]})"
   ]
  },
  {
   "cell_type": "code",
   "execution_count": 6,
   "id": "55f5105e-00c4-4bfa-9bd8-98087bf2db42",
   "metadata": {},
   "outputs": [
    {
     "data": {
      "text/html": [
       "<div>\n",
       "<style scoped>\n",
       "    .dataframe tbody tr th:only-of-type {\n",
       "        vertical-align: middle;\n",
       "    }\n",
       "\n",
       "    .dataframe tbody tr th {\n",
       "        vertical-align: top;\n",
       "    }\n",
       "\n",
       "    .dataframe thead th {\n",
       "        text-align: right;\n",
       "    }\n",
       "</style>\n",
       "<table border=\"1\" class=\"dataframe\">\n",
       "  <thead>\n",
       "    <tr style=\"text-align: right;\">\n",
       "      <th></th>\n",
       "      <th>text</th>\n",
       "      <th>output</th>\n",
       "    </tr>\n",
       "  </thead>\n",
       "  <tbody>\n",
       "    <tr>\n",
       "      <th>0</th>\n",
       "      <td>people watch campusx</td>\n",
       "      <td>1</td>\n",
       "    </tr>\n",
       "    <tr>\n",
       "      <th>1</th>\n",
       "      <td>campusx watch campusx</td>\n",
       "      <td>1</td>\n",
       "    </tr>\n",
       "    <tr>\n",
       "      <th>2</th>\n",
       "      <td>people write comment</td>\n",
       "      <td>0</td>\n",
       "    </tr>\n",
       "    <tr>\n",
       "      <th>3</th>\n",
       "      <td>campusx write comment</td>\n",
       "      <td>0</td>\n",
       "    </tr>\n",
       "  </tbody>\n",
       "</table>\n",
       "</div>"
      ],
      "text/plain": [
       "                    text  output\n",
       "0   people watch campusx       1\n",
       "1  campusx watch campusx       1\n",
       "2   people write comment       0\n",
       "3  campusx write comment       0"
      ]
     },
     "execution_count": 6,
     "metadata": {},
     "output_type": "execute_result"
    }
   ],
   "source": [
    "df"
   ]
  },
  {
   "cell_type": "code",
   "execution_count": 16,
   "id": "494fcfd5-d093-4073-ba01-96658dd3b437",
   "metadata": {},
   "outputs": [],
   "source": [
    "from sklearn.feature_extraction.text import CountVectorizer\n",
    "cv=CountVectorizer()"
   ]
  },
  {
   "cell_type": "code",
   "execution_count": 17,
   "id": "de5bdd54-e451-43f1-b292-b7c0baeb5172",
   "metadata": {},
   "outputs": [
    {
     "name": "stdout",
     "output_type": "stream",
     "text": [
      "0     people watch campusx\n",
      "1    campusx watch campusx\n",
      "2     people write comment\n",
      "3    campusx write comment\n",
      "Name: text, dtype: object\n",
      "object\n"
     ]
    }
   ],
   "source": [
    "print(df['text'].head())\n",
    "print(df['text'].dtype)\n"
   ]
  },
  {
   "cell_type": "code",
   "execution_count": 18,
   "id": "93591bca-07f6-40a2-8a17-239619fe3a24",
   "metadata": {},
   "outputs": [],
   "source": [
    "bow= cv.fit_transform(df['text'])"
   ]
  },
  {
   "cell_type": "code",
   "execution_count": 19,
   "id": "e64655dd-b7d4-483a-b5fb-1977f8aa3836",
   "metadata": {},
   "outputs": [
    {
     "data": {
      "text/plain": [
       "<Compressed Sparse Row sparse matrix of dtype 'int64'\n",
       "\twith 11 stored elements and shape (4, 5)>"
      ]
     },
     "execution_count": 19,
     "metadata": {},
     "output_type": "execute_result"
    }
   ],
   "source": [
    "bow"
   ]
  },
  {
   "cell_type": "code",
   "execution_count": 20,
   "id": "a0879d40-1a0a-4a6c-809f-b2d1e353aa3d",
   "metadata": {},
   "outputs": [
    {
     "name": "stdout",
     "output_type": "stream",
     "text": [
      "[[1 0 1 1 0]]\n"
     ]
    }
   ],
   "source": [
    "print(bow[0].toarray())"
   ]
  },
  {
   "cell_type": "code",
   "execution_count": 21,
   "id": "1d16dfa5-82c4-4b3b-8c2a-0f20e12c5f9c",
   "metadata": {},
   "outputs": [
    {
     "name": "stdout",
     "output_type": "stream",
     "text": [
      "[[1 1 0 0 1]]\n"
     ]
    }
   ],
   "source": [
    "print(bow[3].toarray())"
   ]
  },
  {
   "cell_type": "code",
   "execution_count": 25,
   "id": "1d0e139a-2360-41e3-8a53-08ab0e0b0032",
   "metadata": {},
   "outputs": [
    {
     "name": "stdout",
     "output_type": "stream",
     "text": [
      "{'people': 2, 'watch': 3, 'campusx': 0, 'write': 4, 'comment': 1}\n"
     ]
    }
   ],
   "source": [
    "print(cv.vocabulary_)"
   ]
  },
  {
   "cell_type": "code",
   "execution_count": 27,
   "id": "ce292a8c-8cb1-48cd-8cf2-929f7c2e1392",
   "metadata": {},
   "outputs": [
    {
     "name": "stdout",
     "output_type": "stream",
     "text": [
      "[[2 0 0 1 0]]\n"
     ]
    }
   ],
   "source": [
    "print(bow[1].toarray())\n"
   ]
  },
  {
   "cell_type": "markdown",
   "id": "9088e512-a001-4e97-bc8d-5b4b3372bfa8",
   "metadata": {},
   "source": [
    " <span style=\"font-family: 'Arial'; font-size: 24px; font-weight: bold; background-color: yellow; color: black; padding: 5px;\">Bag Of Biagrams </span>"
   ]
  },
  {
   "cell_type": "code",
   "execution_count": 30,
   "id": "6e4db41f-cd40-413f-b11f-5177e0a99939",
   "metadata": {},
   "outputs": [],
   "source": [
    "from sklearn.feature_extraction.text import CountVectorizer\n",
    "cv=CountVectorizer(ngram_range=(2,2))"
   ]
  },
  {
   "cell_type": "code",
   "execution_count": 31,
   "id": "a0cc9301-e1d8-4050-a48a-c7a601222fe8",
   "metadata": {},
   "outputs": [],
   "source": [
    "bow1=cv.fit_transform(df['text'])"
   ]
  },
  {
   "cell_type": "code",
   "execution_count": 33,
   "id": "e3154538-c735-48b3-8975-8be076b74686",
   "metadata": {},
   "outputs": [
    {
     "data": {
      "text/plain": [
       "<Compressed Sparse Row sparse matrix of dtype 'int64'\n",
       "\twith 8 stored elements and shape (4, 6)>"
      ]
     },
     "execution_count": 33,
     "metadata": {},
     "output_type": "execute_result"
    }
   ],
   "source": [
    "bow1"
   ]
  },
  {
   "cell_type": "code",
   "execution_count": 34,
   "id": "4c432ed1-f604-4617-b08e-5b4dea486eb1",
   "metadata": {},
   "outputs": [
    {
     "name": "stdout",
     "output_type": "stream",
     "text": [
      "{'people watch': 2, 'watch campusx': 4, 'campusx watch': 0, 'people write': 3, 'write comment': 5, 'campusx write': 1}\n"
     ]
    }
   ],
   "source": [
    "print(cv.vocabulary_)"
   ]
  },
  {
   "cell_type": "code",
   "execution_count": 35,
   "id": "b3789275-bf45-4e82-a195-7e89000b0adb",
   "metadata": {},
   "outputs": [
    {
     "name": "stdout",
     "output_type": "stream",
     "text": [
      "[[0 0 1 0 1 0]]\n"
     ]
    }
   ],
   "source": [
    "print(bow1[0].toarray())"
   ]
  },
  {
   "cell_type": "code",
   "execution_count": 36,
   "id": "82ebf316-edc1-428b-8065-80aaaffe5ea9",
   "metadata": {},
   "outputs": [
    {
     "name": "stdout",
     "output_type": "stream",
     "text": [
      "[[0 0 0 1 0 1]]\n"
     ]
    }
   ],
   "source": [
    "print(bow1[2].toarray())"
   ]
  },
  {
   "cell_type": "markdown",
   "id": "c87a21e4-e58e-44f2-b3c7-beaf34311feb",
   "metadata": {},
   "source": [
    " <span style=\"font-family: 'Arial'; font-size: 24px; font-weight: bold; background-color: yellow; color: black; padding: 5px;\">Bag Of Triagrams\n",
    " </span>"
   ]
  },
  {
   "cell_type": "code",
   "execution_count": 39,
   "id": "5ae392ae-7d34-4979-b2fc-b586e5bd7e4c",
   "metadata": {},
   "outputs": [],
   "source": [
    "cv=CountVectorizer(ngram_range=(3,3))\n",
    "bow3=cv.fit_transform(df['text'])"
   ]
  },
  {
   "cell_type": "code",
   "execution_count": 40,
   "id": "4872dd5c-d471-4172-96c7-f2789f29a158",
   "metadata": {},
   "outputs": [
    {
     "name": "stdout",
     "output_type": "stream",
     "text": [
      "{'people watch campusx': 2, 'campusx watch campusx': 0, 'people write comment': 3, 'campusx write comment': 1}\n"
     ]
    }
   ],
   "source": [
    "print(cv.vocabulary_)"
   ]
  },
  {
   "cell_type": "code",
   "execution_count": null,
   "id": "2a1c11ea-e512-4a94-ad2b-e1e6d73f20dd",
   "metadata": {},
   "outputs": [],
   "source": []
  }
 ],
 "metadata": {
  "kernelspec": {
   "display_name": "Python 3 (ipykernel)",
   "language": "python",
   "name": "python3"
  },
  "language_info": {
   "codemirror_mode": {
    "name": "ipython",
    "version": 3
   },
   "file_extension": ".py",
   "mimetype": "text/x-python",
   "name": "python",
   "nbconvert_exporter": "python",
   "pygments_lexer": "ipython3",
   "version": "3.12.4"
  }
 },
 "nbformat": 4,
 "nbformat_minor": 5
}
