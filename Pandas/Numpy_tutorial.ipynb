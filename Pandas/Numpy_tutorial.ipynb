{
 "cells": [
  {
   "cell_type": "markdown",
   "id": "e47aff41-26eb-4701-91a7-8c9d254d8ff4",
   "metadata": {},
   "source": [
    "*************Welcome to Numpy Tutorial********************* "
   ]
  },
  {
   "cell_type": "code",
   "execution_count": 13,
   "id": "d731d366-513f-4ac8-a4b9-9441f5f5c674",
   "metadata": {},
   "outputs": [],
   "source": [
    "import numpy as np"
   ]
  },
  {
   "cell_type": "code",
   "execution_count": 14,
   "id": "69b86e33-3840-4141-802e-5936f8413e4e",
   "metadata": {},
   "outputs": [],
   "source": [
    "arr=np.array([[2,4,87,44]],np.int32)"
   ]
  },
  {
   "cell_type": "code",
   "execution_count": 15,
   "id": "26908033-f32a-463d-9159-e63dad7dcbea",
   "metadata": {},
   "outputs": [
    {
     "name": "stdout",
     "output_type": "stream",
     "text": [
      "[[ 2 45  6 89  4]]\n"
     ]
    }
   ],
   "source": [
    "\n",
    "arr = np.array([[2, 45, 6, 89, 4]], np.int32)\n",
    "print(arr)\n"
   ]
  },
  {
   "cell_type": "code",
   "execution_count": 16,
   "id": "9f49b711-f5cf-499c-8312-e2b68b867ff1",
   "metadata": {},
   "outputs": [
    {
     "data": {
      "text/plain": [
       "array([ 2, 45,  6, 89,  4], dtype=int32)"
      ]
     },
     "execution_count": 16,
     "metadata": {},
     "output_type": "execute_result"
    }
   ],
   "source": [
    "arr[0]"
   ]
  },
  {
   "cell_type": "code",
   "execution_count": 17,
   "id": "fd28e29e-2ed7-4ef0-88aa-511761c7ab3b",
   "metadata": {},
   "outputs": [
    {
     "data": {
      "text/plain": [
       "np.int32(45)"
      ]
     },
     "execution_count": 17,
     "metadata": {},
     "output_type": "execute_result"
    }
   ],
   "source": [
    "arr[0,1]"
   ]
  },
  {
   "cell_type": "code",
   "execution_count": 18,
   "id": "9d7fbb4e-8162-4033-93f4-db6add7f5381",
   "metadata": {},
   "outputs": [
    {
     "data": {
      "text/plain": [
       "np.int32(6)"
      ]
     },
     "execution_count": 18,
     "metadata": {},
     "output_type": "execute_result"
    }
   ],
   "source": [
    "arr[0,2]"
   ]
  },
  {
   "cell_type": "code",
   "execution_count": 19,
   "id": "a9e47abf-4738-4ef9-9551-f12058d568c5",
   "metadata": {},
   "outputs": [
    {
     "data": {
      "text/plain": [
       "(1, 5)"
      ]
     },
     "execution_count": 19,
     "metadata": {},
     "output_type": "execute_result"
    }
   ],
   "source": [
    "arr.shape"
   ]
  },
  {
   "cell_type": "code",
   "execution_count": 20,
   "id": "283e0f50-88bd-4893-8617-c85be696a9e2",
   "metadata": {},
   "outputs": [],
   "source": [
    "arr[0,1]=45"
   ]
  },
  {
   "cell_type": "code",
   "execution_count": 21,
   "id": "e1d05700-c55f-462e-920b-537c73dda6ae",
   "metadata": {},
   "outputs": [
    {
     "data": {
      "text/plain": [
       "array([[ 2, 45,  6, 89,  4]], dtype=int32)"
      ]
     },
     "execution_count": 21,
     "metadata": {},
     "output_type": "execute_result"
    }
   ],
   "source": [
    "arr"
   ]
  },
  {
   "cell_type": "code",
   "execution_count": 22,
   "id": "6ed726de-5f68-484f-80b5-7eb5e269c828",
   "metadata": {},
   "outputs": [],
   "source": [
    "listarray=np.array([[1,23,4],[56,43,78],[1,2,3]])"
   ]
  },
  {
   "cell_type": "code",
   "execution_count": 23,
   "id": "ba7e1beb-f8fb-4e3b-bce7-46b681f0918a",
   "metadata": {},
   "outputs": [],
   "source": [
    "#array creation : Conversion from other python arrays \n"
   ]
  },
  {
   "cell_type": "code",
   "execution_count": 24,
   "id": "a4cf1105-03cd-4982-9030-0cec502894ae",
   "metadata": {},
   "outputs": [
    {
     "data": {
      "text/plain": [
       "array([[ 1, 23,  4],\n",
       "       [56, 43, 78],\n",
       "       [ 1,  2,  3]])"
      ]
     },
     "execution_count": 24,
     "metadata": {},
     "output_type": "execute_result"
    }
   ],
   "source": [
    "listarray"
   ]
  },
  {
   "cell_type": "code",
   "execution_count": 25,
   "id": "027765b7-bf4c-4422-a0a3-168c5a689887",
   "metadata": {},
   "outputs": [
    {
     "data": {
      "text/plain": [
       "dtype('int64')"
      ]
     },
     "execution_count": 25,
     "metadata": {},
     "output_type": "execute_result"
    }
   ],
   "source": [
    "listarray.dtype"
   ]
  },
  {
   "cell_type": "code",
   "execution_count": 26,
   "id": "72ffb3e1-ee1b-49b6-8c5a-90420bc52684",
   "metadata": {},
   "outputs": [
    {
     "data": {
      "text/plain": [
       "(3, 3)"
      ]
     },
     "execution_count": 26,
     "metadata": {},
     "output_type": "execute_result"
    }
   ],
   "source": [
    "listarray.shape"
   ]
  },
  {
   "cell_type": "code",
   "execution_count": 27,
   "id": "49b4b074-f66a-4b3c-a355-02366faf1c78",
   "metadata": {},
   "outputs": [
    {
     "data": {
      "text/plain": [
       "9"
      ]
     },
     "execution_count": 27,
     "metadata": {},
     "output_type": "execute_result"
    }
   ],
   "source": [
    "listarray.size"
   ]
  },
  {
   "cell_type": "code",
   "execution_count": 28,
   "id": "2c6f90ad-aa95-4f8c-a7bc-a9a733b9941d",
   "metadata": {},
   "outputs": [
    {
     "data": {
      "text/plain": [
       "array({2, 34, 5}, dtype=object)"
      ]
     },
     "execution_count": 28,
     "metadata": {},
     "output_type": "execute_result"
    }
   ],
   "source": [
    "np.array({2,34,5})"
   ]
  },
  {
   "cell_type": "code",
   "execution_count": 29,
   "id": "35e8d944-5e7d-418d-85ce-75781f2c85f2",
   "metadata": {},
   "outputs": [],
   "source": [
    "import numpy as np\n"
   ]
  },
  {
   "cell_type": "code",
   "execution_count": 39,
   "id": "408d8060-2b78-4651-9b66-3d0367a32f82",
   "metadata": {},
   "outputs": [],
   "source": [
    "ary=np.array([[2,17,12],[5,6,8],[12,15,3]])"
   ]
  },
  {
   "cell_type": "code",
   "execution_count": 40,
   "id": "e8185b4b-6d86-4f0c-aa20-e00551fbc766",
   "metadata": {},
   "outputs": [
    {
     "data": {
      "text/plain": [
       "(3, 3)"
      ]
     },
     "execution_count": 40,
     "metadata": {},
     "output_type": "execute_result"
    }
   ],
   "source": [
    "ary.shape"
   ]
  },
  {
   "cell_type": "code",
   "execution_count": 41,
   "id": "3bb1d909-ccb3-47a6-94d9-d6d7058c3fc0",
   "metadata": {},
   "outputs": [
    {
     "data": {
      "text/plain": [
       "9"
      ]
     },
     "execution_count": 41,
     "metadata": {},
     "output_type": "execute_result"
    }
   ],
   "source": [
    "ary.size"
   ]
  },
  {
   "cell_type": "code",
   "execution_count": 43,
   "id": "0f68fd6b-46bb-4c9a-ad08-5f332e7e382e",
   "metadata": {},
   "outputs": [
    {
     "data": {
      "text/plain": [
       "array([19, 38, 23])"
      ]
     },
     "execution_count": 43,
     "metadata": {},
     "output_type": "execute_result"
    }
   ],
   "source": [
    "ary.sum(axis=0)"
   ]
  },
  {
   "cell_type": "code",
   "execution_count": 44,
   "id": "e4c510d6-4eeb-4f4c-80f6-88c6fb5b9663",
   "metadata": {},
   "outputs": [
    {
     "data": {
      "text/plain": [
       "array([31, 19, 30])"
      ]
     },
     "execution_count": 44,
     "metadata": {},
     "output_type": "execute_result"
    }
   ],
   "source": [
    "ary.sum(axis=1)"
   ]
  },
  {
   "cell_type": "code",
   "execution_count": 48,
   "id": "e54b8bc2-6a39-428f-959c-14120b1a940e",
   "metadata": {},
   "outputs": [
    {
     "data": {
      "text/plain": [
       "<numpy.flatiter at 0x159fc5c5560>"
      ]
     },
     "execution_count": 48,
     "metadata": {},
     "output_type": "execute_result"
    }
   ],
   "source": [
    "ary.flat"
   ]
  },
  {
   "cell_type": "code",
   "execution_count": 49,
   "id": "e5b683ba-49a7-47fb-ae89-70a44d2e85e3",
   "metadata": {},
   "outputs": [
    {
     "name": "stdout",
     "output_type": "stream",
     "text": [
      "2\n",
      "17\n",
      "12\n",
      "5\n",
      "6\n",
      "8\n",
      "12\n",
      "15\n",
      "3\n"
     ]
    }
   ],
   "source": [
    "for element in ary.flat:\n",
    "    print(element)"
   ]
  },
  {
   "cell_type": "code",
   "execution_count": 50,
   "id": "9d935096-ad00-4408-96a7-7247bb776167",
   "metadata": {},
   "outputs": [
    {
     "data": {
      "text/plain": [
       "2"
      ]
     },
     "execution_count": 50,
     "metadata": {},
     "output_type": "execute_result"
    }
   ],
   "source": [
    "ary.ndim"
   ]
  },
  {
   "cell_type": "code",
   "execution_count": 52,
   "id": "cb03db7b-6b75-435f-9ea7-f520876f756a",
   "metadata": {},
   "outputs": [
    {
     "data": {
      "text/plain": [
       "9"
      ]
     },
     "execution_count": 52,
     "metadata": {},
     "output_type": "execute_result"
    }
   ],
   "source": [
    "ary.size"
   ]
  },
  {
   "cell_type": "code",
   "execution_count": 53,
   "id": "c890a223-2c67-4d34-b0cc-13f1b92feeb3",
   "metadata": {},
   "outputs": [
    {
     "data": {
      "text/plain": [
       "72"
      ]
     },
     "execution_count": 53,
     "metadata": {},
     "output_type": "execute_result"
    }
   ],
   "source": [
    "ary.nbytes"
   ]
  },
  {
   "cell_type": "code",
   "execution_count": 59,
   "id": "d1c1b0f4-838a-435e-a7a6-510cadbdab49",
   "metadata": {},
   "outputs": [],
   "source": [
    "one=np.array([3,45,67,12,9])"
   ]
  },
  {
   "cell_type": "code",
   "execution_count": 60,
   "id": "1dba2bb6-59ba-48ec-84b7-e9f7ebc764bd",
   "metadata": {},
   "outputs": [
    {
     "data": {
      "text/plain": [
       "np.int64(2)"
      ]
     },
     "execution_count": 60,
     "metadata": {},
     "output_type": "execute_result"
    }
   ],
   "source": [
    "one.argmax()"
   ]
  },
  {
   "cell_type": "code",
   "execution_count": 62,
   "id": "74334e40-d794-48bd-b7b0-f6c85eefb1bc",
   "metadata": {},
   "outputs": [
    {
     "data": {
      "text/plain": [
       "np.int64(0)"
      ]
     },
     "execution_count": 62,
     "metadata": {},
     "output_type": "execute_result"
    }
   ],
   "source": [
    "one.argmin()"
   ]
  },
  {
   "cell_type": "code",
   "execution_count": 63,
   "id": "9df54687-434f-48f0-9239-b7d00c5d8571",
   "metadata": {},
   "outputs": [
    {
     "data": {
      "text/plain": [
       "array([0, 4, 3, 1, 2])"
      ]
     },
     "execution_count": 63,
     "metadata": {},
     "output_type": "execute_result"
    }
   ],
   "source": [
    "one.argsort()"
   ]
  },
  {
   "cell_type": "code",
   "execution_count": 64,
   "id": "4a66e754-6876-4094-a96e-a8c53f1c9aa5",
   "metadata": {},
   "outputs": [
    {
     "data": {
      "text/plain": [
       "array([[ 2, 17, 12],\n",
       "       [ 5,  6,  8],\n",
       "       [12, 15,  3]])"
      ]
     },
     "execution_count": 64,
     "metadata": {},
     "output_type": "execute_result"
    }
   ],
   "source": [
    "ary"
   ]
  },
  {
   "cell_type": "code",
   "execution_count": 67,
   "id": "b103b5cd-800a-4205-a501-dd2d5387e69e",
   "metadata": {},
   "outputs": [
    {
     "data": {
      "text/plain": [
       "np.int64(2)"
      ]
     },
     "execution_count": 67,
     "metadata": {},
     "output_type": "execute_result"
    }
   ],
   "source": [
    "ary.argmax()"
   ]
  },
  {
   "cell_type": "code",
   "execution_count": 68,
   "id": "0fd3e0e6-340a-4034-8ad4-4419afefa91f",
   "metadata": {},
   "outputs": [
    {
     "data": {
      "text/plain": [
       "array([1, 0, 0])"
      ]
     },
     "execution_count": 68,
     "metadata": {},
     "output_type": "execute_result"
    }
   ],
   "source": [
    "ary.argmax(axis=0)"
   ]
  },
  {
   "cell_type": "code",
   "execution_count": 69,
   "id": "0fde6c55-a49b-4b8e-b662-1c9c4e5cbeec",
   "metadata": {},
   "outputs": [
    {
     "data": {
      "text/plain": [
       "array([2, 2, 2])"
      ]
     },
     "execution_count": 69,
     "metadata": {},
     "output_type": "execute_result"
    }
   ],
   "source": [
    "ary.argmax(axis=1)"
   ]
  },
  {
   "cell_type": "code",
   "execution_count": 72,
   "id": "7bc4a404-04d0-47f8-b751-1b929d041c45",
   "metadata": {},
   "outputs": [],
   "source": [
    "ar2=np.array([[23,1,15],[3,7,9],[0,4,27]])"
   ]
  },
  {
   "cell_type": "code",
   "execution_count": 73,
   "id": "6b99b2a3-5901-4163-9c3c-710646431940",
   "metadata": {},
   "outputs": [
    {
     "data": {
      "text/plain": [
       "array([[25, 13, 32],\n",
       "       [ 8, 13, 17],\n",
       "       [ 3, 16, 42]])"
      ]
     },
     "execution_count": 73,
     "metadata": {},
     "output_type": "execute_result"
    }
   ],
   "source": [
    "ary+ar2"
   ]
  },
  {
   "cell_type": "code",
   "execution_count": 75,
   "id": "dae275df-e589-409c-9883-ef6b484d0a1f",
   "metadata": {},
   "outputs": [
    {
     "data": {
      "text/plain": [
       "array([[4.79583152, 1.        , 3.87298335],\n",
       "       [1.73205081, 2.64575131, 3.        ],\n",
       "       [0.        , 2.        , 5.19615242]])"
      ]
     },
     "execution_count": 75,
     "metadata": {},
     "output_type": "execute_result"
    }
   ],
   "source": [
    "np.sqrt(ar2)"
   ]
  },
  {
   "cell_type": "code",
   "execution_count": 76,
   "id": "c66971bc-6ec8-4ffa-9060-ef72b2349114",
   "metadata": {},
   "outputs": [
    {
     "data": {
      "text/plain": [
       "np.int64(27)"
      ]
     },
     "execution_count": 76,
     "metadata": {},
     "output_type": "execute_result"
    }
   ],
   "source": [
    "ar2.max()"
   ]
  },
  {
   "cell_type": "code",
   "execution_count": 77,
   "id": "84b52de9-0167-400d-bcfc-4fa63ace5a1a",
   "metadata": {},
   "outputs": [
    {
     "data": {
      "text/plain": [
       "np.int64(0)"
      ]
     },
     "execution_count": 77,
     "metadata": {},
     "output_type": "execute_result"
    }
   ],
   "source": [
    "ar2.min()"
   ]
  },
  {
   "cell_type": "code",
   "execution_count": 78,
   "id": "a0cdbcdd-27e4-43a2-ad82-1048531d8289",
   "metadata": {},
   "outputs": [],
   "source": [
    "ar2.sort()"
   ]
  },
  {
   "cell_type": "code",
   "execution_count": 80,
   "id": "d3c8de0a-96a4-4724-a24f-a42e46d1a432",
   "metadata": {},
   "outputs": [
    {
     "data": {
      "text/plain": [
       "(array([0, 0, 1, 1, 2]), array([1, 2, 1, 2, 2]))"
      ]
     },
     "execution_count": 80,
     "metadata": {},
     "output_type": "execute_result"
    }
   ],
   "source": [
    "np.where(ar2>5)"
   ]
  },
  {
   "cell_type": "code",
   "execution_count": 81,
   "id": "70ef9299-fdb8-4e5d-aa74-f7d271cbc6f6",
   "metadata": {},
   "outputs": [
    {
     "data": {
      "text/plain": [
       "(array([0, 0, 0, 1, 1, 1, 2, 2, 2]), array([0, 1, 2, 0, 1, 2, 0, 1, 2]))"
      ]
     },
     "execution_count": 81,
     "metadata": {},
     "output_type": "execute_result"
    }
   ],
   "source": [
    "np.nonzero(ary)"
   ]
  },
  {
   "cell_type": "code",
   "execution_count": 82,
   "id": "6ff12d12-d5ee-4ed4-8a48-dd48ca61393a",
   "metadata": {},
   "outputs": [],
   "source": [
    "import sys"
   ]
  },
  {
   "cell_type": "code",
   "execution_count": 83,
   "id": "66889f1c-c377-4e1e-93e1-3d41df8f4cc3",
   "metadata": {},
   "outputs": [],
   "source": [
    "py_arr=[1,23,12]"
   ]
  },
  {
   "cell_type": "code",
   "execution_count": 85,
   "id": "dfdf17df-8d37-41ee-98d2-4ce2aa7f98e7",
   "metadata": {},
   "outputs": [],
   "source": [
    "np_arr=np.array(py_arr)"
   ]
  },
  {
   "cell_type": "code",
   "execution_count": 86,
   "id": "f26836af-fcd9-43c1-b4c8-d8329ef16d2d",
   "metadata": {},
   "outputs": [
    {
     "data": {
      "text/plain": [
       "3"
      ]
     },
     "execution_count": 86,
     "metadata": {},
     "output_type": "execute_result"
    }
   ],
   "source": [
    "np_arr.size"
   ]
  },
  {
   "cell_type": "code",
   "execution_count": 91,
   "id": "c43530cd-998d-439e-a789-50e56d70393f",
   "metadata": {},
   "outputs": [
    {
     "data": {
      "text/plain": [
       "84"
      ]
     },
     "execution_count": 91,
     "metadata": {},
     "output_type": "execute_result"
    }
   ],
   "source": [
    "sys.getsizeof(1)* len(py_arr)"
   ]
  },
  {
   "cell_type": "code",
   "execution_count": null,
   "id": "64b9f834-12d9-4fdd-9785-6f8783c93c37",
   "metadata": {},
   "outputs": [],
   "source": []
  }
 ],
 "metadata": {
  "kernelspec": {
   "display_name": "Python 3 (ipykernel)",
   "language": "python",
   "name": "python3"
  },
  "language_info": {
   "codemirror_mode": {
    "name": "ipython",
    "version": 3
   },
   "file_extension": ".py",
   "mimetype": "text/x-python",
   "name": "python",
   "nbconvert_exporter": "python",
   "pygments_lexer": "ipython3",
   "version": "3.12.4"
  }
 },
 "nbformat": 4,
 "nbformat_minor": 5
}
