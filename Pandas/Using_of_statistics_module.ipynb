{
 "cells": [
  {
   "cell_type": "code",
   "execution_count": 1,
   "id": "b39d025e-7a88-4877-99db-4095a40aa4b8",
   "metadata": {},
   "outputs": [],
   "source": [
    "from statistics import median\n",
    "from math import isnan\n",
    "from itertools import filterfalse"
   ]
  },
  {
   "cell_type": "code",
   "execution_count": 6,
   "id": "9d268f7f-45c7-44ba-a794-07389fdcc1c6",
   "metadata": {},
   "outputs": [
    {
     "name": "stdout",
     "output_type": "stream",
     "text": [
      "The average of list values is : 2\n"
     ]
    }
   ],
   "source": [
    "# Python code to demonstrate the working of \n",
    "# mean()\n",
    "\n",
    "# importing statistics to handle statistical\n",
    "# operations \n",
    "import statistics \n",
    "\n",
    "# initializing list \n",
    "li = [1, 2, 3, 3, 2, 2, 2, 1] \n",
    "\n",
    "# using mean() to calculate average of list\n",
    "# elements \n",
    "print (\"The average of list values is : \",end=\"\") \n",
    "print (statistics.mean(li)) \n"
   ]
  },
  {
   "cell_type": "code",
   "execution_count": 10,
   "id": "a324676d-a5a0-438f-97fe-cb83bb82474f",
   "metadata": {},
   "outputs": [
    {
     "name": "stdout",
     "output_type": "stream",
     "text": [
      "Median of data-set 1 is 5\n",
      "Median of data-set 2 is 5.9\n",
      "Median of data-set 3 is 2\n",
      "Median of data-set 4 is -5\n",
      "Median of data-set 5 is 0.0\n"
     ]
    }
   ],
   "source": [
    "# Python code to demonstrate the \n",
    "# working of median() on various \n",
    "# range of data-sets \n",
    "\n",
    "# importing the statistics module \n",
    "from statistics import median \n",
    "\n",
    "# Importing fractions module as fr \n",
    "from fractions import Fraction as fr \n",
    "\n",
    "# tuple of positive integer numbers \n",
    "data1 = (2, 3, 4, 5, 7, 9, 11) \n",
    "\n",
    "# tuple of floating point values \n",
    "data2 = (2.4, 5.1, 6.7, 8.9) \n",
    "\n",
    "# tuple of fractional numbers \n",
    "data3 = (fr(1, 2), fr(44, 12), \n",
    "        fr(10, 3), fr(2, 3)) \n",
    "\n",
    "# tuple of a set of negative integers \n",
    "data4 = (-5, -1, -12, -19, -3) \n",
    "\n",
    "# tuple of set of positive \n",
    "# and negative integers \n",
    "data5 = (-1, -2, -3, -4, 4, 3, 2, 1) \n",
    "\n",
    "# Printing the median of above datasets \n",
    "print(\"Median of data-set 1 is\",(median(data1))) \n",
    "print(\"Median of data-set 2 is % s\" % (median(data2))) \n",
    "print(\"Median of data-set 3 is % s\" % (median(data3))) \n",
    "print(\"Median of data-set 4 is % s\" % (median(data4))) \n",
    "print(\"Median of data-set 5 is % s\" % (median(data5))) \n"
   ]
  },
  {
   "cell_type": "code",
   "execution_count": 12,
   "id": "49bfe78b-7024-4997-b3ab-ad6c02ca7879",
   "metadata": {},
   "outputs": [
    {
     "name": "stdout",
     "output_type": "stream",
     "text": [
      "Median of the set is 3.5\n",
      "Low Median of the set is 3 \n"
     ]
    }
   ],
   "source": [
    "# Python code to demonstrate the \n",
    "# working of median_low() \n",
    "\n",
    "# importing the statistics module \n",
    "from statistics import median\n",
    "\n",
    "# simple list of a set of integers \n",
    "set1 = [1, 3, 3, 4, 5, 7] \n",
    "\n",
    "# Print median of the data-set \n",
    "\n",
    "# Median value may or may not \n",
    "# lie within the data-set \n",
    "print(\"Median of the set is % s\"\n",
    "    % (median(set1))) \n",
    "\n",
    "# Print low median of the data-set \n",
    "print(\"Low Median of the set is % s \"\n",
    "    % (statistics.median_low(set1))) "
   ]
  },
  {
   "cell_type": "code",
   "execution_count": 13,
   "id": "7638e401-58d0-4b4f-981d-42b71646cf45",
   "metadata": {},
   "outputs": [
    {
     "name": "stdout",
     "output_type": "stream",
     "text": [
      "Mode of data set 1 is 5\n",
      "Mode of data set 2 is 1.3\n",
      "Mode of data set 3 is 1/2\n",
      "Mode of data set 4 is -2\n",
      "Mode of data set 5 is black\n"
     ]
    }
   ],
   "source": [
    "# Python code to demonstrate the \n",
    "# working of mode() function \n",
    "# on a various range of data types \n",
    "\n",
    "# Importing the statistics module \n",
    "from statistics import mode \n",
    "\n",
    "# Importing fractions module as fr \n",
    "# Enables to calculate harmonic_mean of a \n",
    "# set in Fraction \n",
    "from fractions import Fraction as fr \n",
    "\n",
    "# tuple of positive integer numbers \n",
    "data1 = (2, 3, 3, 4, 5, 5, 5, 5, 6, 6, 6, 7) \n",
    "\n",
    "# tuple of a set of floating point values \n",
    "data2 = (2.4, 1.3, 1.3, 1.3, 2.4, 4.6) \n",
    "\n",
    "# tuple of a set of fractional numbers \n",
    "data3 = (fr(1, 2), fr(1, 2), fr(10, 3), fr(2, 3)) \n",
    "\n",
    "# tuple of a set of negative integers \n",
    "data4 = (-1, -2, -2, -2, -7, -7, -9) \n",
    "\n",
    "# tuple of strings \n",
    "data5 = (\"red\", \"blue\", \"black\", \"blue\", \"black\", \"black\", \"brown\") \n",
    "\n",
    "\n",
    "# Printing out the mode of the above data-sets \n",
    "print(\"Mode of data set 1 is % s\" % (mode(data1))) \n",
    "print(\"Mode of data set 2 is % s\" % (mode(data2))) \n",
    "print(\"Mode of data set 3 is % s\" % (mode(data3))) \n",
    "print(\"Mode of data set 4 is % s\" % (mode(data4))) \n",
    "print(\"Mode of data set 5 is % s\" % (mode(data5)))"
   ]
  },
  {
   "cell_type": "code",
   "execution_count": 14,
   "id": "d6ace217-5c87-44d4-ac67-4ed83b9248c1",
   "metadata": {},
   "outputs": [
    {
     "name": "stdout",
     "output_type": "stream",
     "text": [
      "Variance of Sample1 is 15.80952380952381 \n",
      "Variance of Sample2 is 3.5 \n",
      "Variance of Sample3 is 61.125 \n",
      "Variance of Sample4 is 1/45 \n",
      "Variance of Sample5 is 0.17613000000000006 \n"
     ]
    }
   ],
   "source": [
    "# Python code to demonstrate variance()\n",
    "# function on varying range of data-types\n",
    "\n",
    "# importing statistics module\n",
    "from statistics import variance\n",
    "\n",
    "# importing fractions as parameter values\n",
    "from fractions import Fraction as fr\n",
    "\n",
    "# tuple of a set of positive integers\n",
    "# numbers are spread apart but not very much\n",
    "sample1 = (1, 2, 5, 4, 8, 9, 12)\n",
    "\n",
    "# tuple of a set of negative integers\n",
    "sample2 = (-2, -4, -3, -1, -5, -6)\n",
    "\n",
    "# tuple of a set of positive and negative numbers\n",
    "# data-points are spread apart considerably\n",
    "sample3 = (-9, -1, -0, 2, 1, 3, 4, 19)\n",
    "\n",
    "# tuple of a set of fractional numbers\n",
    "sample4 = (fr(1, 2), fr(2, 3), fr(3, 4),\n",
    "           fr(5, 6), fr(7, 8))\n",
    "\n",
    "# tuple of a set of floating point values\n",
    "sample5 = (1.23, 1.45, 2.1, 2.2, 1.9)\n",
    "\n",
    "# Print the variance of each samples\n",
    "print(\"Variance of Sample1 is % s \" % (variance(sample1)))\n",
    "print(\"Variance of Sample2 is % s \" % (variance(sample2)))\n",
    "print(\"Variance of Sample3 is % s \" % (variance(sample3)))\n",
    "print(\"Variance of Sample4 is % s \" % (variance(sample4)))\n",
    "print(\"Variance of Sample5 is % s \" % (variance(sample5)))"
   ]
  },
  {
   "cell_type": "code",
   "execution_count": 15,
   "id": "543651e9-4a93-4a6e-b903-25c11be2be41",
   "metadata": {},
   "outputs": [
    {
     "name": "stdout",
     "output_type": "stream",
     "text": [
      "The Standard Deviation of Sample1 is 3.9761191895520196\n",
      "The Standard Deviation of Sample2 is 1.8708286933869707\n",
      "The Standard Deviation of Sample3 is 7.8182478855559445\n",
      "The Standard Deviation of Sample4 is 0.41967844833872525\n"
     ]
    }
   ],
   "source": [
    "# Python code to demonstrate stdev()\n",
    "# function on various range of datasets\n",
    "\n",
    "# importing the statistics module\n",
    "from statistics import stdev\n",
    "\n",
    "# importing fractions as parameter values\n",
    "from fractions import Fraction as fr\n",
    "\n",
    "# creating a varying range of sample sets\n",
    "# numbers are spread apart but not very much\n",
    "sample1 = (1, 2, 5, 4, 8, 9, 12)\n",
    "\n",
    "# tuple of a set of negative integers\n",
    "sample2 = (-2, -4, -3, -1, -5, -6)\n",
    "\n",
    "# tuple of a set of positive and negative numbers\n",
    "# data-points are spread apart considerably\n",
    "sample3 = (-9, -1, -0, 2, 1, 3, 4, 19)\n",
    "\n",
    "# tuple of a set of floating point values\n",
    "sample4 = (1.23, 1.45, 2.1, 2.2, 1.9)\n",
    "\n",
    "# Print the standard deviation of\n",
    "# following sample sets of observations\n",
    "print(\"The Standard Deviation of Sample1 is % s\"\n",
    "      % (stdev(sample1)))\n",
    "\n",
    "print(\"The Standard Deviation of Sample2 is % s\"\n",
    "      % (stdev(sample2)))\n",
    "\n",
    "print(\"The Standard Deviation of Sample3 is % s\"\n",
    "      % (stdev(sample3)))\n",
    "\n",
    "\n",
    "print(\"The Standard Deviation of Sample4 is % s\"\n",
    "      % (stdev(sample4)))\n"
   ]
  },
  {
   "cell_type": "code",
   "execution_count": null,
   "id": "5950629c-8e23-4c5c-94c6-bd430380f2ff",
   "metadata": {},
   "outputs": [],
   "source": []
  }
 ],
 "metadata": {
  "kernelspec": {
   "display_name": "Python 3 (ipykernel)",
   "language": "python",
   "name": "python3"
  },
  "language_info": {
   "codemirror_mode": {
    "name": "ipython",
    "version": 3
   },
   "file_extension": ".py",
   "mimetype": "text/x-python",
   "name": "python",
   "nbconvert_exporter": "python",
   "pygments_lexer": "ipython3",
   "version": "3.12.4"
  }
 },
 "nbformat": 4,
 "nbformat_minor": 5
}
