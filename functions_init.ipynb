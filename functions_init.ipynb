{
  "nbformat": 4,
  "nbformat_minor": 0,
  "metadata": {
    "colab": {
      "provenance": [],
      "authorship_tag": "ABX9TyMTHmuHScnhHX3aJcIaYm99",
      "include_colab_link": true
    },
    "kernelspec": {
      "name": "python3",
      "display_name": "Python 3"
    },
    "language_info": {
      "name": "python"
    }
  },
  "cells": [
    {
      "cell_type": "markdown",
      "metadata": {
        "id": "view-in-github",
        "colab_type": "text"
      },
      "source": [
        "<a href=\"https://colab.research.google.com/github/Prensu/Data_Science_Prensu/blob/main/functions_init.ipynb\" target=\"_parent\"><img src=\"https://colab.research.google.com/assets/colab-badge.svg\" alt=\"Open In Colab\"/></a>"
      ]
    },
    {
      "cell_type": "code",
      "execution_count": null,
      "metadata": {
        "id": "7TgkC8DS86eQ"
      },
      "outputs": [],
      "source": [
        "#reusable block of code\n",
        "#predefined functions\n",
        "#userdefined functions"
      ]
    },
    {
      "cell_type": "markdown",
      "source": [
        "Rules of Function in Python"
      ],
      "metadata": {
        "id": "_n93ckD29FRs"
      }
    },
    {
      "cell_type": "code",
      "source": [
        "#to create a function ,must be followed by function name and parantheses\n",
        "#:colon is intended\n",
        "#body\n",
        "#return\n"
      ],
      "metadata": {
        "id": "9frbmOhz9EOF"
      },
      "execution_count": null,
      "outputs": []
    },
    {
      "cell_type": "code",
      "source": [
        "def add(a,b):\n",
        "  \"\"\"\"this is just the documentation\"\"\"\n",
        "    c=a+b\n",
        "    return c\n",
        "\n",
        "print(add(1,2))\n",
        "\n"
      ],
      "metadata": {
        "colab": {
          "base_uri": "https://localhost:8080/",
          "height": 106
        },
        "id": "GnrgTKnO9cB3",
        "outputId": "ff66bb2f-7832-43b9-91e1-0d4cb94c405e"
      },
      "execution_count": null,
      "outputs": [
        {
          "output_type": "error",
          "ename": "IndentationError",
          "evalue": "unexpected indent (<ipython-input-4-ae114dccca4e>, line 3)",
          "traceback": [
            "\u001b[0;36m  File \u001b[0;32m\"<ipython-input-4-ae114dccca4e>\"\u001b[0;36m, line \u001b[0;32m3\u001b[0m\n\u001b[0;31m    c=a+b\u001b[0m\n\u001b[0m    ^\u001b[0m\n\u001b[0;31mIndentationError\u001b[0m\u001b[0;31m:\u001b[0m unexpected indent\n"
          ]
        }
      ]
    },
    {
      "cell_type": "code",
      "source": [
        "help(add)"
      ],
      "metadata": {
        "colab": {
          "base_uri": "https://localhost:8080/"
        },
        "id": "0XmU_3ej9m4P",
        "outputId": "2275d0aa-3bd6-48fe-dc33-3f74b6d0c82d"
      },
      "execution_count": null,
      "outputs": [
        {
          "output_type": "stream",
          "name": "stdout",
          "text": [
            "Help on function add in module __main__:\n",
            "\n",
            "add(a, b)\n",
            "\n"
          ]
        }
      ]
    },
    {
      "cell_type": "markdown",
      "source": [
        "# program to take two parameters a and b and return their sum"
      ],
      "metadata": {
        "id": "jHSdWb7EDBF1"
      }
    },
    {
      "cell_type": "code",
      "source": [
        "def sum(a,b):\n",
        "  \"\"\"\n",
        "  This is to just add sum of two numbers\n",
        "\n",
        "  \"\"\"\n",
        "  c=a+b\n",
        "  return c\n",
        "print(sum(1,2))"
      ],
      "metadata": {
        "colab": {
          "base_uri": "https://localhost:8080/"
        },
        "id": "bcs6iCs7AHT_",
        "outputId": "e317d31e-a7f7-468e-cb64-4fd498643e23"
      },
      "execution_count": null,
      "outputs": [
        {
          "output_type": "stream",
          "name": "stdout",
          "text": [
            "3\n"
          ]
        }
      ]
    },
    {
      "cell_type": "markdown",
      "source": [
        "takes list as parameter and returns the average of values in lists"
      ],
      "metadata": {
        "id": "79hXrH7lDWVH"
      }
    },
    {
      "cell_type": "code",
      "source": [
        "def average(list):\n",
        "  total=sum(list)\n",
        "  avg=total/len(list)\n",
        "  return avg"
      ],
      "metadata": {
        "id": "Xhf4rTZIDAtj"
      },
      "execution_count": null,
      "outputs": []
    },
    {
      "cell_type": "code",
      "source": [],
      "metadata": {
        "colab": {
          "base_uri": "https://localhost:8080/",
          "height": 141
        },
        "id": "vYjDKjFlFCOn",
        "outputId": "509a5e5c-9357-440d-d5a1-b27ad0b4eaf1"
      },
      "execution_count": null,
      "outputs": [
        {
          "output_type": "error",
          "ename": "TypeError",
          "evalue": "'function' object is not subscriptable",
          "traceback": [
            "\u001b[0;31m---------------------------------------------------------------------------\u001b[0m",
            "\u001b[0;31mTypeError\u001b[0m                                 Traceback (most recent call last)",
            "\u001b[0;32m<ipython-input-15-17ecc5e28c2a>\u001b[0m in \u001b[0;36m<cell line: 1>\u001b[0;34m()\u001b[0m\n\u001b[0;32m----> 1\u001b[0;31m \u001b[0mprint\u001b[0m\u001b[0;34m(\u001b[0m\u001b[0maverage\u001b[0m\u001b[0;34m[\u001b[0m\u001b[0;36m1\u001b[0m\u001b[0;34m,\u001b[0m\u001b[0;36m2\u001b[0m\u001b[0;34m,\u001b[0m\u001b[0;36m34\u001b[0m\u001b[0;34m]\u001b[0m\u001b[0;34m)\u001b[0m\u001b[0;34m\u001b[0m\u001b[0;34m\u001b[0m\u001b[0m\n\u001b[0m",
            "\u001b[0;31mTypeError\u001b[0m: 'function' object is not subscriptable"
          ]
        }
      ]
    },
    {
      "cell_type": "code",
      "source": [
        "# prompt: why type error in this  c=a+b\n",
        "#     def average(list):\n",
        "#   total=sum/list\n",
        "#   avg=total/len(list)\n",
        "#   return avg\n",
        "# average[1,2,34]\n",
        "\n",
        "#reusable block of code\n",
        "#predefined functions\n",
        "#userdefined functions\n",
        "# Rules of Function in Python\n",
        "#to create a function ,must be followed by function name and parantheses\n",
        "#:colon is intended\n",
        "#body\n",
        "#return\n",
        "\n",
        "def add(a,b):\n",
        "  \"\"\"\"this is just the documentation\"\"\"\n",
        "  c=a+b # indentation corrected here\n",
        "  return c\n",
        "\n",
        "print(add(1,2))\n",
        "\n",
        "\n",
        "help(add)\n",
        "# # program to take two parameters a and b and return their sum\n",
        "def sum(a,b):\n",
        "  \"\"\"\n",
        "  This is to just add sum of two numbers\n",
        "\n",
        "  \"\"\"\n",
        "  c=a+b\n",
        "  return c\n",
        "print(sum(1,2))\n",
        "# takes list as parameter and returns the average of values in lists\n",
        "def average(list):\n",
        "  total = sum(list) # sum is a function, not a variable\n",
        "  avg = total/len(list)\n",
        "  return avg\n",
        "print(average([1,2,34])) # function call with list, not index\n"
      ],
      "metadata": {
        "id": "EZo51YAHFE-P"
      },
      "execution_count": null,
      "outputs": []
    },
    {
      "cell_type": "markdown",
      "source": [
        "**Write a function that checks if a given number is prime or not and return true if its prime else false**"
      ],
      "metadata": {
        "id": "dq_SU_n9Gkdk"
      }
    },
    {
      "cell_type": "code",
      "source": [
        "def check(num):\n",
        "  if num%2==0:\n",
        "    return true\n",
        "  else:\n",
        "    return false\n",
        "\n",
        "check(4)\n",
        "\n"
      ],
      "metadata": {
        "colab": {
          "base_uri": "https://localhost:8080/",
          "height": 332
        },
        "id": "-yT0RJRSG1A1",
        "outputId": "c308ece0-e4a4-4dac-e9f2-fefbdca24f48"
      },
      "execution_count": null,
      "outputs": [
        {
          "output_type": "error",
          "ename": "NameError",
          "evalue": "name 'true' is not defined",
          "traceback": [
            "\u001b[0;31m---------------------------------------------------------------------------\u001b[0m",
            "\u001b[0;31mNameError\u001b[0m                                 Traceback (most recent call last)",
            "\u001b[0;32m<ipython-input-21-e94c8fe2209f>\u001b[0m in \u001b[0;36m<cell line: 7>\u001b[0;34m()\u001b[0m\n\u001b[1;32m      5\u001b[0m     \u001b[0;32mreturn\u001b[0m \u001b[0mfalse\u001b[0m\u001b[0;34m\u001b[0m\u001b[0;34m\u001b[0m\u001b[0m\n\u001b[1;32m      6\u001b[0m \u001b[0;34m\u001b[0m\u001b[0m\n\u001b[0;32m----> 7\u001b[0;31m \u001b[0mcheck\u001b[0m\u001b[0;34m(\u001b[0m\u001b[0;36m4\u001b[0m\u001b[0;34m)\u001b[0m\u001b[0;34m\u001b[0m\u001b[0;34m\u001b[0m\u001b[0m\n\u001b[0m\u001b[1;32m      8\u001b[0m \u001b[0;34m\u001b[0m\u001b[0m\n\u001b[1;32m      9\u001b[0m \u001b[0;34m\u001b[0m\u001b[0m\n",
            "\u001b[0;32m<ipython-input-21-e94c8fe2209f>\u001b[0m in \u001b[0;36mcheck\u001b[0;34m(num)\u001b[0m\n\u001b[1;32m      1\u001b[0m \u001b[0;32mdef\u001b[0m \u001b[0mcheck\u001b[0m\u001b[0;34m(\u001b[0m\u001b[0mnum\u001b[0m\u001b[0;34m)\u001b[0m\u001b[0;34m:\u001b[0m\u001b[0;34m\u001b[0m\u001b[0;34m\u001b[0m\u001b[0m\n\u001b[1;32m      2\u001b[0m   \u001b[0;32mif\u001b[0m \u001b[0mnum\u001b[0m\u001b[0;34m%\u001b[0m\u001b[0;36m2\u001b[0m\u001b[0;34m==\u001b[0m\u001b[0;36m0\u001b[0m\u001b[0;34m:\u001b[0m\u001b[0;34m\u001b[0m\u001b[0;34m\u001b[0m\u001b[0m\n\u001b[0;32m----> 3\u001b[0;31m     \u001b[0;32mreturn\u001b[0m \u001b[0mtrue\u001b[0m\u001b[0;34m\u001b[0m\u001b[0;34m\u001b[0m\u001b[0m\n\u001b[0m\u001b[1;32m      4\u001b[0m   \u001b[0;32melse\u001b[0m\u001b[0;34m:\u001b[0m\u001b[0;34m\u001b[0m\u001b[0;34m\u001b[0m\u001b[0m\n\u001b[1;32m      5\u001b[0m     \u001b[0;32mreturn\u001b[0m \u001b[0mfalse\u001b[0m\u001b[0;34m\u001b[0m\u001b[0;34m\u001b[0m\u001b[0m\n",
            "\u001b[0;31mNameError\u001b[0m: name 'true' is not defined"
          ]
        }
      ]
    },
    {
      "cell_type": "code",
      "source": [],
      "metadata": {
        "id": "TCD1cueUHNrm"
      },
      "execution_count": null,
      "outputs": []
    }
  ]
}