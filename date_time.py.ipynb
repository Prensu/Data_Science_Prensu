{
 "cells": [
  {
   "cell_type": "code",
   "execution_count": 2,
   "id": "f865a18b-acdc-4a0d-b981-eee5492ba7a4",
   "metadata": {},
   "outputs": [
    {
     "name": "stdout",
     "output_type": "stream",
     "text": [
      "Date passed as argument is 2003-11-28\n"
     ]
    }
   ],
   "source": [
    "# Python program to\n",
    "# demonstrate date class\n",
    " \n",
    "# import the date class\n",
    "from datetime import date\n",
    " \n",
    "my_date = date(2003,11, 28)\n",
    " \n",
    "print(\"Date passed as argument is\", my_date)\n",
    " "
   ]
  },
  {
   "cell_type": "code",
   "execution_count": 5,
   "id": "412ce389-871e-4fff-bfe2-ad37b1acf7a5",
   "metadata": {},
   "outputs": [
    {
     "name": "stdout",
     "output_type": "stream",
     "text": [
      "today is 2024-08-18\n"
     ]
    }
   ],
   "source": [
    "from datetime import date\n",
    "what_day=date.today()\n",
    "print(f\"today is {what_day}\")"
   ]
  },
  {
   "cell_type": "code",
   "execution_count": 10,
   "id": "037b35ff-b3d9-4a99-9fc2-1f08898fd343",
   "metadata": {},
   "outputs": [
    {
     "name": "stdout",
     "output_type": "stream",
     "text": [
      "current year 2024\n",
      "current month 8\n",
      "day today is  18\n"
     ]
    }
   ],
   "source": [
    "today=date.today()\n",
    "year=print(f\"current year\",today.year)\n",
    "month=print(f\"current month\",today.month)\n",
    "day=print(f\"day today is \",today.day)"
   ]
  },
  {
   "cell_type": "code",
   "execution_count": 21,
   "id": "1b55fa32-fa56-4c96-92d5-ee4a7defa460",
   "metadata": {},
   "outputs": [
    {
     "name": "stdout",
     "output_type": "stream",
     "text": [
      "Datetime from timestamp: 2023-04-05 02:02:48\n"
     ]
    }
   ],
   "source": [
    "\n",
    "\n",
    "from datetime import datetime\n",
    " \n",
    "# Getting Datetime from timestamp\n",
    "date_time = datetime.fromtimestamp(1639468)\n",
    "print(\"Datetime from timestamp:\", date_time)"
   ]
  },
  {
   "cell_type": "code",
   "execution_count": null,
   "id": "1846ebd7-9db9-4bbe-b5e7-aa903808da0a",
   "metadata": {},
   "outputs": [],
   "source": []
  }
 ],
 "metadata": {
  "kernelspec": {
   "display_name": "Python 3 (ipykernel)",
   "language": "python",
   "name": "python3"
  },
  "language_info": {
   "codemirror_mode": {
    "name": "ipython",
    "version": 3
   },
   "file_extension": ".py",
   "mimetype": "text/x-python",
   "name": "python",
   "nbconvert_exporter": "python",
   "pygments_lexer": "ipython3",
   "version": "3.12.4"
  }
 },
 "nbformat": 4,
 "nbformat_minor": 5
}
