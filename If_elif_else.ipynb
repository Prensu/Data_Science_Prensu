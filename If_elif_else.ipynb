{
  "nbformat": 4,
  "nbformat_minor": 0,
  "metadata": {
    "colab": {
      "provenance": [],
      "authorship_tag": "ABX9TyNALwuwYu+O6yqx8D6swYMR",
      "include_colab_link": true
    },
    "kernelspec": {
      "name": "python3",
      "display_name": "Python 3"
    },
    "language_info": {
      "name": "python"
    }
  },
  "cells": [
    {
      "cell_type": "markdown",
      "metadata": {
        "id": "view-in-github",
        "colab_type": "text"
      },
      "source": [
        "<a href=\"https://colab.research.google.com/github/Prensu/Data_Science_Prensu/blob/main/If_elif_else.ipynb\" target=\"_parent\"><img src=\"https://colab.research.google.com/assets/colab-badge.svg\" alt=\"Open In Colab\"/></a>"
      ]
    },
    {
      "cell_type": "code",
      "execution_count": 1,
      "metadata": {
        "colab": {
          "base_uri": "https://localhost:8080/"
        },
        "id": "s79ljs8rEBYZ",
        "outputId": "d23c98e2-798b-4354-eb63-5a0c33e3380e"
      },
      "outputs": [
        {
          "output_type": "stream",
          "name": "stdout",
          "text": [
            "Enter the day:\n",
            "friday\n",
            " today i.e\\ friday so its weekday\n"
          ]
        }
      ],
      "source": [
        "day=str(input(\"Enter the day:\\n\"))\n",
        "day_type=\"\"\n",
        "if day==\"saturday\" or day==\"friday\":\n",
        "    day_type=\"weekday\"\n",
        "elif day==\"sunday\" or day==\"monday\" or day==\"tuesday\" or day==\"wednesday\" or day==\"thursday\"  or day==\"sunday\":\n",
        "    day_type=\"weekday\"\n",
        "else:\n",
        "    day_type==\"Invalid day type\"\n",
        "\n",
        "print(f\" today i.e\\ {day} so its {day_type}\")"
      ]
    },
    {
      "cell_type": "code",
      "source": [
        "day=str(input(\"Enter the day:\\n\")).lower()\n",
        "\n",
        "if day==\"saturday\" or day==\"friday\":\n",
        "    day_type=\"weekday\"\n",
        "elif day==\"sunday\" or day==\"monday\" or day==\"tuesday\" or day==\"wednesday\" or day==\"thursday\"  or day==\"sunday\":\n",
        "    day_type=\"weekday\"\n",
        "else:\n",
        "    day_type==\"Invalid day type\"\n",
        "\n",
        "print(f\" today i.e {day} so its {day_type}\")"
      ],
      "metadata": {
        "colab": {
          "base_uri": "https://localhost:8080/"
        },
        "id": "3uCwIh1gERJz",
        "outputId": "fd9cbe7b-80b8-468e-b3c9-b4174fe4a0f4"
      },
      "execution_count": null,
      "outputs": [
        {
          "output_type": "stream",
          "name": "stdout",
          "text": [
            "Enter the day:\n",
            "SUNday\n",
            " today i.e sunday so its weekday\n"
          ]
        }
      ]
    },
    {
      "cell_type": "code",
      "source": [
        "age =int(input(\"Input age:\\n\"))\n",
        "if age >=3 and age<=5:\n",
        "    grade=\"preschool\"\n",
        "elif age>=6 and age<=10:\n",
        "    grade=\"Elementary\"\n",
        "elif age>=14 and age<=13:\n",
        "    grade=\"Middle school\"\n",
        "elif age>=14 and age<=17:\n",
        "    grade=\"High school\"\n",
        "elif age>=18:\n",
        "    grade=\"College\"\n",
        "else:\n",
        "    grade=\"too young for school\"\n",
        "\n",
        "print(f\"A student who is {age} years old is in {grade}\")"
      ],
      "metadata": {
        "colab": {
          "base_uri": "https://localhost:8080/"
        },
        "id": "1tHZq49fEp0b",
        "outputId": "cb773ec7-6b4e-430c-bf62-28073078098d"
      },
      "execution_count": null,
      "outputs": [
        {
          "output_type": "stream",
          "name": "stdout",
          "text": [
            "Input age:\n",
            "17\n",
            "A student who is 17 years old is in High school\n"
          ]
        }
      ]
    },
    {
      "cell_type": "code",
      "source": [
        "temp_c=float(input(\"Enter the temperature in celcius\\n\"))\n",
        "if temp_c>=30:\n",
        "    temp_category=\"extreme hot\"\n",
        "elif temp_c>=21 and temp_c<30:\n",
        "    temp_category=\"Hot\"\n",
        "elif temp_c>=13 and temp_c<21:\n",
        "    temp_category=\"Neither too cold neither too hot\"\n",
        "elif temp_c>=3 and temp_c<=13:\n",
        "    temp_category=\"cold\"\n",
        "else:\n",
        "    temp_category=\"Freezing cold\"\n",
        "\n",
        "print(f\"The temperature is {temp_c} and its {temp_category}\")"
      ],
      "metadata": {
        "colab": {
          "base_uri": "https://localhost:8080/"
        },
        "id": "_7m2xL3VHpua",
        "outputId": "bcea6ce8-859d-46fc-d03c-7eff995ea957"
      },
      "execution_count": null,
      "outputs": [
        {
          "output_type": "stream",
          "name": "stdout",
          "text": [
            "Enter the temperature in celcius\n",
            "17.5\n",
            "The temperature is 17.5 and its Neither too cold neither too hot\n"
          ]
        }
      ]
    },
    {
      "cell_type": "code",
      "source": [
        "entrance_score=int(input(\"Input your entrance exam score:\"))\n",
        "if entrance_score>=40:\n",
        "    eligibility=\" eligible to take admission \"\n",
        "else:\n",
        "    eligibility=\"not eligible to take admission\"\n",
        "\n",
        "print(f\"The student with {entrance_score} is {eligibility}\")"
      ],
      "metadata": {
        "colab": {
          "base_uri": "https://localhost:8080/"
        },
        "id": "_XoVro5hK36S",
        "outputId": "bfa92041-0cfb-4eef-f412-db9480522dd3"
      },
      "execution_count": null,
      "outputs": [
        {
          "output_type": "stream",
          "name": "stdout",
          "text": [
            "Input your entrance exam score:39\n",
            "The student with 39 is not eligible to take admission\n"
          ]
        }
      ]
    },
    {
      "cell_type": "code",
      "source": [
        "month=str(input(\"Enter the  month:\\n\"))\n",
        "\n",
        "if month==\"Bhaishak\":\n",
        "    items=\"New year gifts\"\n",
        "elif month==\"Jestha\":\n",
        "    items=\"summer clothes\"\n",
        "elif month==\"Ashar\":\n",
        "    items=\"raincoat,umbrella\"\n",
        "elif month==\"shrawan\":\n",
        "    items=\"mosquito nets\"\n",
        "elif month==\"bhadra\":\n",
        "    items=\"curds\"\n",
        "elif month==\"Ashoj\":\n",
        "    items=\"Dashain new clothes\"\n",
        "elif month==\"Kartik\":\n",
        "    items=\"Decoration lights\"\n",
        "elif month==\"manghsir\":\n",
        "    items=\"new clothes for attending marriages\"\n",
        "elif month==\"poush\":\n",
        "    items=\"warm clothes for winter\"\n",
        "elif month==\"magh\":\n",
        "    items=\"Heater\"\n",
        "elif month==\"falgun\":\n",
        "    items=\"items for holi \"\n",
        "else:\n",
        "    items=\"books/pens for attending board exams\"\n",
        "\n",
        "print(f\"So based on current month {month} we require {items}\")"
      ],
      "metadata": {
        "colab": {
          "base_uri": "https://localhost:8080/"
        },
        "id": "HUrNFpAYMl0U",
        "outputId": "b4685d83-a3c9-49d3-ba63-baf52bd85b6b"
      },
      "execution_count": null,
      "outputs": [
        {
          "output_type": "stream",
          "name": "stdout",
          "text": [
            "Enter the  month:\n",
            "shrawan\n",
            "So based on current month shrawan we require mosquito nets\n"
          ]
        }
      ]
    },
    {
      "cell_type": "code",
      "source": [],
      "metadata": {
        "id": "BebtFYPqQTWl"
      },
      "execution_count": null,
      "outputs": []
    }
  ]
}