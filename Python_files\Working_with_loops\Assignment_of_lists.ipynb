{
  "nbformat": 4,
  "nbformat_minor": 0,
  "metadata": {
    "colab": {
      "provenance": [],
      "authorship_tag": "ABX9TyPn3OuZrBBOwPjKKOZlOtAt",
      "include_colab_link": true
    },
    "kernelspec": {
      "name": "python3",
      "display_name": "Python 3"
    },
    "language_info": {
      "name": "python"
    }
  },
  "cells": [
    {
      "cell_type": "markdown",
      "metadata": {
        "id": "view-in-github",
        "colab_type": "text"
      },
      "source": [
        "<a href=\"https://colab.research.google.com/github/Prensu/Data_Science_Prensu/blob/main/Python_files%5CWorking_with_loops%5CAssignment_of_lists.ipynb\" target=\"_parent\"><img src=\"https://colab.research.google.com/assets/colab-badge.svg\" alt=\"Open In Colab\"/></a>"
      ]
    },
    {
      "cell_type": "markdown",
      "source": [
        "Qno1)*Write a program that asks the user to input 5 fruits and stores them in a list. Then, use the append() method to add one more fruit to the list and print the updated list using an f-string.*\n"
      ],
      "metadata": {
        "id": "HmBpQard-J_I"
      }
    },
    {
      "cell_type": "code",
      "execution_count": 3,
      "metadata": {
        "colab": {
          "base_uri": "https://localhost:8080/"
        },
        "id": "UwH-0sGS7M4g",
        "outputId": "9c59d334-634a-4cc6-e661-d7dcf3633a70"
      },
      "outputs": [
        {
          "output_type": "stream",
          "name": "stdout",
          "text": [
            "Enter  fruit 1:apple\n",
            "Enter  fruit 2:mango\n",
            "Enter  fruit 3:pineappl \n",
            "Enter  fruit 4:banana\n",
            "Enter  fruit 5:jackfruit\n",
            "Enter one more fruit to add to the list:dragonfruit\n",
            "The updated list of fruits is : ['apple', 'mango', 'pineappl ', 'banana', 'jackfruit', 'dragonfruit']\n"
          ]
        }
      ],
      "source": [
        "fruits=[]\n",
        "\n",
        "for i in range(5):\n",
        "    fruit=input(f\"Enter  fruit {i+1}:\")\n",
        "    fruits.append(fruit)\n",
        "\n",
        "extra_fruit=input(\"Enter one more fruit to add to the list:\")\n",
        "fruits.append(extra_fruit)\n",
        "\n",
        "print(f\"The updated list of fruits is : {fruits}\")"
      ]
    },
    {
      "cell_type": "markdown",
      "source": [
        "Qno2)Create a program that asks the user to input 3 numbers and stores them in a list. Then, use the insert() method to add a new number at the second index and print the updated list using an f-string.\n"
      ],
      "metadata": {
        "id": "K1YVNmyS-rE8"
      }
    },
    {
      "cell_type": "code",
      "source": [
        "number=[]\n",
        "\n",
        "for i in range(3):\n",
        "    num=input(f\"Enter numbers{i+1}:\")\n",
        "    number.append(num)\n",
        "\n",
        "number.insert(2,\"43\")\n",
        "print(f\"The updated list of numbers is :{number}\")"
      ],
      "metadata": {
        "colab": {
          "base_uri": "https://localhost:8080/"
        },
        "id": "whUrvByL7Wkb",
        "outputId": "cd81c9ad-8b3a-46e3-d34d-0fa22ccd791e"
      },
      "execution_count": 4,
      "outputs": [
        {
          "output_type": "stream",
          "name": "stdout",
          "text": [
            "Enter numbers1:12\n",
            "Enter numbers2:15\n",
            "Enter numbers3:17\n",
            "The updated list of numbers is :['12', '15', '43', '17']\n"
          ]
        }
      ]
    },
    {
      "cell_type": "markdown",
      "source": [
        "Qno3)Write a program that creates a list of 4 colors, then uses the clear() method to remove all the elements from the list. Print the empty list using an f-string."
      ],
      "metadata": {
        "id": "EqgPecZg-xqt"
      }
    },
    {
      "cell_type": "code",
      "source": [
        "colors=[]\n",
        "\n",
        "for i in range(4):\n",
        "    color=input(f\"Enter color{i+1}: \")\n",
        "    colors.append(color)\n",
        "\n",
        "colors.clear()\n",
        "print(f\"The colors are :{colors}\")"
      ],
      "metadata": {
        "colab": {
          "base_uri": "https://localhost:8080/"
        },
        "id": "bSlbhB97_c1r",
        "outputId": "4c24d729-5f48-43d0-b7ab-5b318cfb754c"
      },
      "execution_count": 5,
      "outputs": [
        {
          "output_type": "stream",
          "name": "stdout",
          "text": [
            "Enter color1: red\n",
            "Enter color2: yello \n",
            "Enter color3: white \n",
            "Enter color4: blue\n",
            "The colors are :[]\n"
          ]
        }
      ]
    },
    {
      "cell_type": "markdown",
      "source": [
        "Qno4)Create a program that asks the user to input 3 names and stores them in a list. Then, use the copy() method to create a new list with the same elements and print both lists using f-strings."
      ],
      "metadata": {
        "id": "Cfz0DyS4-4PI"
      }
    },
    {
      "cell_type": "code",
      "source": [
        "names=[]\n",
        "i=0\n",
        "while i<3:\n",
        "    name=input(f\"Enter your name {i+1}: \")\n",
        "    i=i+1\n",
        "    names.append(name)\n",
        "\n",
        "class_names=names.copy()\n",
        "print(f\"The list of class students names are :{class_names}\")"
      ],
      "metadata": {
        "colab": {
          "base_uri": "https://localhost:8080/"
        },
        "id": "nTDzG5gp_eIX",
        "outputId": "7e72851e-b6e6-4760-dfb6-4aaca2cadfcd"
      },
      "execution_count": 6,
      "outputs": [
        {
          "output_type": "stream",
          "name": "stdout",
          "text": [
            "Enter your name 1: rohan\n",
            "Enter your name 2: ram\n",
            "Enter your name 3: drishya\n",
            "The list of class students names are :['rohan', 'ram', 'drishya']\n"
          ]
        }
      ]
    },
    {
      "cell_type": "markdown",
      "source": [
        "Qno5)Write a program that creates a list of 5 numbers, then uses the count() method to determine how many times a specific number appears in the list. Print the result using an f-string."
      ],
      "metadata": {
        "id": "_Tl975GB-9_l"
      }
    },
    {
      "cell_type": "code",
      "source": [
        "numbers=[]\n",
        "\n",
        "for i in range(5):\n",
        "    number=input(f\"Enter elements in the list{i+1}: \")\n",
        "    numbers.append(number)\n",
        "\n",
        "y=numbers.count('90')\n",
        "print(y)"
      ],
      "metadata": {
        "colab": {
          "base_uri": "https://localhost:8080/"
        },
        "id": "Xw9gioEO_fRR",
        "outputId": "374b5c52-e674-4d8b-e65f-d5f44a174cd6"
      },
      "execution_count": 7,
      "outputs": [
        {
          "output_type": "stream",
          "name": "stdout",
          "text": [
            "Enter elements in the list1: 90\n",
            "Enter elements in the list2: 90\n",
            "Enter elements in the list3: 90\n",
            "Enter elements in the list4: 90\n",
            "Enter elements in the list5: 22\n",
            "4\n"
          ]
        }
      ]
    },
    {
      "cell_type": "markdown",
      "source": [
        "Qno6)Create a program that asks the user to input 3 colors and stores them in a list. Then, use the extend() method to add 2 more colors to the list and print the updated list using an f-string."
      ],
      "metadata": {
        "id": "gGR5Sbwj_CGO"
      }
    },
    {
      "cell_type": "code",
      "source": [
        "colors=[]\n",
        "i=0\n",
        "while i<3:\n",
        "    color=input(f\"Enter colors{i+1}: \")\n",
        "    i=i+1\n",
        "    colors.append(color)\n",
        "\n",
        "print(colors)\n",
        "more_colors=['marineblue','pink','black']\n",
        "colors.extend(more_colors)\n",
        "print(colors)"
      ],
      "metadata": {
        "colab": {
          "base_uri": "https://localhost:8080/"
        },
        "id": "fwWd95eB_f3B",
        "outputId": "5e4e0480-5980-40cb-d791-fb1c560a0ee8"
      },
      "execution_count": 8,
      "outputs": [
        {
          "output_type": "stream",
          "name": "stdout",
          "text": [
            "Enter colors1: red\n",
            "Enter colors2: green\n",
            "Enter colors3: blue\n",
            "['red', 'green', 'blue']\n",
            "['red', 'green', 'blue', 'marineblue', 'pink', 'black']\n"
          ]
        }
      ]
    },
    {
      "cell_type": "markdown",
      "source": [
        "Qn7)Write a program that creates a list of 4 fruits, then uses the index() method to find the index of a specific fruit in the list. Print the index using an f-string."
      ],
      "metadata": {
        "id": "5Qd1T6dW_HQe"
      }
    },
    {
      "cell_type": "code",
      "source": [
        "fruits=[]\n",
        "i=0\n",
        "while i<4:\n",
        "    fruit=input(f\"Enter fruit{i+1}: \")\n",
        "    i=i+1\n",
        "    fruits.append(fruit)\n",
        "\n",
        "\n",
        "x=fruits.index('blueberry')\n",
        "x"
      ],
      "metadata": {
        "colab": {
          "base_uri": "https://localhost:8080/"
        },
        "id": "5LJABaoC_gY8",
        "outputId": "f7deae38-0c34-41c9-df35-db577e14369b"
      },
      "execution_count": 10,
      "outputs": [
        {
          "name": "stdout",
          "output_type": "stream",
          "text": [
            "Enter fruit1: blueberry\n",
            "Enter fruit2: strawberry\n",
            "Enter fruit3: kiwi\n",
            "Enter fruit4: watermelon\n"
          ]
        },
        {
          "output_type": "execute_result",
          "data": {
            "text/plain": [
              "0"
            ]
          },
          "metadata": {},
          "execution_count": 10
        }
      ]
    },
    {
      "cell_type": "markdown",
      "source": [
        "Qno8)Create a program that asks the user to input 4 numbers and stores them in a list. Then, use the pop() method to remove the last number from the list and print the updated list using an f-string."
      ],
      "metadata": {
        "id": "DCCOevB5_Nk6"
      }
    },
    {
      "cell_type": "code",
      "source": [
        "primes=[]\n",
        "i=0\n",
        "while i<4:\n",
        "    prime=input(f\"Enter prime number{i+1}: \")\n",
        "    i=i+1\n",
        "    primes.append(prime)\n",
        "\n",
        "primes.pop()\n",
        "print(f\"The updated number lists is :{primes}\")\n"
      ],
      "metadata": {
        "colab": {
          "base_uri": "https://localhost:8080/"
        },
        "id": "WmGC-rJx_hHc",
        "outputId": "c3df89f4-2801-4eea-f1c6-67ccdfaf6eeb"
      },
      "execution_count": 12,
      "outputs": [
        {
          "output_type": "stream",
          "name": "stdout",
          "text": [
            "Enter prime number1: 3\n",
            "Enter prime number2: \n",
            "Enter prime number3: 7\n",
            "Enter prime number4: 9\n",
            "The updated number lists is :['3', '', '7']\n"
          ]
        }
      ]
    },
    {
      "cell_type": "markdown",
      "source": [
        "Qno9)Write a program that creates a list of 5 names, then uses the remove() method to remove a specific name from the list and print the updated list using an f-string.5"
      ],
      "metadata": {
        "id": "cwZdHsCZ_XhW"
      }
    },
    {
      "cell_type": "code",
      "source": [
        "names=[]\n",
        "i=0\n",
        "while i<5:\n",
        "    name=input(f\"Enter name{i+1}: \")\n",
        "    i=i+1\n",
        "    names.append(name)\n",
        "\n",
        "names.remove('nima')\n",
        "print(f\"The updated list of names is :{names}\")\n"
      ],
      "metadata": {
        "colab": {
          "base_uri": "https://localhost:8080/"
        },
        "id": "GF100e6y_iH4",
        "outputId": "4fb55187-792d-411a-b133-addaaef000a1"
      },
      "execution_count": 15,
      "outputs": [
        {
          "output_type": "stream",
          "name": "stdout",
          "text": [
            "Enter name1: sachhayam \n",
            "Enter name2: nima\n",
            "Enter name3: janak\n",
            "Enter name4: pem\n",
            "Enter name5: ningsang\n",
            "The updated list of names is :['sachhayam ', 'janak', 'pem', 'ningsang']\n"
          ]
        }
      ]
    }
  ]
}