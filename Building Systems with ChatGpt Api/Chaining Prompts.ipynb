{
 "cells": [
  {
   "cell_type": "markdown",
   "id": "ff36c035-80da-40b4-b7b4-04f25d3c5f3f",
   "metadata": {},
   "source": [
    "# L5 Process Inputs: Chaining Prompts\n"
   ]
  },
  {
   "cell_type": "markdown",
   "id": "fa247fb7-48bd-445e-82cc-e1b93893ab8b",
   "metadata": {},
   "source": [
    "Chaining Prompts means breaking down a task into multiple steps and handling each step with a separate prompt"
   ]
  },
  {
   "cell_type": "code",
   "execution_count": 1,
   "id": "230146b2",
   "metadata": {
    "height": 115
   },
   "outputs": [],
   "source": [
    "import os\n",
    "import openai\n",
    "from dotenv import load_dotenv, find_dotenv\n",
    "_ = load_dotenv(find_dotenv()) # read local .env file\n",
    "\n",
    "openai.api_key  = os.environ['OPENAI_API_KEY']"
   ]
  },
  {
   "cell_type": "code",
   "execution_count": 2,
   "id": "032b3add",
   "metadata": {
    "height": 200
   },
   "outputs": [],
   "source": [
    "def get_completion_from_messages(messages, \n",
    "                                 model=\"gpt-3.5-turbo\", \n",
    "                                 temperature=0, \n",
    "                                 max_tokens=500):\n",
    "    response = openai.ChatCompletion.create(\n",
    "        model=model,\n",
    "        messages=messages,\n",
    "        temperature=temperature, \n",
    "        max_tokens=max_tokens, \n",
    "    )\n",
    "    return response.choices[0].message[\"content\"]"
   ]
  },
  {
   "cell_type": "markdown",
   "id": "893e03f3-beaf-407d-be10-120d0f5760af",
   "metadata": {},
   "source": [
    "## Implement a complex task with multiple prompts\n",
    "\n",
    "### Extract relevant product and category names"
   ]
  },
  {
   "cell_type": "code",
   "execution_count": 3,
   "id": "cb6059af",
   "metadata": {
    "height": 1390
   },
   "outputs": [
    {
     "name": "stdout",
     "output_type": "stream",
     "text": [
      "[\n",
      "    {'category': 'Smartphones and Accessories'},\n",
      "    {'category': 'Cameras and Camcorders'},\n",
      "    {'category': 'Televisions and Home Theater Systems'}\n",
      "]\n"
     ]
    }
   ],
   "source": [
    "delimiter = \"####\"\n",
    "system_message = f\"\"\"\n",
    "You will be provided with customer service queries. \\\n",
    "The customer service query will be delimited with \\\n",
    "{delimiter} characters.\n",
    "Output a python list of objects, where each object has \\\n",
    "the following format:\n",
    "    'category': <one of Computers and Laptops, \\\n",
    "    Smartphones and Accessories, \\\n",
    "    Televisions and Home Theater Systems, \\\n",
    "    Gaming Consoles and Accessories, \n",
    "    Audio Equipment, Cameras and Camcorders>,\n",
    "OR\n",
    "    'products': <a list of products that must \\\n",
    "    be found in the allowed products below>\n",
    "\n",
    "Where the categories and products must be found in \\\n",
    "the customer service query.\n",
    "If a product is mentioned, it must be associated with \\\n",
    "the correct category in the allowed products list below.\n",
    "If no products or categories are found, output an \\\n",
    "empty list.\n",
    "\n",
    "Allowed products: \n",
    "\n",
    "Computers and Laptops category:\n",
    "TechPro Ultrabook\n",
    "BlueWave Gaming Laptop\n",
    "PowerLite Convertible\n",
    "TechPro Desktop\n",
    "BlueWave Chromebook\n",
    "\n",
    "Smartphones and Accessories category:\n",
    "SmartX ProPhone\n",
    "MobiTech PowerCase\n",
    "SmartX MiniPhone\n",
    "MobiTech Wireless Charger\n",
    "SmartX EarBuds\n",
    "\n",
    "Televisions and Home Theater Systems category:\n",
    "CineView 4K TV\n",
    "SoundMax Home Theater\n",
    "CineView 8K TV\n",
    "SoundMax Soundbar\n",
    "CineView OLED TV\n",
    "\n",
    "Gaming Consoles and Accessories category:\n",
    "GameSphere X\n",
    "ProGamer Controller\n",
    "GameSphere Y\n",
    "ProGamer Racing Wheel\n",
    "GameSphere VR Headset\n",
    "\n",
    "Audio Equipment category:\n",
    "AudioPhonic Noise-Canceling Headphones\n",
    "WaveSound Bluetooth Speaker\n",
    "AudioPhonic True Wireless Earbuds\n",
    "WaveSound Soundbar\n",
    "AudioPhonic Turntable\n",
    "\n",
    "Cameras and Camcorders category:\n",
    "FotoSnap DSLR Camera\n",
    "ActionCam 4K\n",
    "FotoSnap Mirrorless Camera\n",
    "ZoomMaster Camcorder\n",
    "FotoSnap Instant Camera\n",
    "\n",
    "Only output the list of objects, with nothing else.\n",
    "\"\"\"\n",
    "user_message_1 = f\"\"\"\n",
    " tell me about the smartx pro phone and \\\n",
    " the fotosnap camera, the dslr one. \\\n",
    " Also tell me about your tvs \"\"\"\n",
    "messages =  [  \n",
    "{'role':'system', \n",
    " 'content': system_message},    \n",
    "{'role':'user', \n",
    " 'content': f\"{delimiter}{user_message_1}{delimiter}\"},  \n",
    "] \n",
    "category_and_product_response_1 = get_completion_from_messages(messages)\n",
    "print(category_and_product_response_1)"
   ]
  },
  {
   "cell_type": "code",
   "execution_count": 4,
   "id": "1aa1367c",
   "metadata": {
    "height": 183
   },
   "outputs": [
    {
     "name": "stdout",
     "output_type": "stream",
     "text": [
      "[]\n"
     ]
    }
   ],
   "source": [
    "user_message_2 = f\"\"\"\n",
    "my router isn't working\"\"\"\n",
    "messages =  [  \n",
    "{'role':'system',\n",
    " 'content': system_message},    \n",
    "{'role':'user',\n",
    " 'content': f\"{delimiter}{user_message_2}{delimiter}\"},  \n",
    "] \n",
    "response = get_completion_from_messages(messages)\n",
    "print(response)"
   ]
  },
  {
   "cell_type": "markdown",
   "id": "adb67e58-78e3-49e3-830e-5983131723ab",
   "metadata": {},
   "source": [
    "### Retrieve detailed product information for extracted products and categories"
   ]
  },
  {
   "cell_type": "code",
   "execution_count": 8,
   "id": "502fb261",
   "metadata": {
    "height": 2153
   },
   "outputs": [],
   "source": [
    "products = {\n",
    "    \"HimalTech Ultrabook\": {\n",
    "        \"name\": \"HimalTech Ultrabook\",\n",
    "        \"category\": \"Computers and Laptops\",\n",
    "        \"brand\": \"HimalTech\",\n",
    "        \"model_number\": \"HT-UB100\",\n",
    "        \"warranty\": \"1 year\",\n",
    "        \"rating\": 4.5,\n",
    "        \"features\": [\"13.3-inch display\", \"8GB RAM\", \"256GB SSD\", \"Intel Core i5 processor\"],\n",
    "        \"description\": \"Online classes र everyday कामका लागि उपयुक्त, हलुका र स्टाइलिस ल्यापटप।\",\n",
    "        \"price\": 95000  # NPR\n",
    "    },\n",
    "    \"Pashupati Gaming Laptop\": {\n",
    "        \"name\": \"Pashupati Gaming Laptop\",\n",
    "        \"category\": \"Computers and Laptops\",\n",
    "        \"brand\": \"Pashupati\",\n",
    "        \"model_number\": \"PG-GL200\",\n",
    "        \"warranty\": \"2 years\",\n",
    "        \"rating\": 4.7,\n",
    "        \"features\": [\"15.6-inch display\", \"16GB RAM\", \"512GB SSD\", \"NVIDIA RTX 3060\"],\n",
    "        \"description\": \"Nepali गेमिङ युट्युबर र डिजाइनरहरूका लागि पर्फेक्ट हाइ-पर्फरमेन्स ल्यापटप।\",\n",
    "        \"price\": 145000\n",
    "    },\n",
    "    \"Lumbini Convertible\": {\n",
    "        \"name\": \"Lumbini Convertible\",\n",
    "        \"category\": \"Computers and Laptops\",\n",
    "        \"brand\": \"Lumbini\",\n",
    "        \"model_number\": \"LB-CV300\",\n",
    "        \"warranty\": \"1 year\",\n",
    "        \"rating\": 4.3,\n",
    "        \"features\": [\"14-inch touchscreen\", \"8GB RAM\", \"256GB SSD\", \"360-degree hinge\"],\n",
    "        \"description\": \"ट्याब्लेट जस्तै चलाउने मिल्ने यो ल्यापटप विद्यार्थिहरूका लागि उपयुक्त छ।\",\n",
    "        \"price\": 85000\n",
    "    },\n",
    "    \"Everest Desktop\": {\n",
    "        \"name\": \"Everest Desktop\",\n",
    "        \"category\": \"Computers and Laptops\",\n",
    "        \"brand\": \"Everest\",\n",
    "        \"model_number\": \"EV-DT500\",\n",
    "        \"warranty\": \"1 year\",\n",
    "        \"rating\": 4.4,\n",
    "        \"features\": [\"Intel Core i7 processor\", \"16GB RAM\", \"1TB HDD\", \"NVIDIA GTX 1660\"],\n",
    "        \"description\": \"ऑफिस वा गेमिङ दुवैका लागि सक्षम डेस्कटप सिस्टम।\",\n",
    "        \"price\": 125000\n",
    "    },\n",
    "    \"Himal Chromebook\": {\n",
    "        \"name\": \"Himal Chromebook\",\n",
    "        \"category\": \"Computers and Laptops\",\n",
    "        \"brand\": \"Himal\",\n",
    "        \"model_number\": \"HM-CB100\",\n",
    "        \"warranty\": \"1 year\",\n",
    "        \"rating\": 4.1,\n",
    "        \"features\": [\"11.6-inch display\", \"4GB RAM\", \"32GB eMMC\", \"Chrome OS\"],\n",
    "        \"description\": \"Nepali विद्यार्थीहरूको लागि किफायती र सजिलो Chrome OS डिभाइस।\",\n",
    "        \"price\": 35000\n",
    "    },\n",
    "    \"CallNep SmartPhone X\": {\n",
    "        \"name\": \"CallNep SmartPhone X\",\n",
    "        \"category\": \"Smartphones and Accessories\",\n",
    "        \"brand\": \"CallNep\",\n",
    "        \"model_number\": \"CN-SPX10\",\n",
    "        \"warranty\": \"1 year\",\n",
    "        \"rating\": 4.6,\n",
    "        \"features\": [\"6.1-inch display\", \"128GB storage\", \"Dual camera\", \"4G/5G supported\"],\n",
    "        \"description\": \"शक्तिशाली क्यामेरा र तेज नेटवर्कका साथ CallNep को नयाँ स्मार्टफोन।\",\n",
    "        \"price\": 105000\n",
    "    },\n",
    "    \"MeroCase PowerBank Case\": {\n",
    "        \"name\": \"MeroCase PowerBank Case\",\n",
    "        \"category\": \"Smartphones and Accessories\",\n",
    "        \"brand\": \"MeroCase\",\n",
    "        \"model_number\": \"MC-PBC20\",\n",
    "        \"warranty\": \"1 year\",\n",
    "        \"rating\": 4.3,\n",
    "        \"features\": [\"5000mAh battery\", \"Wireless charging\", \"Compatible with CallNep X\"],\n",
    "        \"description\": \"लामो यात्रा वा आउटडोरमा फोन चार्ज राख्न सजिलो कभर केस।\",\n",
    "        \"price\": 7000\n",
    "    },\n",
    "    \"CallNep Mini\": {\n",
    "        \"name\": \"CallNep Mini\",\n",
    "        \"category\": \"Smartphones and Accessories\",\n",
    "        \"brand\": \"CallNep\",\n",
    "        \"model_number\": \"CN-M5\",\n",
    "        \"warranty\": \"1 year\",\n",
    "        \"rating\": 4.2,\n",
    "        \"features\": [\"4.7-inch display\", \"64GB storage\", \"8MP camera\", \"4G\"],\n",
    "        \"description\": \"Senior नागरिक वा स्कुल जाने बालबालिकाका लागि सस्तो र टिकाउ फोन।\",\n",
    "        \"price\": 45000\n",
    "    },\n",
    "    \"MeroCharger Wireless Pad\": {\n",
    "        \"name\": \"MeroCharger Wireless Pad\",\n",
    "        \"category\": \"Smartphones and Accessories\",\n",
    "        \"brand\": \"MeroCharger\",\n",
    "        \"model_number\": \"MC-WC10\",\n",
    "        \"warranty\": \"1 year\",\n",
    "        \"rating\": 4.5,\n",
    "        \"features\": [\"10W fast charging\", \"LED indicator\", \"Compact\"],\n",
    "        \"description\": \"डेस्कमा साजसज्जा पनि बढाउने स्टाइलिस वायरलेस चार्जर।\",\n",
    "        \"price\": 3500\n",
    "    },\n",
    "    \"CallNep EarBuds\": {\n",
    "        \"name\": \"CallNep EarBuds\",\n",
    "        \"category\": \"Smartphones and Accessories\",\n",
    "        \"brand\": \"CallNep\",\n",
    "        \"model_number\": \"CN-EB20\",\n",
    "        \"warranty\": \"1 year\",\n",
    "        \"rating\": 4.4,\n",
    "        \"features\": [\"True wireless\", \"Bluetooth 5.0\", \"Touch controls\", \"24-hour battery life\"],\n",
    "        \"description\": \"सफा आवाज र लामो ब्याट्री जीवनसाथ आधुनिक इयरबड्स।\",\n",
    "        \"price\": 11500\n",
    "    },\n",
    "    \"Sagarmatha 4K TV\": {\n",
    "        \"name\": \"Sagarmatha 4K TV\",\n",
    "        \"category\": \"Televisions and Home Theater Systems\",\n",
    "        \"brand\": \"Sagarmatha\",\n",
    "        \"model_number\": \"SG-4K55\",\n",
    "        \"warranty\": \"2 years\",\n",
    "        \"rating\": 4.8,\n",
    "        \"features\": [\"55-inch display\", \"4K resolution\", \"HDR\", \"Smart TV\"],\n",
    "        \"description\": \"Nepali चलचित्र र Youtube रमाइलो गर्नका लागि सुन्दर 4K टिभी।\",\n",
    "        \"price\": 95000\n",
    "    },\n",
    "    # You can continue with other products in the same pattern...\n",
    "}\n"
   ]
  },
  {
   "cell_type": "code",
   "execution_count": 9,
   "id": "64d0e64e",
   "metadata": {
    "height": 113
   },
   "outputs": [],
   "source": [
    "def get_product_by_name(name):\n",
    "    return products.get(name, None)\n",
    "\n",
    "def get_products_by_category(category):\n",
    "    return [product for product in products.values() if product[\"category\"] == category]"
   ]
  },
  {
   "cell_type": "code",
   "execution_count": 11,
   "id": "11b08b69",
   "metadata": {
    "height": 30
   },
   "outputs": [
    {
     "name": "stdout",
     "output_type": "stream",
     "text": [
      "{'name': 'Everest Desktop', 'category': 'Computers and Laptops', 'brand': 'Everest', 'model_number': 'EV-DT500', 'warranty': '1 year', 'rating': 4.4, 'features': ['Intel Core i7 processor', '16GB RAM', '1TB HDD', 'NVIDIA GTX 1660'], 'description': 'ऑफिस वा गेमिङ दुवैका लागि सक्षम डेस्कटप सिस्टम।', 'price': 125000}\n"
     ]
    }
   ],
   "source": [
    "print(get_product_by_name(\"Everest Desktop\"))"
   ]
  },
  {
   "cell_type": "code",
   "execution_count": 12,
   "id": "0f40b043",
   "metadata": {
    "height": 30
   },
   "outputs": [
    {
     "name": "stdout",
     "output_type": "stream",
     "text": [
      "[{'name': 'CallNep SmartPhone X', 'category': 'Smartphones and Accessories', 'brand': 'CallNep', 'model_number': 'CN-SPX10', 'warranty': '1 year', 'rating': 4.6, 'features': ['6.1-inch display', '128GB storage', 'Dual camera', '4G/5G supported'], 'description': 'शक्तिशाली क्यामेरा र तेज नेटवर्कका साथ CallNep को नयाँ स्मार्टफोन।', 'price': 105000}, {'name': 'MeroCase PowerBank Case', 'category': 'Smartphones and Accessories', 'brand': 'MeroCase', 'model_number': 'MC-PBC20', 'warranty': '1 year', 'rating': 4.3, 'features': ['5000mAh battery', 'Wireless charging', 'Compatible with CallNep X'], 'description': 'लामो यात्रा वा आउटडोरमा फोन चार्ज राख्न सजिलो कभर केस।', 'price': 7000}, {'name': 'CallNep Mini', 'category': 'Smartphones and Accessories', 'brand': 'CallNep', 'model_number': 'CN-M5', 'warranty': '1 year', 'rating': 4.2, 'features': ['4.7-inch display', '64GB storage', '8MP camera', '4G'], 'description': 'Senior नागरिक वा स्कुल जाने बालबालिकाका लागि सस्तो र टिकाउ फोन।', 'price': 45000}, {'name': 'MeroCharger Wireless Pad', 'category': 'Smartphones and Accessories', 'brand': 'MeroCharger', 'model_number': 'MC-WC10', 'warranty': '1 year', 'rating': 4.5, 'features': ['10W fast charging', 'LED indicator', 'Compact'], 'description': 'डेस्कमा साजसज्जा पनि बढाउने स्टाइलिस वायरलेस चार्जर।', 'price': 3500}, {'name': 'CallNep EarBuds', 'category': 'Smartphones and Accessories', 'brand': 'CallNep', 'model_number': 'CN-EB20', 'warranty': '1 year', 'rating': 4.4, 'features': ['True wireless', 'Bluetooth 5.0', 'Touch controls', '24-hour battery life'], 'description': 'सफा आवाज र लामो ब्याट्री जीवनसाथ आधुनिक इयरबड्स।', 'price': 11500}]\n"
     ]
    }
   ],
   "source": [
    "print(get_products_by_category(\"Smartphones and Accessories\"))"
   ]
  },
  {
   "cell_type": "code",
   "execution_count": 13,
   "id": "04aa364d",
   "metadata": {
    "height": 30
   },
   "outputs": [
    {
     "name": "stdout",
     "output_type": "stream",
     "text": [
      "\n",
      " tell me about the smartx pro phone and  the fotosnap camera, the dslr one.  Also tell me about your tvs \n"
     ]
    }
   ],
   "source": [
    "print(user_message_1)"
   ]
  },
  {
   "cell_type": "code",
   "execution_count": 14,
   "id": "5d09ff6b",
   "metadata": {
    "height": 30
   },
   "outputs": [
    {
     "name": "stdout",
     "output_type": "stream",
     "text": [
      "[\n",
      "    {'category': 'Smartphones and Accessories'},\n",
      "    {'category': 'Cameras and Camcorders'},\n",
      "    {'category': 'Televisions and Home Theater Systems'}\n",
      "]\n"
     ]
    }
   ],
   "source": [
    "print(category_and_product_response_1)"
   ]
  },
  {
   "cell_type": "markdown",
   "id": "62e73370-597a-4195-94b2-e9d188113d7c",
   "metadata": {},
   "source": [
    "### Read Python string into Python list of dictionaries"
   ]
  },
  {
   "cell_type": "code",
   "execution_count": 17,
   "id": "ea0a3506",
   "metadata": {
    "height": 266
   },
   "outputs": [],
   "source": [
    "import json \n",
    "\n",
    "def read_string_to_list(input_string):\n",
    "    if input_string is None:\n",
    "        return None\n",
    "\n",
    "    try:\n",
    "        input_string = input_string.replace(\"'\", \"\\\"\")  # Replace single quotes with double quotes for valid JSON\n",
    "        data = json.loads(input_string)\n",
    "        return data\n",
    "    except json.JSONDecodeError:\n",
    "        print(\"Error: Invalid JSON string\")\n",
    "        return None   \n",
    "    "
   ]
  },
  {
   "cell_type": "code",
   "execution_count": 18,
   "id": "488a2024",
   "metadata": {
    "height": 62
   },
   "outputs": [
    {
     "name": "stdout",
     "output_type": "stream",
     "text": [
      "[{'category': 'Smartphones and Accessories'}, {'category': 'Cameras and Camcorders'}, {'category': 'Televisions and Home Theater Systems'}]\n"
     ]
    }
   ],
   "source": [
    "category_and_product_list = read_string_to_list(category_and_product_response_1)\n",
    "print(category_and_product_list)"
   ]
  },
  {
   "cell_type": "markdown",
   "id": "97915cdf-137a-41a0-84e0-edcf269a37cd",
   "metadata": {},
   "source": [
    "#### Retrieve detailed product information for the relevant products and categories"
   ]
  },
  {
   "cell_type": "code",
   "execution_count": 15,
   "id": "8d571c2c",
   "metadata": {
    "height": 487
   },
   "outputs": [],
   "source": [
    "def generate_output_string(data_list):\n",
    "    output_string = \"\"\n",
    "\n",
    "    if data_list is None:\n",
    "        return output_string\n",
    "\n",
    "    for data in data_list:\n",
    "        try:\n",
    "            if \"products\" in data:\n",
    "                products_list = data[\"products\"]\n",
    "                for product_name in products_list:\n",
    "                    product = get_product_by_name(product_name)\n",
    "                    if product:\n",
    "                        output_string += json.dumps(product, indent=4) + \"\\n\"\n",
    "                    else:\n",
    "                        print(f\"Error: Product '{product_name}' not found\")\n",
    "            elif \"category\" in data:\n",
    "                category_name = data[\"category\"]\n",
    "                category_products = get_products_by_category(category_name)\n",
    "                for product in category_products:\n",
    "                    output_string += json.dumps(product, indent=4) + \"\\n\"\n",
    "            else:\n",
    "                print(\"Error: Invalid object format\")\n",
    "        except Exception as e:\n",
    "            print(f\"Error: {e}\")\n",
    "\n",
    "    return output_string "
   ]
  },
  {
   "cell_type": "code",
   "execution_count": 19,
   "id": "a5e18759",
   "metadata": {
    "height": 62
   },
   "outputs": [
    {
     "name": "stdout",
     "output_type": "stream",
     "text": [
      "{\n",
      "    \"name\": \"CallNep SmartPhone X\",\n",
      "    \"category\": \"Smartphones and Accessories\",\n",
      "    \"brand\": \"CallNep\",\n",
      "    \"model_number\": \"CN-SPX10\",\n",
      "    \"warranty\": \"1 year\",\n",
      "    \"rating\": 4.6,\n",
      "    \"features\": [\n",
      "        \"6.1-inch display\",\n",
      "        \"128GB storage\",\n",
      "        \"Dual camera\",\n",
      "        \"4G/5G supported\"\n",
      "    ],\n",
      "    \"description\": \"\\u0936\\u0915\\u094d\\u0924\\u093f\\u0936\\u093e\\u0932\\u0940 \\u0915\\u094d\\u092f\\u093e\\u092e\\u0947\\u0930\\u093e \\u0930 \\u0924\\u0947\\u091c \\u0928\\u0947\\u091f\\u0935\\u0930\\u094d\\u0915\\u0915\\u093e \\u0938\\u093e\\u0925 CallNep \\u0915\\u094b \\u0928\\u092f\\u093e\\u0901 \\u0938\\u094d\\u092e\\u093e\\u0930\\u094d\\u091f\\u092b\\u094b\\u0928\\u0964\",\n",
      "    \"price\": 105000\n",
      "}\n",
      "{\n",
      "    \"name\": \"MeroCase PowerBank Case\",\n",
      "    \"category\": \"Smartphones and Accessories\",\n",
      "    \"brand\": \"MeroCase\",\n",
      "    \"model_number\": \"MC-PBC20\",\n",
      "    \"warranty\": \"1 year\",\n",
      "    \"rating\": 4.3,\n",
      "    \"features\": [\n",
      "        \"5000mAh battery\",\n",
      "        \"Wireless charging\",\n",
      "        \"Compatible with CallNep X\"\n",
      "    ],\n",
      "    \"description\": \"\\u0932\\u093e\\u092e\\u094b \\u092f\\u093e\\u0924\\u094d\\u0930\\u093e \\u0935\\u093e \\u0906\\u0909\\u091f\\u0921\\u094b\\u0930\\u092e\\u093e \\u092b\\u094b\\u0928 \\u091a\\u093e\\u0930\\u094d\\u091c \\u0930\\u093e\\u0916\\u094d\\u0928 \\u0938\\u091c\\u093f\\u0932\\u094b \\u0915\\u092d\\u0930 \\u0915\\u0947\\u0938\\u0964\",\n",
      "    \"price\": 7000\n",
      "}\n",
      "{\n",
      "    \"name\": \"CallNep Mini\",\n",
      "    \"category\": \"Smartphones and Accessories\",\n",
      "    \"brand\": \"CallNep\",\n",
      "    \"model_number\": \"CN-M5\",\n",
      "    \"warranty\": \"1 year\",\n",
      "    \"rating\": 4.2,\n",
      "    \"features\": [\n",
      "        \"4.7-inch display\",\n",
      "        \"64GB storage\",\n",
      "        \"8MP camera\",\n",
      "        \"4G\"\n",
      "    ],\n",
      "    \"description\": \"Senior \\u0928\\u093e\\u0917\\u0930\\u093f\\u0915 \\u0935\\u093e \\u0938\\u094d\\u0915\\u0941\\u0932 \\u091c\\u093e\\u0928\\u0947 \\u092c\\u093e\\u0932\\u092c\\u093e\\u0932\\u093f\\u0915\\u093e\\u0915\\u093e \\u0932\\u093e\\u0917\\u093f \\u0938\\u0938\\u094d\\u0924\\u094b \\u0930 \\u091f\\u093f\\u0915\\u093e\\u0909 \\u092b\\u094b\\u0928\\u0964\",\n",
      "    \"price\": 45000\n",
      "}\n",
      "{\n",
      "    \"name\": \"MeroCharger Wireless Pad\",\n",
      "    \"category\": \"Smartphones and Accessories\",\n",
      "    \"brand\": \"MeroCharger\",\n",
      "    \"model_number\": \"MC-WC10\",\n",
      "    \"warranty\": \"1 year\",\n",
      "    \"rating\": 4.5,\n",
      "    \"features\": [\n",
      "        \"10W fast charging\",\n",
      "        \"LED indicator\",\n",
      "        \"Compact\"\n",
      "    ],\n",
      "    \"description\": \"\\u0921\\u0947\\u0938\\u094d\\u0915\\u092e\\u093e \\u0938\\u093e\\u091c\\u0938\\u091c\\u094d\\u091c\\u093e \\u092a\\u0928\\u093f \\u092c\\u0922\\u093e\\u0909\\u0928\\u0947 \\u0938\\u094d\\u091f\\u093e\\u0907\\u0932\\u093f\\u0938 \\u0935\\u093e\\u092f\\u0930\\u0932\\u0947\\u0938 \\u091a\\u093e\\u0930\\u094d\\u091c\\u0930\\u0964\",\n",
      "    \"price\": 3500\n",
      "}\n",
      "{\n",
      "    \"name\": \"CallNep EarBuds\",\n",
      "    \"category\": \"Smartphones and Accessories\",\n",
      "    \"brand\": \"CallNep\",\n",
      "    \"model_number\": \"CN-EB20\",\n",
      "    \"warranty\": \"1 year\",\n",
      "    \"rating\": 4.4,\n",
      "    \"features\": [\n",
      "        \"True wireless\",\n",
      "        \"Bluetooth 5.0\",\n",
      "        \"Touch controls\",\n",
      "        \"24-hour battery life\"\n",
      "    ],\n",
      "    \"description\": \"\\u0938\\u092b\\u093e \\u0906\\u0935\\u093e\\u091c \\u0930 \\u0932\\u093e\\u092e\\u094b \\u092c\\u094d\\u092f\\u093e\\u091f\\u094d\\u0930\\u0940 \\u091c\\u0940\\u0935\\u0928\\u0938\\u093e\\u0925 \\u0906\\u0927\\u0941\\u0928\\u093f\\u0915 \\u0907\\u092f\\u0930\\u092c\\u0921\\u094d\\u0938\\u0964\",\n",
      "    \"price\": 11500\n",
      "}\n",
      "{\n",
      "    \"name\": \"Sagarmatha 4K TV\",\n",
      "    \"category\": \"Televisions and Home Theater Systems\",\n",
      "    \"brand\": \"Sagarmatha\",\n",
      "    \"model_number\": \"SG-4K55\",\n",
      "    \"warranty\": \"2 years\",\n",
      "    \"rating\": 4.8,\n",
      "    \"features\": [\n",
      "        \"55-inch display\",\n",
      "        \"4K resolution\",\n",
      "        \"HDR\",\n",
      "        \"Smart TV\"\n",
      "    ],\n",
      "    \"description\": \"Nepali \\u091a\\u0932\\u091a\\u093f\\u0924\\u094d\\u0930 \\u0930 Youtube \\u0930\\u092e\\u093e\\u0907\\u0932\\u094b \\u0917\\u0930\\u094d\\u0928\\u0915\\u093e \\u0932\\u093e\\u0917\\u093f \\u0938\\u0941\\u0928\\u094d\\u0926\\u0930 4K \\u091f\\u093f\\u092d\\u0940\\u0964\",\n",
      "    \"price\": 95000\n",
      "}\n",
      "\n"
     ]
    }
   ],
   "source": [
    "product_information_for_user_message_1 = generate_output_string(category_and_product_list)\n",
    "print(product_information_for_user_message_1)"
   ]
  },
  {
   "cell_type": "markdown",
   "id": "5464be6a-d24d-43fa-b9ef-59ded464b087",
   "metadata": {},
   "source": [
    "### Generate answer to user query based on detailed product information"
   ]
  },
  {
   "cell_type": "code",
   "execution_count": 20,
   "id": "6d3ad31e",
   "metadata": {
    "height": 387
   },
   "outputs": [
    {
     "name": "stdout",
     "output_type": "stream",
     "text": [
      "The SmartX Pro phone by CallNep features a 6.1-inch display, 128GB storage, dual camera, and 4G/5G support. The DSLR Fotosnap camera is not available in our current product database. The Sagarmatha 4K TV offers a 55-inch display, 4K resolution, HDR, and Smart TV capabilities. Is there a specific feature or aspect you would like more information on?\n"
     ]
    }
   ],
   "source": [
    "system_message = f\"\"\"\n",
    "You are a customer service assistant for a \\\n",
    "large electronic store. \\\n",
    "Respond in a friendly and helpful tone, \\\n",
    "with very concise answers. \\\n",
    "Make sure to ask the user relevant follow up questions.\n",
    "\"\"\"\n",
    "user_message_1 = f\"\"\"\n",
    "tell me about the smartx pro phone and \\\n",
    "the fotosnap camera, the dslr one. \\\n",
    "Also tell me about your tvs\"\"\"\n",
    "messages =  [  \n",
    "{'role':'system',\n",
    " 'content': system_message},   \n",
    "{'role':'user',\n",
    " 'content': user_message_1},  \n",
    "{'role':'assistant',\n",
    " 'content': f\"\"\"Relevant product information:\\n\\\n",
    " {product_information_for_user_message_1}\"\"\"},   \n",
    "]\n",
    "final_response = get_completion_from_messages(messages)\n",
    "print(final_response)"
   ]
  },
  {
   "cell_type": "code",
   "execution_count": 21,
   "id": "76049d83",
   "metadata": {
    "height": 402
   },
   "outputs": [
    {
     "name": "stdout",
     "output_type": "stream",
     "text": [
      "SmartX Pro phone le tapai lai high-end smartphone experience garxa, jasma 6.1-inch display, 128GB storage, dual camera ra 4G/5G support bhayeko xa. Yasma 1 year ko warranty ra 4.6 ko rating xa. Yasma 105000 ma available xa.\n",
      "\n",
      "FotoSnap camera (DSLR wala) ko lagi, tapai lai professional photography experience garxa. Yasma high resolution photos ra videos capture garna milxa. Yasma detailed features ra pricing information chaina, tara hamro pasal ma various DSLR cameras available xa jasle tapai ko requirement lai pura garxa.\n",
      "\n",
      "TV haru ko lagi, Sagarmatha 4K TV ek premium option ho jasma 55-inch display, 4K resolution, HDR, ra Smart TV functionality xa. Yasma 2 years ko warranty ra 4.8 ko rating xa. Yasma 95000 ma available xa.\n",
      "\n",
      "Yadi tapai kunai aru information chahanu huncha vane, ma tapai ko sahayog garne khusi hunxu.\n"
     ]
    }
   ],
   "source": [
    "system_message = f\"\"\"\n",
    "Timi ek jana customer service sahayak hau euta thulo electronics pasal ko lagi. \n",
    "Sadar ra madatgar shailima jawab deu. \n",
    "Dherai thulo jawab nadinuhos. \n",
    "Prayojan anusar grahak sanga prashna sodhnuhos.\n",
    "\"\"\"\n",
    "\n",
    "user_message_1 = f\"\"\"\n",
    "Malai SmartX Pro phone ra FotoSnap camera (DSLR wala) ko barema bhannus. \n",
    "Tyesai gari timiharuko TV haru ko barema pani bhannus.\n",
    "\"\"\"\n",
    "\n",
    "messages = [  \n",
    "    {'role': 'system', 'content': system_message},   \n",
    "    {'role': 'user', 'content': user_message_1},  \n",
    "    {'role': 'assistant', 'content': f\"\"\"Sambandhit product ko jankari:\\n\\\n",
    "    {product_information_for_user_message_1}\"\"\"},   \n",
    "]\n",
    "\n",
    "final_response = get_completion_from_messages(messages)\n",
    "print(final_response)\n"
   ]
  }
 ],
 "metadata": {
  "kernelspec": {
   "display_name": "Python 3 (ipykernel)",
   "language": "python",
   "name": "python3"
  },
  "language_info": {
   "codemirror_mode": {
    "name": "ipython",
    "version": 3
   },
   "file_extension": ".py",
   "mimetype": "text/x-python",
   "name": "python",
   "nbconvert_exporter": "python",
   "pygments_lexer": "ipython3",
   "version": "3.9.19"
  }
 },
 "nbformat": 4,
 "nbformat_minor": 5
}
