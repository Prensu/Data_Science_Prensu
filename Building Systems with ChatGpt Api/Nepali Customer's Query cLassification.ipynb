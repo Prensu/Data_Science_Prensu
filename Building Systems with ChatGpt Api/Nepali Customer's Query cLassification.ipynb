{
 "cells": [
  {
   "cell_type": "markdown",
   "id": "f14c4442-3fc5-4070-9ef2-bb33d30e6b38",
   "metadata": {},
   "source": [
    "# L2: Evaluate Inputs: Classification"
   ]
  },
  {
   "cell_type": "markdown",
   "id": "26fd0696-18e6-4029-8738-fecba92851db",
   "metadata": {},
   "source": [
    "# so yesma maile nepali customer's query classify garne try gareko xu . Simple program banako nepali language ma query pathaune ani get response "
   ]
  },
  {
   "cell_type": "code",
   "execution_count": 1,
   "id": "87f647e2",
   "metadata": {
    "height": 115
   },
   "outputs": [],
   "source": [
    "import os\n",
    "import openai\n",
    "from dotenv import load_dotenv, find_dotenv\n",
    "_ = load_dotenv(find_dotenv()) # read local .env file\n",
    "\n",
    "openai.api_key  = os.environ['OPENAI_API_KEY']"
   ]
  },
  {
   "cell_type": "code",
   "execution_count": 2,
   "id": "101624a2",
   "metadata": {
    "height": 200
   },
   "outputs": [],
   "source": [
    "def get_completion_from_messages(messages, \n",
    "                                 model=\"gpt-3.5-turbo\", \n",
    "                                 temperature=0, \n",
    "                                 max_tokens=500):\n",
    "    response = openai.ChatCompletion.create(\n",
    "        model=model,\n",
    "        messages=messages,\n",
    "        temperature=temperature, \n",
    "        max_tokens=max_tokens,\n",
    "    )\n",
    "    return response.choices[0].message[\"content\"]"
   ]
  },
  {
   "cell_type": "markdown",
   "id": "d3db09d1-6253-4c9e-9ad1-5a6134df3e6c",
   "metadata": {},
   "source": [
    "#### Classify customer queries to handle different cases"
   ]
  },
  {
   "cell_type": "code",
   "execution_count": 3,
   "id": "8db30f42",
   "metadata": {
    "height": 812
   },
   "outputs": [
    {
     "name": "stdout",
     "output_type": "stream",
     "text": [
      "{\n",
      "  \"primary\": \"Account Management\",\n",
      "  \"secondary\": \"Close account\"\n",
      "}  \n",
      "\n"
     ]
    }
   ],
   "source": [
    "delimiter = \"####\"\n",
    "system_message = f\"\"\"\n",
    "You will be provided with customer service queries. \\\n",
    "The customer service query will be delimited with \\\n",
    "{delimiter} characters.\n",
    "Classify each query into a primary category \\\n",
    "and a secondary category. \n",
    "Provide your output in json format with the \\\n",
    "keys: primary and secondary.\n",
    "\n",
    "Primary categories: Billing, Technical Support, \\\n",
    "Account Management, or General Inquiry.\n",
    "\n",
    "Billing secondary categories:\n",
    "Unsubscribe or upgrade\n",
    "Add a payment method\n",
    "Explanation for charge\n",
    "Dispute a charge\n",
    "\n",
    "Technical Support secondary categories:\n",
    "General troubleshooting\n",
    "Device compatibility\n",
    "Software updates\n",
    "\n",
    "Account Management secondary categories:\n",
    "Password reset\n",
    "Update personal information\n",
    "Close account\n",
    "Account security\n",
    "\n",
    "General Inquiry secondary categories:\n",
    "Product information\n",
    "Pricing\n",
    "Feedback\n",
    "Speak to a human\n",
    "\n",
    "\"\"\"\n",
    "user_message = f\"\"\"\\\n",
    "I want you to delete my profile and all of my user data\"\"\"\n",
    "messages =  [  \n",
    "{'role':'system', \n",
    " 'content': system_message},    \n",
    "{'role':'user', \n",
    " 'content': f\"{delimiter}{user_message}{delimiter}\"},  \n",
    "] \n",
    "response = get_completion_from_messages(messages)\n",
    "print(response)"
   ]
  },
  {
   "cell_type": "markdown",
   "id": "e68b6823",
   "metadata": {
    "height": 45
   },
   "source": [
    "Above i gave a query regarding deleting my account and task to seperate it as primary and secondary \n"
   ]
  },
  {
   "cell_type": "markdown",
   "id": "e883288e",
   "metadata": {
    "height": 115
   },
   "source": [
    "So, it classified as \n",
    "\n",
    "primary : account  management \n",
    "secondary: Close account \n",
    "\n",
    "my query was to delete the profile and all of the user data"
   ]
  },
  {
   "cell_type": "code",
   "execution_count": 6,
   "id": "f9a5a790",
   "metadata": {
    "height": 183
   },
   "outputs": [
    {
     "name": "stdout",
     "output_type": "stream",
     "text": [
      "{\n",
      "  \"primary\": \"General Inquiry\",\n",
      "  \"secondary\": \"Product information\"\n",
      "}  \n",
      "\n"
     ]
    }
   ],
   "source": [
    "user_message = f\"\"\"\\\n",
    "Tell me more about your flat screen tvs\"\"\"\n",
    "messages =  [  \n",
    "{'role':'system', \n",
    " 'content': system_message},    \n",
    "{'role':'user', \n",
    " 'content': f\"{delimiter}{user_message}{delimiter}\"},  \n",
    "] \n",
    "response = get_completion_from_messages(messages)\n",
    "print(response)"
   ]
  },
  {
   "cell_type": "code",
   "execution_count": 8,
   "id": "5cfd2fae",
   "metadata": {
    "height": 47
   },
   "outputs": [],
   "source": [
    "#Let's try others query as well\n"
   ]
  },
  {
   "cell_type": "code",
   "execution_count": 10,
   "id": "f13d275a",
   "metadata": {
    "height": 183
   },
   "outputs": [
    {
     "name": "stdout",
     "output_type": "stream",
     "text": [
      "{\n",
      "  \"primary\": \"Billing\",\n",
      "  \"secondary\": \"Explanation for charge\"\n",
      "}\n"
     ]
    }
   ],
   "source": [
    "user_message = \"\"\"\\\n",
    "I was charged $49 last week but I never signed up for a paid plan!\"\"\"\n",
    "messages =  [  \n",
    "{'role':'system', \n",
    " 'content': system_message},    \n",
    "{'role':'user', \n",
    " 'content': f\"{delimiter}{user_message}{delimiter}\"},  \n",
    "] \n",
    "response = get_completion_from_messages(messages)\n",
    "print(response)"
   ]
  },
  {
   "cell_type": "code",
   "execution_count": 12,
   "id": "5bfdec82",
   "metadata": {
    "height": 30
   },
   "outputs": [],
   "source": [
    "#Now let's try classifying nepali customer queries "
   ]
  },
  {
   "cell_type": "code",
   "execution_count": 13,
   "id": "dfa1ab8a",
   "metadata": {
    "height": 946
   },
   "outputs": [
    {
     "name": "stdout",
     "output_type": "stream",
     "text": [
      "{\n",
      "    \"primary\": \"Banking\",\n",
      "    \"secondary\": \"Fund transfer issue\"\n",
      "}\n"
     ]
    }
   ],
   "source": [
    "delimiter = \"####\"\n",
    "system_message = f\"\"\"\n",
    "You will be provided with Nepali customer service queries. \n",
    "The query will be delimited with {delimiter} characters.\n",
    "\n",
    "Classify each query into a primary category and a secondary category. \n",
    "Provide your output in JSON format with the keys: primary and secondary.\n",
    "\n",
    "Primary categories: Mobile Services, Internet Services, Banking, Government Services, E-commerce\n",
    "\n",
    "Mobile Services secondary categories:\n",
    "Balance inquiry\n",
    "Recharge issues\n",
    "SIM registration\n",
    "Call/SMS problems\n",
    "Port number\n",
    "\n",
    "Internet Services secondary categories:\n",
    "No internet connection\n",
    "Slow speed\n",
    "Billing issues\n",
    "Router configuration\n",
    "Service upgrade\n",
    "\n",
    "Banking secondary categories:\n",
    "Balance check\n",
    "Mobile banking issue\n",
    "Card lost or blocked\n",
    "Fund transfer issue\n",
    "Open or close account\n",
    "\n",
    "Government Services secondary categories:\n",
    "Citizenship application\n",
    "PAN registration\n",
    "Driving license status\n",
    "Passport inquiry\n",
    "\n",
    "E-commerce secondary categories:\n",
    "Order status\n",
    "Return/Exchange\n",
    "Payment failed\n",
    "Delivery delay\n",
    "Account issue\n",
    "\"\"\"\n",
    "\n",
    "user_message = \"\"\"\\\n",
    "Mero eSewa ma paisa transfer garna khojda failed dekhauncha. Aba ma ke garne?\"\"\"\n",
    "messages =  [  \n",
    "    {'role': 'system', 'content': system_message},    \n",
    "    {'role': 'user', 'content': f\"{delimiter}{user_message}{delimiter}\"},  \n",
    "] \n",
    "response = get_completion_from_messages(messages)\n",
    "print(response)\n"
   ]
  },
  {
   "cell_type": "code",
   "execution_count": 14,
   "id": "72cac60e",
   "metadata": {
    "height": 198
   },
   "outputs": [
    {
     "name": "stdout",
     "output_type": "stream",
     "text": [
      "{\n",
      "    \"primary\": \"Mobile Services\",\n",
      "    \"secondary\": \"SIM registration\"\n",
      "}\n"
     ]
    }
   ],
   "source": [
    "user_message = \"\"\"\\\n",
    "Naya SIM kinauda mero nagarikta verify bhako chhaina bhanchha. Yo kasari garne?\"\"\"\n",
    "messages =  [  \n",
    "{'role':'system', \n",
    " 'content': system_message},    \n",
    "{'role':'user', \n",
    " 'content': f\"{delimiter}{user_message}{delimiter}\"},  \n",
    "] \n",
    "response = get_completion_from_messages(messages)\n",
    "print(response)"
   ]
  },
  {
   "cell_type": "code",
   "execution_count": 15,
   "id": "66896e35",
   "metadata": {
    "height": 183
   },
   "outputs": [
    {
     "name": "stdout",
     "output_type": "stream",
     "text": [
      "{\n",
      "    \"primary\": \"Internet Services\",\n",
      "    \"secondary\": \"Slow speed\"\n",
      "}\n"
     ]
    }
   ],
   "source": [
    "user_message = \"\"\"\\\n",
    "Mero WiFi dherai slow chha, YouTube ni properly chalidaina.\"\"\"\n",
    "messages =  [  \n",
    "{'role':'system', \n",
    " 'content': system_message},    \n",
    "{'role':'user', \n",
    " 'content': f\"{delimiter}{user_message}{delimiter}\"},  \n",
    "] \n",
    "response = get_completion_from_messages(messages)\n",
    "print(response)"
   ]
  },
  {
   "cell_type": "code",
   "execution_count": 16,
   "id": "9ccaf8f1",
   "metadata": {
    "height": 198
   },
   "outputs": [
    {
     "name": "stdout",
     "output_type": "stream",
     "text": [
      "{\n",
      "    \"primary\": \"E-commerce\",\n",
      "    \"secondary\": \"Order status\"\n",
      "}\n"
     ]
    }
   ],
   "source": [
    "user_message = \"\"\"\\\n",
    "Maile Daraz ma order gareko samaan 5 din bhayo aayena. Status ma dispatch dekhako chha.\"\"\"\n",
    "messages =  [  \n",
    "{'role':'system', \n",
    " 'content': system_message},    \n",
    "{'role':'user', \n",
    " 'content': f\"{delimiter}{user_message}{delimiter}\"},  \n",
    "] \n",
    "response = get_completion_from_messages(messages)\n",
    "print(response)"
   ]
  }
 ],
 "metadata": {
  "kernelspec": {
   "display_name": "Python 3 (ipykernel)",
   "language": "python",
   "name": "python3"
  },
  "language_info": {
   "codemirror_mode": {
    "name": "ipython",
    "version": 3
   },
   "file_extension": ".py",
   "mimetype": "text/x-python",
   "name": "python",
   "nbconvert_exporter": "python",
   "pygments_lexer": "ipython3",
   "version": "3.9.19"
  }
 },
 "nbformat": 4,
 "nbformat_minor": 5
}
