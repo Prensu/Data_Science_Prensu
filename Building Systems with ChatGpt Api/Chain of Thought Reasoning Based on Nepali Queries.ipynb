{
 "cells": [
  {
   "cell_type": "markdown",
   "id": "0e7531d5-0c22-49ad-9d37-8b08eec7d4e0",
   "metadata": {},
   "source": [
    "# L4: Process Inputs: Chain of Thought Reasoning"
   ]
  },
  {
   "cell_type": "markdown",
   "id": "e613f6af-ce1c-49ea-ae99-0d2e3fa3fae1",
   "metadata": {},
   "source": [
    "Chain of Thought (CoT) reasoning is a prompting technique used in large language models (LLMs) where the model is encouraged to explain its reasoning step-by-step before giving the final answer. \n",
    "\n",
    "This mimics human-like logical thinking and improves performance, especially for tasks requiring reasoning, such as math problems, logic puzzles, and multi-step decision-making."
   ]
  },
  {
   "cell_type": "code",
   "execution_count": 1,
   "id": "0df1c9e8",
   "metadata": {
    "height": 149
   },
   "outputs": [],
   "source": [
    "import os\n",
    "import openai\n",
    "import sys\n",
    "from dotenv import load_dotenv, find_dotenv\n",
    "_ = load_dotenv(find_dotenv())\n",
    "\n",
    "\n",
    "openai.api_key  = os.environ['OPENAI_API_KEY']"
   ]
  },
  {
   "cell_type": "code",
   "execution_count": 2,
   "id": "b98a05b6",
   "metadata": {
    "height": 183
   },
   "outputs": [],
   "source": [
    "def get_completion_from_messages(messages, \n",
    "                                 model=\"gpt-3.5-turbo\", \n",
    "                                 temperature=0, max_tokens=500):\n",
    "    response = openai.ChatCompletion.create(\n",
    "        model=model,\n",
    "        messages=messages,\n",
    "        temperature=temperature, \n",
    "        max_tokens=max_tokens, \n",
    "    )\n",
    "    return response.choices[0].message[\"content\"]"
   ]
  },
  {
   "cell_type": "markdown",
   "id": "119d273f-df72-47e2-a9a6-a8994d742aec",
   "metadata": {},
   "source": [
    "## Chain-of-Thought Prompting"
   ]
  },
  {
   "cell_type": "code",
   "execution_count": 3,
   "id": "e0e66beb-8fb5-4c7b-afa7-13d20ded1d49",
   "metadata": {
    "height": 1558
   },
   "outputs": [],
   "source": [
    "delimiter = \"####\"\n",
    "system_message = f\"\"\"\n",
    "Follow these steps to answer the customer queries.\n",
    "The customer query will be delimited with four hashtags,\\\n",
    "i.e. {delimiter}. \n",
    "\n",
    "Step 1:{delimiter} First decide whether the user is \\\n",
    "asking a question about a specific product or products. \\\n",
    "Product cateogry doesn't count. \n",
    "\n",
    "Step 2:{delimiter} If the user is asking about \\\n",
    "specific products, identify whether \\\n",
    "the products are in the following list.\n",
    "All available products: \n",
    "1. Product: TechPro Ultrabook\n",
    "   Category: Computers and Laptops\n",
    "   Brand: TechPro\n",
    "   Model Number: TP-UB100\n",
    "   Warranty: 1 year\n",
    "   Rating: 4.5\n",
    "   Features: 13.3-inch display, 8GB RAM, 256GB SSD, Intel Core i5 processor\n",
    "   Description: A sleek and lightweight ultrabook for everyday use.\n",
    "   Price: $799.99\n",
    "\n",
    "2. Product: BlueWave Gaming Laptop\n",
    "   Category: Computers and Laptops\n",
    "   Brand: BlueWave\n",
    "   Model Number: BW-GL200\n",
    "   Warranty: 2 years\n",
    "   Rating: 4.7\n",
    "   Features: 15.6-inch display, 16GB RAM, 512GB SSD, NVIDIA GeForce RTX 3060\n",
    "   Description: A high-performance gaming laptop for an immersive experience.\n",
    "   Price: $1199.99\n",
    "\n",
    "3. Product: PowerLite Convertible\n",
    "   Category: Computers and Laptops\n",
    "   Brand: PowerLite\n",
    "   Model Number: PL-CV300\n",
    "   Warranty: 1 year\n",
    "   Rating: 4.3\n",
    "   Features: 14-inch touchscreen, 8GB RAM, 256GB SSD, 360-degree hinge\n",
    "   Description: A versatile convertible laptop with a responsive touchscreen.\n",
    "   Price: $699.99\n",
    "\n",
    "4. Product: TechPro Desktop\n",
    "   Category: Computers and Laptops\n",
    "   Brand: TechPro\n",
    "   Model Number: TP-DT500\n",
    "   Warranty: 1 year\n",
    "   Rating: 4.4\n",
    "   Features: Intel Core i7 processor, 16GB RAM, 1TB HDD, NVIDIA GeForce GTX 1660\n",
    "   Description: A powerful desktop computer for work and play.\n",
    "   Price: $999.99\n",
    "\n",
    "5. Product: BlueWave Chromebook\n",
    "   Category: Computers and Laptops\n",
    "   Brand: BlueWave\n",
    "   Model Number: BW-CB100\n",
    "   Warranty: 1 year\n",
    "   Rating: 4.1\n",
    "   Features: 11.6-inch display, 4GB RAM, 32GB eMMC, Chrome OS\n",
    "   Description: A compact and affordable Chromebook for everyday tasks.\n",
    "   Price: $249.99\n",
    "\n",
    "Step 3:{delimiter} If the message contains products \\\n",
    "in the list above, list any assumptions that the \\\n",
    "user is making in their \\\n",
    "message e.g. that Laptop X is bigger than \\\n",
    "Laptop Y, or that Laptop Z has a 2 year warranty.\n",
    "\n",
    "Step 4:{delimiter}: If the user made any assumptions, \\\n",
    "figure out whether the assumption is true based on your \\\n",
    "product information. \n",
    "\n",
    "Step 5:{delimiter}: First, politely correct the \\\n",
    "customer's incorrect assumptions if applicable. \\\n",
    "Only mention or reference products in the list of \\\n",
    "5 available products, as these are the only 5 \\\n",
    "products that the store sells. \\\n",
    "Answer the customer in a friendly tone.\n",
    "\n",
    "Use the following format:\n",
    "Step 1:{delimiter} <step 1 reasoning>\n",
    "Step 2:{delimiter} <step 2 reasoning>\n",
    "Step 3:{delimiter} <step 3 reasoning>\n",
    "Step 4:{delimiter} <step 4 reasoning>\n",
    "Response to user:{delimiter} <response to customer>\n",
    "\n",
    "Make sure to include {delimiter} to separate every step.\n",
    "\"\"\""
   ]
  },
  {
   "cell_type": "code",
   "execution_count": 4,
   "id": "6be1ea0a-a816-4694-8a79-77d985f2e274",
   "metadata": {
    "height": 234
   },
   "outputs": [
    {
     "name": "stdout",
     "output_type": "stream",
     "text": [
      "Step 1:#### The user is comparing the prices of two specific products.\n",
      "Step 2:#### Both products are available in the list of products provided.\n",
      "Step 3:#### The assumption made by the user is that the BlueWave Chromebook is more expensive than the TechPro Desktop.\n",
      "Step 4:#### The TechPro Desktop is priced at $999.99, and the BlueWave Chromebook is priced at $249.99. Therefore, the BlueWave Chromebook is $750 cheaper than the TechPro Desktop.\n",
      "Response to user:#### The BlueWave Chromebook is actually $750 cheaper than the TechPro Desktop.\n"
     ]
    }
   ],
   "source": [
    "user_message = f\"\"\"\n",
    "by how much is the BlueWave Chromebook more expensive \\\n",
    "than the TechPro Desktop\"\"\"\n",
    "\n",
    "messages =  [  \n",
    "{'role':'system', \n",
    " 'content': system_message},    \n",
    "{'role':'user', \n",
    " 'content': f\"{delimiter}{user_message}{delimiter}\"},  \n",
    "] \n",
    "\n",
    "response = get_completion_from_messages(messages)\n",
    "print(response)"
   ]
  },
  {
   "cell_type": "code",
   "execution_count": 5,
   "id": "f51afe6d",
   "metadata": {
    "height": 183
   },
   "outputs": [
    {
     "name": "stdout",
     "output_type": "stream",
     "text": [
      "Step 1:#### The user is asking about a specific product category (TVs) and not a specific product.\n",
      "Step 2:#### N/A\n",
      "Step 3:#### N/A\n",
      "Step 4:#### N/A\n",
      "Response to user:#### We currently do not sell TVs. Our store specializes in computers and laptops. If you have any questions regarding our available products, feel free to ask!\n"
     ]
    }
   ],
   "source": [
    "user_message = f\"\"\"\n",
    "do you sell tvs\"\"\"\n",
    "messages =  [  \n",
    "{'role':'system', \n",
    " 'content': system_message},    \n",
    "{'role':'user', \n",
    " 'content': f\"{delimiter}{user_message}{delimiter}\"},  \n",
    "] \n",
    "response = get_completion_from_messages(messages)\n",
    "print(response)"
   ]
  },
  {
   "cell_type": "markdown",
   "id": "a552a4f6-5e65-4d85-9579-5263f720aa10",
   "metadata": {},
   "source": [
    "## Inner Monologue\n",
    "- Since we asked the LLM to separate its reasoning steps by a delimiter, we can hide the chain-of-thought reasoning from the final output that the user sees."
   ]
  },
  {
   "cell_type": "code",
   "execution_count": 6,
   "id": "2a825237",
   "metadata": {
    "height": 130
   },
   "outputs": [
    {
     "name": "stdout",
     "output_type": "stream",
     "text": [
      "We currently do not sell TVs. Our store specializes in computers and laptops. If you have any questions regarding our available products, feel free to ask!\n"
     ]
    }
   ],
   "source": [
    "try:\n",
    "    final_response = response.split(delimiter)[-1].strip()\n",
    "except Exception as e:\n",
    "    final_response = \"Sorry, I'm having trouble right now, please try asking another question.\"\n",
    "    \n",
    "print(final_response)"
   ]
  },
  {
   "cell_type": "code",
   "execution_count": 7,
   "id": "f13f56b7",
   "metadata": {
    "height": 1354
   },
   "outputs": [],
   "source": [
    "delimiter = \"####\"\n",
    "system_message = f\"\"\"\n",
    "Follow these steps to answer customer queries from Nepali users.\n",
    "The customer query will be delimited with four hashtags, i.e. {delimiter}. \n",
    "\n",
    "Step 1:{delimiter} First decide whether the user is asking a question about a specific product or products. \n",
    "General product category doesn't count. \n",
    "\n",
    "Step 2:{delimiter} If the user is asking about specific products, identify whether \n",
    "the products are in the following list.\n",
    "All available products: \n",
    "1. Product: Prensu RedmiNotebook\n",
    "   Category: Laptops\n",
    "   Brand: Prensu\n",
    "   Model Number: HT-UB100\n",
    "   Warranty: 1 year\n",
    "   Rating: 4.5\n",
    "   Features: 13.3-inch display, 8GB RAM, 256GB SSD, Intel Core i5 processor\n",
    "   Description: Lightweight laptop perfect for students and office use.\n",
    "   Price: Rs. 92,000\n",
    "\n",
    "2. Product: Kastamandav Gaming Laptop\n",
    "   Category: Laptops\n",
    "   Brand: Kastamandav Tech\n",
    "   Model Number: GK-GL200\n",
    "   Warranty: 2 years\n",
    "   Rating: 4.7\n",
    "   Features: 15.6-inch display, 16GB RAM, 512GB SSD, NVIDIA GeForce RTX 3060\n",
    "   Description: High-performance gaming laptop for serious gamers.\n",
    "   Price: Rs. 152,000\n",
    "\n",
    "3. Product: Sneha Convertible\n",
    "   Category: Laptops\n",
    "   Brand: Sneha\n",
    "   Model Number: SG-CV300\n",
    "   Warranty: 1 year\n",
    "   Rating: 4.3\n",
    "   Features: 14-inch touchscreen, 8GB RAM, 256GB SSD, 360-degree hinge\n",
    "   Description: Flexible convertible laptop for creative professionals.\n",
    "   Price: Rs. 84,000\n",
    "\n",
    "4. Product: Sachhyam Desktop\n",
    "   Category: Desktop Computers\n",
    "   Brand: Sachhyam\n",
    "   Model Number: HT-DT500\n",
    "   Warranty: 1 year\n",
    "   Rating: 4.4\n",
    "   Features: Intel Core i7, 16GB RAM, 1TB HDD, NVIDIA GeForce GTX 1660\n",
    "   Description: Powerful desktop for work and multimedia.\n",
    "   Price: Rs. 110,000\n",
    "\n",
    "5. Product: Ascol Chromebook\n",
    "   Category: Budget Laptops\n",
    "   Brand: Ascol\n",
    "   Model Number: JT-CB100\n",
    "   Warranty: 1 year\n",
    "   Rating: 4.1\n",
    "   Features: 11.6-inch display, 4GB RAM, 32GB eMMC, Chrome OS\n",
    "   Description: Simple and affordable laptop for school students.\n",
    "   Price: Rs. 28,000\n",
    "\n",
    "Step 3:{delimiter} If the message contains products in the list above, list any assumptions that the \n",
    "user is making in their message, e.g. that Laptop X is faster than Laptop Y, or that a product has longer warranty.\n",
    "\n",
    "Step 4:{delimiter} If the user made any assumptions, verify whether the assumption is true based on the product info.\n",
    "\n",
    "Step 5:{delimiter} First, politely correct the customer's incorrect assumptions if applicable. \n",
    "Only mention or reference products in the list above, as these are the only products sold. \n",
    "Respond to the customer in a friendly tone using their informal Nepali style (in English letters).\n",
    "\n",
    "Use the following format:\n",
    "Step 1:{delimiter} <your step 1 reasoning>\n",
    "Step 2:{delimiter} <your step 2 reasoning>\n",
    "Step 3:{delimiter} <your step 3 reasoning>\n",
    "Step 4:{delimiter} <your step 4 reasoning>\n",
    "Response to user:{delimiter} <your response in informal Nepali-English>\n",
    "\"\"\"\n"
   ]
  },
  {
   "cell_type": "code",
   "execution_count": 8,
   "id": "59e91ea6",
   "metadata": {
    "height": 181
   },
   "outputs": [
    {
     "name": "stdout",
     "output_type": "stream",
     "text": [
      "Step 1:#### The user is asking about a specific product, Sneha Convertible.\n",
      "Step 2:#### The product \"Sneha Convertible\" is in the list of available products.\n",
      "Step 3:#### The user is assuming that the warranty for the Sneha Convertible is 2 years.\n",
      "Step 4:#### The warranty for the Sneha Convertible is actually 1 year, not 2 years.\n",
      "\n",
      "Response to user:#### Oh, sorry for the confusion, dai. Sneha Convertible ko warranty ek barsa matra ho ra, dui barsa haina. Tara laptop ramro chha, flexible ra creative professionals ko lagi perfect chha.\n"
     ]
    }
   ],
   "source": [
    "user_message = \"Maile Sneha Convertible kinya thye, tara 2 barsha warranty ho bhanera suneko thye, ho ra?\"\n",
    "messages =  [  \n",
    "{'role':'system', \n",
    " 'content': system_message},    \n",
    "{'role':'user', \n",
    " 'content': f\"{delimiter}{user_message}{delimiter}\"},  \n",
    "] \n",
    "response = get_completion_from_messages(messages)\n",
    "print(response)"
   ]
  },
  {
   "cell_type": "code",
   "execution_count": 12,
   "id": "2bb9adc1",
   "metadata": {
    "height": 147
   },
   "outputs": [
    {
     "name": "stdout",
     "output_type": "stream",
     "text": [
      "Oh, sorry for the confusion, dai. Sneha Convertible ko warranty ek barsa matra ho ra, dui barsa haina. Tara laptop ramro chha, flexible ra creative professionals ko lagi perfect chha.\n"
     ]
    }
   ],
   "source": [
    "response = get_completion_from_messages(messages)\n",
    "\n",
    "# Split and extract only the part after 'Response to user:####'\n",
    "delimiter = \"####\"\n",
    "final_response = response.split(f\"Response to user:{delimiter}\")[-1].strip()\n",
    "print(final_response)\n"
   ]
  },
  {
   "cell_type": "code",
   "execution_count": 14,
   "id": "ad27234f",
   "metadata": {
    "height": 300
   },
   "outputs": [
    {
     "name": "stdout",
     "output_type": "stream",
     "text": [
      "Sorry, we currently do not sell TVs. If you are looking for laptops or desktop computers, feel free to ask for more information.\n"
     ]
    }
   ],
   "source": [
    "delimiter = \"####\"\n",
    "user_message = \"Do you sell TVs?\"\n",
    "\n",
    "# Format messages properly\n",
    "messages = [\n",
    "    {'role': 'system', 'content': system_message},\n",
    "    {'role': 'user', 'content': f\"{delimiter}{user_message}{delimiter}\"}\n",
    "]\n",
    "\n",
    "# Call the model\n",
    "response = get_completion_from_messages(messages)\n",
    "\n",
    "# Extract only the final response\n",
    "final_response = response.split(f\"Response to user:{delimiter}\")[-1].strip()\n",
    "print(final_response)\n"
   ]
  },
  {
   "cell_type": "code",
   "execution_count": 15,
   "id": "af2346ec",
   "metadata": {
    "height": 266
   },
   "outputs": [
    {
     "name": "stdout",
     "output_type": "stream",
     "text": [
      "Hey there! The Ascol Chromebook might struggle to run Photoshop smoothly due to its limited RAM and storage capacity. It's more suitable for basic tasks like browsing and document editing.\n"
     ]
    }
   ],
   "source": [
    "user_message = \"Ascol Chromebook le Photoshop support garcha ki nai?\"\n",
    "delimiter = \"####\"\n",
    "# Format messages properly\n",
    "messages = [\n",
    "    {'role': 'system', 'content': system_message},\n",
    "    {'role': 'user', 'content': f\"{delimiter}{user_message}{delimiter}\"}\n",
    "]\n",
    "\n",
    "# Call the model\n",
    "response = get_completion_from_messages(messages)\n",
    "\n",
    "# Extract only the final response\n",
    "final_response = response.split(f\"Response to user:{delimiter}\")[-1].strip()\n",
    "print(final_response)"
   ]
  },
  {
   "cell_type": "code",
   "execution_count": null,
   "id": "a3c7662c",
   "metadata": {
    "height": 266
   },
   "outputs": [],
   "source": [
    "user_message = \"Yo Sachhyam Desktop ko price ali mahango jasto cha, kina yesto costly cha?\"\n",
    "delimiter = \"####\"\n",
    "# Format messages properly\n",
    "messages = [\n",
    "    {'role': 'system', 'content': system_message},\n",
    "    {'role': 'user', 'content': f\"{delimiter}{user_message}{delimiter}\"}\n",
    "]\n",
    "\n",
    "# Call the model\n",
    "response = get_completion_from_messages(messages)\n",
    "\n",
    "# Extract only the final response\n",
    "final_response = response.split(f\"Response to user:{delimiter}\")[-1].strip()\n",
    "print(final_response)"
   ]
  }
 ],
 "metadata": {
  "kernelspec": {
   "display_name": "Python 3 (ipykernel)",
   "language": "python",
   "name": "python3"
  },
  "language_info": {
   "codemirror_mode": {
    "name": "ipython",
    "version": 3
   },
   "file_extension": ".py",
   "mimetype": "text/x-python",
   "name": "python",
   "nbconvert_exporter": "python",
   "pygments_lexer": "ipython3",
   "version": "3.9.19"
  }
 },
 "nbformat": 4,
 "nbformat_minor": 5
}
