{
 "cells": [
  {
   "cell_type": "code",
   "execution_count": 1,
   "id": "fbf65e36-cdb3-40cb-8fcb-d083164876d1",
   "metadata": {},
   "outputs": [],
   "source": [
    "import pdfplumber"
   ]
  },
  {
   "cell_type": "code",
   "execution_count": 7,
   "id": "4bf49822-7323-4f7f-8e98-5007bd40abcd",
   "metadata": {},
   "outputs": [
    {
     "name": "stderr",
     "output_type": "stream",
     "text": [
      "CropBox missing from /Page, defaulting to MediaBox\n",
      "CropBox missing from /Page, defaulting to MediaBox\n"
     ]
    },
    {
     "name": "stdout",
     "output_type": "stream",
     "text": [
      "Extracted text is saved as output.txt\n"
     ]
    }
   ],
   "source": [
    "def extract_text(pdf_path, output_text_path):\n",
    "    with pdfplumber.open(pdf_path) as pdf:\n",
    "        full_text = ''\n",
    "        for page in pdf.pages:\n",
    "            full_text += page.extract_text() + '\\n'\n",
    "\n",
    "    with open(output_text_path, 'w') as f:\n",
    "        f.write(full_text)\n",
    "    print(f\"Extracted text is saved as {output_text_path}\")\n",
    "\n",
    "# Let's use the above function\n",
    "extract_text('pdf_files/page_1.pdf', 'output.txt')\n"
   ]
  },
  {
   "cell_type": "code",
   "execution_count": 8,
   "id": "b0dbdb9f-88b8-4124-ac5f-e422b5226f36",
   "metadata": {},
   "outputs": [
    {
     "name": "stderr",
     "output_type": "stream",
     "text": [
      "CropBox missing from /Page, defaulting to MediaBox\n",
      "CropBox missing from /Page, defaulting to MediaBox\n",
      "CropBox missing from /Page, defaulting to MediaBox\n",
      "CropBox missing from /Page, defaulting to MediaBox\n",
      "CropBox missing from /Page, defaulting to MediaBox\n",
      "CropBox missing from /Page, defaulting to MediaBox\n",
      "CropBox missing from /Page, defaulting to MediaBox\n",
      "CropBox missing from /Page, defaulting to MediaBox\n"
     ]
    },
    {
     "name": "stdout",
     "output_type": "stream",
     "text": [
      "Extracted text is saved as merged_output.txt\n"
     ]
    }
   ],
   "source": [
    "extract_text('merged.pdf','merged_output.txt')"
   ]
  },
  {
   "cell_type": "code",
   "execution_count": 10,
   "id": "73f7cbe0-2a94-4c18-9a9b-3dbbeaac3b6d",
   "metadata": {},
   "outputs": [
    {
     "name": "stdout",
     "output_type": "stream",
     "text": [
      "Page 1\n",
      "This is the page 1 of the file.\n",
      "Page 2\n",
      "This is the page 2 of the file.\n",
      "Page 3\n",
      "This is the page 3 of the file.\n",
      "Page 4\n",
      "This is the page 4 of the file, having multiple images.\n",
      "\n"
     ]
    }
   ],
   "source": [
    "with open(\"merged_output.txt\", \"r\") as f:\n",
    "    content = f.read()\n",
    "\n",
    "print(content)\n"
   ]
  },
  {
   "cell_type": "code",
   "execution_count": 12,
   "id": "7636b297-8d8b-41e7-8f1f-8c7c07ec4069",
   "metadata": {},
   "outputs": [
    {
     "name": "stdout",
     "output_type": "stream",
     "text": [
      "Page 1\n",
      "This is the page 1 of the file.\n",
      "\n"
     ]
    }
   ],
   "source": [
    "with open(\"output.txt\", \"r\") as f:\n",
    "    content = f.read()\n",
    "\n",
    "print(content)\n"
   ]
  },
  {
   "cell_type": "code",
   "execution_count": null,
   "id": "37339e65-cab2-4cc9-bac6-f331ba0fad38",
   "metadata": {},
   "outputs": [],
   "source": []
  }
 ],
 "metadata": {
  "kernelspec": {
   "display_name": "Python 3 (ipykernel)",
   "language": "python",
   "name": "python3"
  },
  "language_info": {
   "codemirror_mode": {
    "name": "ipython",
    "version": 3
   },
   "file_extension": ".py",
   "mimetype": "text/x-python",
   "name": "python",
   "nbconvert_exporter": "python",
   "pygments_lexer": "ipython3",
   "version": "3.12.4"
  }
 },
 "nbformat": 4,
 "nbformat_minor": 5
}
