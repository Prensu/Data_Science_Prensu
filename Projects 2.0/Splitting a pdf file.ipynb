{
 "cells": [
  {
   "cell_type": "code",
   "execution_count": 1,
   "id": "30cc8032-6b51-4c6b-8fdf-b14e62ca2f9f",
   "metadata": {},
   "outputs": [],
   "source": [
    "import PyPDF2"
   ]
  },
  {
   "cell_type": "code",
   "execution_count": 9,
   "id": "73299c72-bb14-48a8-ad87-8f2b15790436",
   "metadata": {},
   "outputs": [
    {
     "name": "stdout",
     "output_type": "stream",
     "text": [
      "Saved pdf_files/page_1.pdf\n",
      "Saved pdf_files/page_2.pdf\n",
      "Saved pdf_files/page_3.pdf\n",
      "Saved pdf_files/page_4.pdf\n"
     ]
    }
   ],
   "source": [
    "def split_pdf(pdf_path, output_dir):\n",
    "    pdf_reader = PyPDF2.PdfReader(pdf_path)\n",
    "    for page_num in range(len(pdf_reader.pages)):\n",
    "        pdf_writer = PyPDF2.PdfWriter()\n",
    "        pdf_writer.add_page(pdf_reader.pages[page_num])\n",
    "        output_path = f\"{output_dir}/page_{page_num + 1}.pdf\"\n",
    "        with open(output_path, 'wb') as out:\n",
    "            pdf_writer.write(out)\n",
    "        print(f\"Saved {output_path}\")\n",
    "\n",
    "split_pdf('merged.pdf', 'pdf_files')\n"
   ]
  },
  {
   "cell_type": "code",
   "execution_count": 10,
   "id": "a3102e91-c052-4b02-8505-48d2d64bf6a5",
   "metadata": {},
   "outputs": [
    {
     "data": {
      "text/html": [
       "\n",
       "        <iframe\n",
       "            width=\"600\"\n",
       "            height=\"400\"\n",
       "            src=\"pdf_files/page_1.pdf\"\n",
       "            frameborder=\"0\"\n",
       "            allowfullscreen\n",
       "            \n",
       "        ></iframe>\n",
       "        "
      ],
      "text/plain": [
       "<IPython.lib.display.IFrame at 0x1c116231a00>"
      ]
     },
     "execution_count": 10,
     "metadata": {},
     "output_type": "execute_result"
    }
   ],
   "source": [
    "from IPython.display import IFrame\n",
    "\n",
    "IFrame(\"pdf_files/page_1.pdf\", width=600, height=400)\n"
   ]
  },
  {
   "cell_type": "code",
   "execution_count": 11,
   "id": "bd9ef3c5-12a3-438c-87d3-fda3b991bbbc",
   "metadata": {},
   "outputs": [
    {
     "data": {
      "text/html": [
       "\n",
       "        <iframe\n",
       "            width=\"600\"\n",
       "            height=\"400\"\n",
       "            src=\"pdf_files/page_2.pdf\"\n",
       "            frameborder=\"0\"\n",
       "            allowfullscreen\n",
       "            \n",
       "        ></iframe>\n",
       "        "
      ],
      "text/plain": [
       "<IPython.lib.display.IFrame at 0x1c114a0af30>"
      ]
     },
     "execution_count": 11,
     "metadata": {},
     "output_type": "execute_result"
    }
   ],
   "source": [
    "from IPython.display import IFrame\n",
    "\n",
    "IFrame(\"pdf_files/page_2.pdf\", width=600, height=400)\n"
   ]
  },
  {
   "cell_type": "code",
   "execution_count": 12,
   "id": "6ae4ee0a-b935-4db5-a1d2-7fa475313660",
   "metadata": {},
   "outputs": [
    {
     "data": {
      "text/html": [
       "\n",
       "        <iframe\n",
       "            width=\"600\"\n",
       "            height=\"400\"\n",
       "            src=\"pdf_files/page_3.pdf\"\n",
       "            frameborder=\"0\"\n",
       "            allowfullscreen\n",
       "            \n",
       "        ></iframe>\n",
       "        "
      ],
      "text/plain": [
       "<IPython.lib.display.IFrame at 0x1c116233230>"
      ]
     },
     "execution_count": 12,
     "metadata": {},
     "output_type": "execute_result"
    }
   ],
   "source": [
    "from IPython.display import IFrame\n",
    "\n",
    "IFrame(\"pdf_files/page_3.pdf\", width=600, height=400)\n"
   ]
  },
  {
   "cell_type": "code",
   "execution_count": 13,
   "id": "d5924a92-333d-4b4d-8878-c02454741a61",
   "metadata": {},
   "outputs": [
    {
     "data": {
      "text/html": [
       "\n",
       "        <iframe\n",
       "            width=\"600\"\n",
       "            height=\"400\"\n",
       "            src=\"pdf_files/page_4.pdf\"\n",
       "            frameborder=\"0\"\n",
       "            allowfullscreen\n",
       "            \n",
       "        ></iframe>\n",
       "        "
      ],
      "text/plain": [
       "<IPython.lib.display.IFrame at 0x1c1161a9c70>"
      ]
     },
     "execution_count": 13,
     "metadata": {},
     "output_type": "execute_result"
    }
   ],
   "source": [
    "from IPython.display import IFrame\n",
    "\n",
    "IFrame(\"pdf_files/page_4.pdf\", width=600, height=400)\n"
   ]
  },
  {
   "cell_type": "code",
   "execution_count": null,
   "id": "823fdc82-f38a-4769-a0bd-f5f65de2b62f",
   "metadata": {},
   "outputs": [],
   "source": []
  }
 ],
 "metadata": {
  "kernelspec": {
   "display_name": "Python 3 (ipykernel)",
   "language": "python",
   "name": "python3"
  },
  "language_info": {
   "codemirror_mode": {
    "name": "ipython",
    "version": 3
   },
   "file_extension": ".py",
   "mimetype": "text/x-python",
   "name": "python",
   "nbconvert_exporter": "python",
   "pygments_lexer": "ipython3",
   "version": "3.12.4"
  }
 },
 "nbformat": 4,
 "nbformat_minor": 5
}
