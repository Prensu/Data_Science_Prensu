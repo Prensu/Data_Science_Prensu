{
 "cells": [
  {
   "cell_type": "code",
   "execution_count": 6,
   "id": "b1fa761f-3343-4a4d-b5a4-5f633a8461dc",
   "metadata": {},
   "outputs": [
    {
     "name": "stdout",
     "output_type": "stream",
     "text": [
      "Metadata of the PDF file is:\n",
      "/Producer: PyPDF2\n",
      "✅ PDF file with updated metadata is saved as: updated.pdf\n"
     ]
    }
   ],
   "source": [
    "import PyPDF2\n",
    "\n",
    "def read_and_update_metadata(pdf_file, output_file, title, author):\n",
    "    # Read the PDF\n",
    "    pdf_reader = PyPDF2.PdfReader(pdf_file)\n",
    "    pdf_writer = PyPDF2.PdfWriter()\n",
    "\n",
    "    # Print existing metadata\n",
    "    metadata = pdf_reader.metadata\n",
    "    print(\"Metadata of the PDF file is:\")\n",
    "    for key, value in metadata.items():\n",
    "        print(f\"{key}: {value}\")\n",
    "\n",
    "    # Copy pages\n",
    "    for page in pdf_reader.pages:\n",
    "        pdf_writer.add_page(page)\n",
    "\n",
    "    # Set new metadata\n",
    "    new_metadata = {\n",
    "        '/Title': title,\n",
    "        '/Author': author\n",
    "    }\n",
    "    pdf_writer.add_metadata(new_metadata)\n",
    "\n",
    "    # Write to output file\n",
    "    with open(output_file, 'wb') as out:\n",
    "        pdf_writer.write(out)\n",
    "\n",
    "    print(f\"✅ PDF file with updated metadata is saved as: {output_file}\")\n",
    "\n",
    "# 🔧 Customize these values\n",
    "input_pdf = 'merged.pdf'\n",
    "output_pdf = 'updated.pdf'\n",
    "new_title = 'Dangol Prensu's Pdf'\n",
    "new_author = 'Prensu'\n",
    "\n",
    "read_and_update_metadata(input_pdf, output_pdf, new_title, new_author)\n"
   ]
  },
  {
   "cell_type": "code",
   "execution_count": 7,
   "id": "c6797c65-fdf9-458a-9259-7237fc53e684",
   "metadata": {},
   "outputs": [
    {
     "data": {
      "text/html": [
       "\n",
       "        <iframe\n",
       "            width=\"800\"\n",
       "            height=\"600\"\n",
       "            src=\"updated.pdf\"\n",
       "            frameborder=\"0\"\n",
       "            allowfullscreen\n",
       "            \n",
       "        ></iframe>\n",
       "        "
      ],
      "text/plain": [
       "<IPython.lib.display.IFrame at 0x174a67c4ce0>"
      ]
     },
     "execution_count": 7,
     "metadata": {},
     "output_type": "execute_result"
    }
   ],
   "source": [
    "from IPython.display import IFrame\n",
    "\n",
    "# Display PDF in notebook (adjust width and height as needed)\n",
    "IFrame('updated.pdf', width=800, height=600)\n"
   ]
  },
  {
   "cell_type": "code",
   "execution_count": null,
   "id": "ebf038aa-5001-4228-9e64-132bb9b4b979",
   "metadata": {},
   "outputs": [],
   "source": []
  }
 ],
 "metadata": {
  "kernelspec": {
   "display_name": "Python 3 (ipykernel)",
   "language": "python",
   "name": "python3"
  },
  "language_info": {
   "codemirror_mode": {
    "name": "ipython",
    "version": 3
   },
   "file_extension": ".py",
   "mimetype": "text/x-python",
   "name": "python",
   "nbconvert_exporter": "python",
   "pygments_lexer": "ipython3",
   "version": "3.12.4"
  }
 },
 "nbformat": 4,
 "nbformat_minor": 5
}
