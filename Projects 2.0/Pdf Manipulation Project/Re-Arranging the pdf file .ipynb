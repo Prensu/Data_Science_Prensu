{
 "cells": [
  {
   "cell_type": "code",
   "execution_count": 1,
   "id": "ff9a7431-84c2-43e1-a9c5-641c045d88cc",
   "metadata": {},
   "outputs": [],
   "source": [
    "#Rearranging the order of pages in a pdf file"
   ]
  },
  {
   "cell_type": "code",
   "execution_count": 2,
   "id": "5bc1bda1-f0e2-4b98-88fa-7f5a33ccace0",
   "metadata": {},
   "outputs": [],
   "source": [
    "import PyPDF2"
   ]
  },
  {
   "cell_type": "code",
   "execution_count": 3,
   "id": "016dbb1e-5ddd-48be-97b0-a413de6b1c39",
   "metadata": {},
   "outputs": [
    {
     "name": "stdout",
     "output_type": "stream",
     "text": [
      "Rearranged PDF is saved as rearranged.pdf\n"
     ]
    }
   ],
   "source": [
    "# Re-arranging pages in the PDF file.\n",
    "\n",
    "def rearrange_pages(input_pdf, output_pdf, page_order):\n",
    "    pdf_reader = PyPDF2.PdfReader(input_pdf)\n",
    "    pdf_writer = PyPDF2.PdfWriter()\n",
    "\n",
    "    for page_num in page_order:\n",
    "        pdf_writer.add_page(pdf_reader.pages[page_num])\n",
    "\n",
    "    with open(output_pdf, 'wb') as out:\n",
    "        pdf_writer.write(out)\n",
    "\n",
    "    print(f\"Rearranged PDF is saved as {output_pdf}\")\n",
    "\n",
    "# Let's use the above function.\n",
    "rearrange_pages('merged.pdf', 'rearranged.pdf', [2,1,0])\n",
    "# [2,1,0] means file pages in reverse order"
   ]
  },
  {
   "cell_type": "code",
   "execution_count": 4,
   "id": "a171b5d8-0189-49f3-b0ff-63bcbb577f77",
   "metadata": {},
   "outputs": [],
   "source": [
    "import os\n",
    "\n",
    "pdf_path = \"rearranged.pdf\"\n",
    "\n",
    "os.startfile(pdf_path)  # For Windows\n",
    "#This open using pdf file open "
   ]
  },
  {
   "cell_type": "code",
   "execution_count": null,
   "id": "6e682538-eaa3-41aa-a835-a6703fac2f76",
   "metadata": {},
   "outputs": [],
   "source": [
    "from IPython.display import IFrame\n",
    "\n",
    "# Replace 'example.pdf' with your file path\n",
    "IFrame(\"example.pdf\", width=800, height=600)\n"
   ]
  }
 ],
 "metadata": {
  "kernelspec": {
   "display_name": "Python 3 (ipykernel)",
   "language": "python",
   "name": "python3"
  },
  "language_info": {
   "codemirror_mode": {
    "name": "ipython",
    "version": 3
   },
   "file_extension": ".py",
   "mimetype": "text/x-python",
   "name": "python",
   "nbconvert_exporter": "python",
   "pygments_lexer": "ipython3",
   "version": "3.12.4"
  }
 },
 "nbformat": 4,
 "nbformat_minor": 5
}
