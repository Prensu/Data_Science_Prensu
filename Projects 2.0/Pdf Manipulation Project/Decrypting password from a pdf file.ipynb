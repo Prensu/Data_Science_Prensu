{
 "cells": [
  {
   "cell_type": "code",
   "execution_count": null,
   "id": "7d6619f7-4e4d-409e-97e0-045a77200c2e",
   "metadata": {},
   "outputs": [],
   "source": []
  }
 ],
 "metadata": {
  "kernelspec": {
   "display_name": "",
   "name": ""
  },
  "language_info": {
   "name": ""
  }
 },
 "nbformat": 4,
 "nbformat_minor": 5
}
