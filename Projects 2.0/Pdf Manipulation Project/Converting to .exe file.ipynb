{
 "cells": [
  {
   "cell_type": "code",
   "execution_count": 1,
   "id": "323dee17-c2d7-4d0c-8a8f-6677e15d962d",
   "metadata": {},
   "outputs": [],
   "source": [
    "#Builidng a  pdf handling tool "
   ]
  },
  {
   "cell_type": "code",
   "execution_count": 2,
   "id": "904d122e-551f-41d9-9a7e-18ccdda485f2",
   "metadata": {},
   "outputs": [],
   "source": [
    "import PyPDF2"
   ]
  },
  {
   "cell_type": "code",
   "execution_count": 4,
   "id": "307f0ca7-824d-414a-b3a9-976fbd6c4004",
   "metadata": {},
   "outputs": [],
   "source": [
    "import PyPDF2\n",
    "import os\n",
    "\n",
    "def merge_pdfs(input_folder, output_pdf):\n",
    "    # Remove the existing merged PDF file if it exists\n",
    "    if os.path.exists(output_pdf):\n",
    "        os.remove(output_pdf)\n",
    "\n",
    "    # Get a list of PDF files in the input folder\n",
    "    pdf_files = [file for file in os.listdir(input_folder) if file.endswith('.pdf')]\n",
    "\n",
    "    # Sort the list of PDF files (optional)\n",
    "    pdf_files.sort()\n",
    "\n",
    "    # Create a PDF writer object\n",
    "    pdf_writer = PyPDF2.PdfWriter()\n",
    "\n",
    "    # Loop through each PDF file and merge it into the output PDF\n",
    "    for pdf_file in pdf_files:\n",
    "        with open(os.path.join(input_folder, pdf_file), 'rb') as file:\n",
    "            pdf_reader = PyPDF2.PdfReader(file)\n",
    "            for page_num in range(len(pdf_reader.pages)):\n",
    "                page = pdf_reader.pages[page_num]\n",
    "                pdf_writer.add_page(page)\n",
    "\n",
    "    # Write the merged PDF to the output file\n",
    "    with open(output_pdf, 'wb') as output_file:\n",
    "        pdf_writer.write(output_file)\n",
    "\n",
    "# Example usage:\n",
    "input_folder = 'pdf_files'  # Path to the folder containing PDF files to merge\n",
    "output_pdf = 'pdf_files/merged.pdf'   # Output PDF file name (relative path)\n",
    "\n",
    "merge_pdfs(input_folder, output_pdf)\n"
   ]
  },
  {
   "cell_type": "code",
   "execution_count": null,
   "id": "5353ee8c-0e4a-4eee-94c4-2805c2dca314",
   "metadata": {},
   "outputs": [],
   "source": []
  }
 ],
 "metadata": {
  "kernelspec": {
   "display_name": "Python 3 (ipykernel)",
   "language": "python",
   "name": "python3"
  },
  "language_info": {
   "codemirror_mode": {
    "name": "ipython",
    "version": 3
   },
   "file_extension": ".py",
   "mimetype": "text/x-python",
   "name": "python",
   "nbconvert_exporter": "python",
   "pygments_lexer": "ipython3",
   "version": "3.12.4"
  }
 },
 "nbformat": 4,
 "nbformat_minor": 5
}
