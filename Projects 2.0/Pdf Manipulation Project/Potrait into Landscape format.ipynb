{
 "cells": [
  {
   "cell_type": "code",
   "execution_count": 1,
   "id": "061323c2-eb9c-443f-af7e-8ec1aa733eec",
   "metadata": {},
   "outputs": [],
   "source": [
    "import PyPDF2"
   ]
  },
  {
   "cell_type": "code",
   "execution_count": 2,
   "id": "3f1633ee-a181-48a2-bf69-da511eefeb57",
   "metadata": {},
   "outputs": [
    {
     "name": "stdout",
     "output_type": "stream",
     "text": [
      "New PDF is saved as landscape.pdf\n"
     ]
    }
   ],
   "source": [
    "def rotate_pages(input_pdf, output_pdf, rotation):\n",
    "    pdf_reader = PyPDF2.PdfReader(input_pdf)\n",
    "    pdf_writer = PyPDF2.PdfWriter()\n",
    "\n",
    "    for page_num in range(len(pdf_reader.pages)):\n",
    "        page = pdf_reader.pages[page_num]\n",
    "        page.rotate(rotation)\n",
    "        pdf_writer.add_page(page)\n",
    "\n",
    "    with open(output_pdf, 'wb') as out:\n",
    "        pdf_writer.write(out)\n",
    "\n",
    "    print(f\"New PDF is saved as {output_pdf}\")\n",
    "\n",
    "# Let's use the above function.\n",
    "rotate_pages('merged.pdf', 'landscape.pdf', 90)\n",
    "# Let's rotate the pages to 90 deg. From portrait to landscape orientation."
   ]
  },
  {
   "cell_type": "code",
   "execution_count": 3,
   "id": "1e100955-6371-415c-9822-2251066ac1a1",
   "metadata": {},
   "outputs": [],
   "source": [
    "import os\n",
    "\n",
    "def open_pdf(filepath):\n",
    "    \"\"\"Opens a PDF file using the default viewer on Windows.\"\"\"\n",
    "    try:\n",
    "        os.startfile(filepath)\n",
    "    except FileNotFoundError:\n",
    "        print(f\"Error: File not found at '{filepath}'\")\n",
    "    except Exception as e:\n",
    "        print(f\"An error occurred while trying to open the PDF: {e}\")\n",
    "\n",
    "# Example usage:\n",
    "pdf_file_to_open = 'landscape.pdf'  # Replace with the actual path to your PDF file\n",
    "open_pdf(pdf_file_to_open)"
   ]
  },
  {
   "cell_type": "code",
   "execution_count": 4,
   "id": "f359d221-ffa5-457e-b4f5-40c7e8aed8a9",
   "metadata": {},
   "outputs": [
    {
     "data": {
      "text/html": [
       "\n",
       "        <iframe\n",
       "            width=\"100%\"\n",
       "            height=\"600px\"\n",
       "            src=\"landscape.pdf\"\n",
       "            frameborder=\"0\"\n",
       "            allowfullscreen\n",
       "            \n",
       "        ></iframe>\n",
       "        "
      ],
      "text/plain": [
       "<IPython.lib.display.IFrame at 0x1f505e45eb0>"
      ]
     },
     "execution_count": 4,
     "metadata": {},
     "output_type": "execute_result"
    }
   ],
   "source": [
    "from IPython.display import IFrame\n",
    "\n",
    "def show_pdf(filepath, width='100%', height='600px'):\n",
    "    \"\"\"Displays a PDF file within the Jupyter Notebook.\"\"\"\n",
    "    return IFrame(filepath, width=width, height=height)\n",
    "\n",
    "# Replace 'your_pdf_file.pdf' with the actual path to your PDF file\n",
    "pdf_path = 'landscape.pdf'\n",
    "show_pdf(pdf_path)"
   ]
  },
  {
   "cell_type": "code",
   "execution_count": null,
   "id": "680dd043-edf2-4f11-a93f-584c18e5e5ee",
   "metadata": {},
   "outputs": [],
   "source": []
  }
 ],
 "metadata": {
  "kernelspec": {
   "display_name": "Python 3 (ipykernel)",
   "language": "python",
   "name": "python3"
  },
  "language_info": {
   "codemirror_mode": {
    "name": "ipython",
    "version": 3
   },
   "file_extension": ".py",
   "mimetype": "text/x-python",
   "name": "python",
   "nbconvert_exporter": "python",
   "pygments_lexer": "ipython3",
   "version": "3.12.4"
  }
 },
 "nbformat": 4,
 "nbformat_minor": 5
}
