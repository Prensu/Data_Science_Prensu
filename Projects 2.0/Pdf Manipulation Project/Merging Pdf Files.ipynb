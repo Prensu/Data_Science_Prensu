{
 "cells": [
  {
   "cell_type": "code",
   "execution_count": 3,
   "id": "6a3ea1f6-fb59-4460-b143-ca755fe069ef",
   "metadata": {},
   "outputs": [],
   "source": [
    "import PyPDF2"
   ]
  },
  {
   "cell_type": "code",
   "execution_count": 7,
   "id": "ae38ce35-53a1-4cb8-85b8-8548e5c87af4",
   "metadata": {},
   "outputs": [
    {
     "name": "stdout",
     "output_type": "stream",
     "text": [
      "Merged pdf saved as merged.pdf\n"
     ]
    }
   ],
   "source": [
    "def merge_pdfs(pdf_lists,output_path):#this takes list of input files and output_path is generated to store the output \n",
    "    pdf_writer=PyPDF2.PdfWriter() #used to create empty pdf file\n",
    "    for pdf in pdf_lists:\n",
    "        pdf_reader=PyPDF2.PdfReader(pdf)\n",
    "        for page_num in range(len(pdf_reader.pages)):\n",
    "            pdf_writer.add_page(pdf_reader.pages[page_num])\n",
    "            \n",
    "    with open(output_path, \"wb\") as out: #opens the pdf in write binary mode \n",
    "        pdf_writer.write(out) #writes the merged pdf as file \n",
    "        print(f\"Merged pdf saved as {output_path}\") #prints  a success message\n",
    "\n",
    "merge_pdfs([\"Page+1.pdf\",\"Page+2.pdf\",\"Page+3.pdf\",\"Page+4.pdf\"],\"merged.pdf\")\n",
    "    "
   ]
  },
  {
   "cell_type": "code",
   "execution_count": 9,
   "id": "82f9044b-1bc7-49ea-bc91-5d96c5c34b83",
   "metadata": {},
   "outputs": [
    {
     "data": {
      "text/html": [
       "\n",
       "        <iframe\n",
       "            width=\"600\"\n",
       "            height=\"400\"\n",
       "            src=\"merged.pdf\"\n",
       "            frameborder=\"0\"\n",
       "            allowfullscreen\n",
       "            \n",
       "        ></iframe>\n",
       "        "
      ],
      "text/plain": [
       "<IPython.lib.display.IFrame at 0x232202e9160>"
      ]
     },
     "execution_count": 9,
     "metadata": {},
     "output_type": "execute_result"
    }
   ],
   "source": [
    "from IPython.display import IFrame\n",
    "\n",
    "IFrame(\"merged.pdf\", width=600, height=400)\n"
   ]
  },
  {
   "cell_type": "code",
   "execution_count": null,
   "id": "0f7f34e4-3669-447b-9339-d8b2c558a8ca",
   "metadata": {},
   "outputs": [],
   "source": [
    "#The end"
   ]
  }
 ],
 "metadata": {
  "kernelspec": {
   "display_name": "Python 3 (ipykernel)",
   "language": "python",
   "name": "python3"
  },
  "language_info": {
   "codemirror_mode": {
    "name": "ipython",
    "version": 3
   },
   "file_extension": ".py",
   "mimetype": "text/x-python",
   "name": "python",
   "nbconvert_exporter": "python",
   "pygments_lexer": "ipython3",
   "version": "3.12.4"
  }
 },
 "nbformat": 4,
 "nbformat_minor": 5
}
