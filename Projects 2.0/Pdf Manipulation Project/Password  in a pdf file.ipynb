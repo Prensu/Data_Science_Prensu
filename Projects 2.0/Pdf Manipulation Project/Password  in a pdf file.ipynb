{
 "cells": [
  {
   "cell_type": "code",
   "execution_count": 1,
   "id": "6a9ecf84-6300-4676-b9c9-d7ab0011ded9",
   "metadata": {},
   "outputs": [],
   "source": [
    "import PyPDF2"
   ]
  },
  {
   "cell_type": "code",
   "execution_count": 2,
   "id": "45d02f02-3d12-42fb-9974-dd7aad2111e6",
   "metadata": {},
   "outputs": [],
   "source": [
    "#Creating password protected PDFs(input_pdf,output_pdf,password)"
   ]
  },
  {
   "cell_type": "code",
   "execution_count": 3,
   "id": "2852926d-3200-44ff-9487-5adc6058f843",
   "metadata": {},
   "outputs": [
    {
     "name": "stdout",
     "output_type": "stream",
     "text": [
      "Encrypted PDF file is saved as encrypted.pdf\n"
     ]
    }
   ],
   "source": [
    "def encrypt_pdf(input_pdf, output_pdf, password):\n",
    "    pdf_reader = PyPDF2.PdfReader(input_pdf)\n",
    "    pdf_writer = PyPDF2.PdfWriter()\n",
    "\n",
    "    for page_num in range(len(pdf_reader.pages)):\n",
    "        pdf_writer.add_page(pdf_reader.pages[page_num])\n",
    "\n",
    "    pdf_writer.encrypt(password)\n",
    "\n",
    "    with open(output_pdf, 'wb') as out:\n",
    "        pdf_writer.write(out)\n",
    "\n",
    "    print(f\"Encrypted PDF file is saved as {output_pdf}\")\n",
    "\n",
    "# Let's use the above function.\n",
    "encrypt_pdf('merged.pdf', 'encrypted.pdf', 'pass123')"
   ]
  },
  {
   "cell_type": "code",
   "execution_count": null,
   "id": "7b7e23ab-70cd-4807-9bde-e358c474377a",
   "metadata": {},
   "outputs": [],
   "source": []
  }
 ],
 "metadata": {
  "kernelspec": {
   "display_name": "Python 3 (ipykernel)",
   "language": "python",
   "name": "python3"
  },
  "language_info": {
   "codemirror_mode": {
    "name": "ipython",
    "version": 3
   },
   "file_extension": ".py",
   "mimetype": "text/x-python",
   "name": "python",
   "nbconvert_exporter": "python",
   "pygments_lexer": "ipython3",
   "version": "3.12.4"
  }
 },
 "nbformat": 4,
 "nbformat_minor": 5
}
