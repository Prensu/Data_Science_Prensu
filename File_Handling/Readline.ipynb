{
 "cells": [
  {
   "cell_type": "code",
   "execution_count": 3,
   "id": "f914c292-6d18-4d69-9719-3975524cf714",
   "metadata": {},
   "outputs": [
    {
     "name": "stdout",
     "output_type": "stream",
     "text": [
      "Marks of student 1 in subject 1 is: 43\n",
      "Marks of student 1 in subject 2 is: 56\n",
      "Marks of student 1 in subject 3 is: 78\n",
      "\n",
      "Marks of student 2 in subject 1 is: 44\n",
      "Marks of student 2 in subject 2 is: 88\n",
      "Marks of student 2 in subject 3 is: 99\n",
      "\n",
      "Marks of student 3 in subject 1 is: 12\n",
      "Marks of student 3 in subject 2 is: 67\n",
      "Marks of student 3 in subject 3 is: 16\n",
      "\n"
     ]
    }
   ],
   "source": [
    "f = open('myfile.txt', 'r')  # Open the file in read mode\n",
    "i = 0  # Initialize a counter for the student number\n",
    "\n",
    "while True:\n",
    "    line = f.readline()  # Read a line from the file\n",
    "    if not line:  # If the line is empty, end of the file is reached\n",
    "        break\n",
    "    i += 1  # Increment the student counter\n",
    "    \n",
    "    # Split the current line into marks and remove extra whitespace\n",
    "    marks = line.strip().split(\",\")\n",
    "    \n",
    "    m1 = marks[0].strip()\n",
    "    m2 = marks[1].strip()\n",
    "    m3 = marks[2].strip()\n",
    "    \n",
    "    print(f\"Marks of student {i} in subject 1 is: {m1}\")\n",
    "    print(f\"Marks of student {i} in subject 2 is: {m2}\")\n",
    "    print(f\"Marks of student {i} in subject 3 is: {m3}\")\n",
    "    print()\n",
    "\n",
    "f.close()  # It's a good practice to close the file after you're done\n"
   ]
  },
  {
   "cell_type": "code",
   "execution_count": null,
   "id": "9150ab20-fbeb-4e76-8819-13ed71b010d8",
   "metadata": {},
   "outputs": [],
   "source": []
  }
 ],
 "metadata": {
  "kernelspec": {
   "display_name": "Python 3 (ipykernel)",
   "language": "python",
   "name": "python3"
  },
  "language_info": {
   "codemirror_mode": {
    "name": "ipython",
    "version": 3
   },
   "file_extension": ".py",
   "mimetype": "text/x-python",
   "name": "python",
   "nbconvert_exporter": "python",
   "pygments_lexer": "ipython3",
   "version": "3.12.4"
  }
 },
 "nbformat": 4,
 "nbformat_minor": 5
}
