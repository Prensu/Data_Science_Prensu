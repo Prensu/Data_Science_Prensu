{
 "cells": [
  {
   "cell_type": "markdown",
   "id": "29d63843-f19b-4bd3-9000-8163c0f8c0eb",
   "metadata": {},
   "source": [
    "Seek function : Allow you to move from current position within a file to a specific position in bytes and you can move forward or backward from current position "
   ]
  },
  {
   "cell_type": "code",
   "execution_count": 9,
   "id": "e0b5775a-400f-4c82-a2a9-234014c82801",
   "metadata": {},
   "outputs": [
    {
     "name": "stdout",
     "output_type": "stream",
     "text": [
      " hernechittra ko katha ! And today we are presenting you new story of a person who once left home at 10 for ktm but later forgot how to get home!\n",
      "157\n"
     ]
    }
   ],
   "source": [
    "with open('myfile.txt','r')as f:\n",
    "    \n",
    "    f.seek(12)\n",
    "    data=f.read()\n",
    "    print(data)\n",
    "    pos=f.tell()\n",
    "    print(pos)"
   ]
  },
  {
   "cell_type": "markdown",
   "id": "f7ee6c3a-fe55-4a68-95b4-72b2e8b51082",
   "metadata": {},
   "source": [
    "Tell function: Tells the current position where you are in :"
   ]
  },
  {
   "cell_type": "markdown",
   "id": "e5c25b06-d8f0-4909-83d6-9c1f1f12f3ea",
   "metadata": {},
   "source": [
    "Truncate method : When you open the file using truncate:you can specify the mode you want to open the file "
   ]
  },
  {
   "cell_type": "code",
   "execution_count": null,
   "id": "3da0bc19-bbde-4438-8864-524b2bb18442",
   "metadata": {},
   "outputs": [],
   "source": [
    "with open('myfile.txt','w')as f:\n",
    "    f.write(\"hEllo World!\")\n",
    "    truncate(5)\n",
    "\n",
    "with open(''\n"
   ]
  }
 ],
 "metadata": {
  "kernelspec": {
   "display_name": "Python 3 (ipykernel)",
   "language": "python",
   "name": "python3"
  },
  "language_info": {
   "codemirror_mode": {
    "name": "ipython",
    "version": 3
   },
   "file_extension": ".py",
   "mimetype": "text/x-python",
   "name": "python",
   "nbconvert_exporter": "python",
   "pygments_lexer": "ipython3",
   "version": "3.12.4"
  }
 },
 "nbformat": 4,
 "nbformat_minor": 5
}
