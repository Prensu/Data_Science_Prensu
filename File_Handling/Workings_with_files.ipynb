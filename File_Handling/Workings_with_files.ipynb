{
 "cells": [
  {
   "cell_type": "code",
   "execution_count": 5,
   "id": "1c056ff6-107c-47e8-9d39-97392f0243bb",
   "metadata": {},
   "outputs": [
    {
     "name": "stdout",
     "output_type": "stream",
     "text": [
      "Fuck you whatsapp why you block my number\n"
     ]
    }
   ],
   "source": [
    "f=open('myfile.txt','r')\n",
    "text=f.read()\n",
    "print(text)"
   ]
  },
  {
   "cell_type": "markdown",
   "id": "f6c23756-2a34-4873-8197-3c2405c8709c",
   "metadata": {},
   "source": [
    "opening file in binary mode"
   ]
  },
  {
   "cell_type": "code",
   "execution_count": 6,
   "id": "f735fc3a-a58c-4f2c-bb3d-f55a9e79f684",
   "metadata": {
    "scrolled": true
   },
   "outputs": [
    {
     "name": "stdout",
     "output_type": "stream",
     "text": [
      "b'Fuck you whatsapp why you block my number'\n"
     ]
    }
   ],
   "source": [
    "f=open('myfile.txt','rb')\n",
    "text=f.read()\n",
    "print(text)"
   ]
  },
  {
   "cell_type": "code",
   "execution_count": 7,
   "id": "bd233952-d766-40a4-8e9b-7308771c20de",
   "metadata": {},
   "outputs": [],
   "source": [
    "f.close()"
   ]
  },
  {
   "cell_type": "code",
   "execution_count": 8,
   "id": "7770adc3-81ed-4264-9238-28919613ece3",
   "metadata": {},
   "outputs": [
    {
     "data": {
      "text/plain": [
       "35"
      ]
     },
     "execution_count": 8,
     "metadata": {},
     "output_type": "execute_result"
    }
   ],
   "source": [
    "f=open('myfile.txt', 'w')\n",
    "f.write(\"What ! please open fucking whatsapp\")"
   ]
  },
  {
   "cell_type": "code",
   "execution_count": 11,
   "id": "2faa13b0-32bf-46e4-b727-268b1a91c8bb",
   "metadata": {},
   "outputs": [
    {
     "name": "stdout",
     "output_type": "stream",
     "text": [
      "What ! please open fucking whatsapp\n"
     ]
    }
   ],
   "source": [
    "f=open('myfile.txt','r')\n",
    "txt1=f.read()\n",
    "print(txt1)\n"
   ]
  },
  {
   "cell_type": "code",
   "execution_count": 15,
   "id": "efcd970c-fa90-4207-bfd5-f54d7abe9ab7",
   "metadata": {},
   "outputs": [
    {
     "data": {
      "text/plain": [
       "45"
      ]
     },
     "execution_count": 15,
     "metadata": {},
     "output_type": "execute_result"
    }
   ],
   "source": [
    "f=open('myfile.txt','a')\n",
    "f.write(\".....okay whatsapp! I understood the scenario\")"
   ]
  },
  {
   "cell_type": "code",
   "execution_count": 16,
   "id": "3698347d-aa8b-4b6a-bb7f-645bb9dbcc65",
   "metadata": {},
   "outputs": [
    {
     "name": "stdout",
     "output_type": "stream",
     "text": [
      "What ! please open fucking whatsappokay whatsapp! I understood the scenario.....okay whatsapp! I understood the scenario\n"
     ]
    }
   ],
   "source": [
    "f=open('myfile.txt','r')\n",
    "txt2=f.read()\n",
    "print(txt2)"
   ]
  },
  {
   "cell_type": "code",
   "execution_count": 23,
   "id": "17fafbf5-40c6-445e-80e9-e14e9f7b1c65",
   "metadata": {},
   "outputs": [],
   "source": [
    "with open('myfile.txt','a') as f:\n",
    "    f.write(\".......!!please fix it whatsapp bro ! Zukerberg bro\")"
   ]
  },
  {
   "cell_type": "code",
   "execution_count": 24,
   "id": "268cf48f-1c86-4467-a743-37411818d94d",
   "metadata": {},
   "outputs": [
    {
     "name": "stdout",
     "output_type": "stream",
     "text": [
      "What ! please open fucking whatsappokay whatsapp! I understood the scenario.....okay whatsapp! I understood the scenario.......!!please fix it whatsapp bro ! Zukerberg bro\n"
     ]
    }
   ],
   "source": [
    "with open('myfile.txt','r') as f:\n",
    "    txt=f.read()\n",
    "    print(txt)"
   ]
  },
  {
   "cell_type": "code",
   "execution_count": null,
   "id": "2b757ce0-8c68-43d3-b427-52a0f224df88",
   "metadata": {},
   "outputs": [],
   "source": [
    "f = open('myfile.txt', 'r')\n",
    "i = 0\n",
    "while True:\n",
    "    \n",
    "    i = i + 1\n",
    "    line = f.readline()\n",
    "    if not line:\n",
    "        break\n",
    "    # Split the current line into marks\n",
    "    marks = line.split(\",\")\n",
    "    m1 = marks[0].strip()\n",
    "    m2 = marks[1].strip()\n",
    "    m3 = marks[2].strip()\n",
    "\n",
    "    print(f\"Marks of student {i} in subject 1 is: {m1}\")\n",
    "    print(f\"Marks of student {i} in subject 2 is: {m2}\")\n",
    "    print(f\"Marks of student {i} in subject 3 is: {m3}\")\n",
    "\n",
    "f.close()  # It's a good practice to close the file after you're done\n"
   ]
  },
  {
   "cell_type": "code",
   "execution_count": null,
   "id": "90a8459a-f9e6-429d-9e5b-757d5f4faa0b",
   "metadata": {},
   "outputs": [],
   "source": []
  },
  {
   "cell_type": "code",
   "execution_count": null,
   "id": "6fca8aca-8ec3-4f76-a7a7-e16d17381c4f",
   "metadata": {},
   "outputs": [],
   "source": []
  }
 ],
 "metadata": {
  "kernelspec": {
   "display_name": "Python 3 (ipykernel)",
   "language": "python",
   "name": "python3"
  },
  "language_info": {
   "codemirror_mode": {
    "name": "ipython",
    "version": 3
   },
   "file_extension": ".py",
   "mimetype": "text/x-python",
   "name": "python",
   "nbconvert_exporter": "python",
   "pygments_lexer": "ipython3",
   "version": "3.12.4"
  }
 },
 "nbformat": 4,
 "nbformat_minor": 5
}
