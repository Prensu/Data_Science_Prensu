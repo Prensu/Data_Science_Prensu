{
  "nbformat": 4,
  "nbformat_minor": 0,
  "metadata": {
    "colab": {
      "provenance": []
    },
    "kernelspec": {
      "name": "python3",
      "display_name": "Python 3"
    },
    "language_info": {
      "name": "python"
    }
  },
  "cells": [
    {
      "cell_type": "code",
      "execution_count": 1,
      "metadata": {
        "colab": {
          "base_uri": "https://localhost:8080/"
        },
        "id": "vFPgv_LqeKxW",
        "outputId": "921741a1-ad44-49d6-a254-380265378e50"
      },
      "outputs": [
        {
          "output_type": "execute_result",
          "data": {
            "text/plain": [
              "array([[[0., 0., 0., 0., 0.],\n",
              "        [0., 0., 0., 0., 0.]],\n",
              "\n",
              "       [[0., 0., 0., 0., 0.],\n",
              "        [0., 0., 0., 0., 0.]],\n",
              "\n",
              "       [[0., 0., 0., 0., 0.],\n",
              "        [0., 0., 0., 0., 0.]],\n",
              "\n",
              "       [[0., 0., 0., 0., 0.],\n",
              "        [0., 0., 0., 0., 0.]],\n",
              "\n",
              "       [[0., 0., 0., 0., 0.],\n",
              "        [0., 0., 0., 0., 0.]],\n",
              "\n",
              "       [[0., 0., 0., 0., 0.],\n",
              "        [0., 0., 0., 0., 0.]],\n",
              "\n",
              "       [[0., 0., 0., 0., 0.],\n",
              "        [0., 0., 0., 0., 0.]],\n",
              "\n",
              "       [[0., 0., 0., 0., 0.],\n",
              "        [0., 0., 0., 0., 0.]],\n",
              "\n",
              "       [[0., 0., 0., 0., 0.],\n",
              "        [0., 0., 0., 0., 0.]],\n",
              "\n",
              "       [[0., 0., 0., 0., 0.],\n",
              "        [0., 0., 0., 0., 0.]]])"
            ]
          },
          "metadata": {},
          "execution_count": 1
        }
      ],
      "source": [
        "import numpy as np\n",
        "np.zeros((10,2,5))"
      ]
    },
    {
      "cell_type": "code",
      "source": [
        "np.ones((10,2,5))"
      ],
      "metadata": {
        "colab": {
          "base_uri": "https://localhost:8080/"
        },
        "id": "PWbrc0YGeRFo",
        "outputId": "99363d29-f901-4e36-e590-454b58265f77"
      },
      "execution_count": 2,
      "outputs": [
        {
          "output_type": "execute_result",
          "data": {
            "text/plain": [
              "array([[[1., 1., 1., 1., 1.],\n",
              "        [1., 1., 1., 1., 1.]],\n",
              "\n",
              "       [[1., 1., 1., 1., 1.],\n",
              "        [1., 1., 1., 1., 1.]],\n",
              "\n",
              "       [[1., 1., 1., 1., 1.],\n",
              "        [1., 1., 1., 1., 1.]],\n",
              "\n",
              "       [[1., 1., 1., 1., 1.],\n",
              "        [1., 1., 1., 1., 1.]],\n",
              "\n",
              "       [[1., 1., 1., 1., 1.],\n",
              "        [1., 1., 1., 1., 1.]],\n",
              "\n",
              "       [[1., 1., 1., 1., 1.],\n",
              "        [1., 1., 1., 1., 1.]],\n",
              "\n",
              "       [[1., 1., 1., 1., 1.],\n",
              "        [1., 1., 1., 1., 1.]],\n",
              "\n",
              "       [[1., 1., 1., 1., 1.],\n",
              "        [1., 1., 1., 1., 1.]],\n",
              "\n",
              "       [[1., 1., 1., 1., 1.],\n",
              "        [1., 1., 1., 1., 1.]],\n",
              "\n",
              "       [[1., 1., 1., 1., 1.],\n",
              "        [1., 1., 1., 1., 1.]]])"
            ]
          },
          "metadata": {},
          "execution_count": 2
        }
      ]
    },
    {
      "cell_type": "code",
      "source": [
        "np.random.randn(3,3,5)"
      ],
      "metadata": {
        "colab": {
          "base_uri": "https://localhost:8080/"
        },
        "id": "WOqddUgweWuH",
        "outputId": "41d6fd5c-3650-4813-d289-5d73a397ff00"
      },
      "execution_count": 3,
      "outputs": [
        {
          "output_type": "execute_result",
          "data": {
            "text/plain": [
              "array([[[-0.47803629,  0.55481354,  1.08457913,  1.27358715,\n",
              "          1.76757634],\n",
              "        [ 2.34493659,  0.01690253, -1.72173788,  0.4791954 ,\n",
              "         -0.1932786 ],\n",
              "        [ 0.36803346, -0.28061846, -0.99029712, -0.39971491,\n",
              "         -1.04693568]],\n",
              "\n",
              "       [[ 0.15849812, -0.7282423 ,  0.54666896,  0.97099939,\n",
              "          0.10598494],\n",
              "        [ 0.31854898,  0.04366498, -1.77864359, -1.90901435,\n",
              "          0.40632227],\n",
              "        [ 0.19739824, -1.23790091, -0.04894815,  0.01709123,\n",
              "          1.8025349 ]],\n",
              "\n",
              "       [[ 0.29488389, -1.18364748,  0.5857804 ,  1.96406395,\n",
              "          0.18805891],\n",
              "        [-0.04260142, -1.34118019,  0.15040134, -0.61295603,\n",
              "         -0.83708402],\n",
              "        [-2.14304538, -0.19984904,  0.88879268,  0.26087764,\n",
              "          1.73894312]]])"
            ]
          },
          "metadata": {},
          "execution_count": 3
        }
      ]
    },
    {
      "cell_type": "code",
      "source": [
        "np.arange(101)"
      ],
      "metadata": {
        "colab": {
          "base_uri": "https://localhost:8080/"
        },
        "id": "OZuSsbowefL-",
        "outputId": "15731cf4-dfd9-4895-f526-30127f5339b3"
      },
      "execution_count": 4,
      "outputs": [
        {
          "output_type": "execute_result",
          "data": {
            "text/plain": [
              "array([  0,   1,   2,   3,   4,   5,   6,   7,   8,   9,  10,  11,  12,\n",
              "        13,  14,  15,  16,  17,  18,  19,  20,  21,  22,  23,  24,  25,\n",
              "        26,  27,  28,  29,  30,  31,  32,  33,  34,  35,  36,  37,  38,\n",
              "        39,  40,  41,  42,  43,  44,  45,  46,  47,  48,  49,  50,  51,\n",
              "        52,  53,  54,  55,  56,  57,  58,  59,  60,  61,  62,  63,  64,\n",
              "        65,  66,  67,  68,  69,  70,  71,  72,  73,  74,  75,  76,  77,\n",
              "        78,  79,  80,  81,  82,  83,  84,  85,  86,  87,  88,  89,  90,\n",
              "        91,  92,  93,  94,  95,  96,  97,  98,  99, 100])"
            ]
          },
          "metadata": {},
          "execution_count": 4
        }
      ]
    },
    {
      "cell_type": "code",
      "source": [
        "np.arange(0,101,2)"
      ],
      "metadata": {
        "colab": {
          "base_uri": "https://localhost:8080/"
        },
        "id": "zBT-bF0ifTLr",
        "outputId": "9ad372c1-8a9e-48d7-8d41-74df918b97ae"
      },
      "execution_count": 5,
      "outputs": [
        {
          "output_type": "execute_result",
          "data": {
            "text/plain": [
              "array([  0,   2,   4,   6,   8,  10,  12,  14,  16,  18,  20,  22,  24,\n",
              "        26,  28,  30,  32,  34,  36,  38,  40,  42,  44,  46,  48,  50,\n",
              "        52,  54,  56,  58,  60,  62,  64,  66,  68,  70,  72,  74,  76,\n",
              "        78,  80,  82,  84,  86,  88,  90,  92,  94,  96,  98, 100])"
            ]
          },
          "metadata": {},
          "execution_count": 5
        }
      ]
    },
    {
      "cell_type": "markdown",
      "source": [
        "**Comparison between normal list and arange **"
      ],
      "metadata": {
        "id": "x8PgwU0HfrWZ"
      }
    },
    {
      "cell_type": "code",
      "source": [
        "import time\n",
        "iterations=100000000\n",
        "before=time.time()\n",
        "list(range(iterations))\n",
        "after=time.time()\n",
        "python_time=after-before\n",
        "print(f'Python time: {python_time}')\n",
        "\n",
        "before=time.time()\n",
        "np.arange(iterations)\n",
        "after=time.time()\n",
        "numpy_time=after-before\n",
        "print(f'Numpy time: {numpy_time}')\n",
        "print(f'Numpy is {python_time/numpy_time} times faster')\n"
      ],
      "metadata": {
        "colab": {
          "base_uri": "https://localhost:8080/"
        },
        "id": "eICaJPUpfoLl",
        "outputId": "3856ed7a-d503-45aa-e856-329f83cb5531"
      },
      "execution_count": 6,
      "outputs": [
        {
          "output_type": "stream",
          "name": "stdout",
          "text": [
            "Python time: 13.394395112991333\n",
            "Numpy time: 0.2134561538696289\n",
            "Numpy is 62.7501005249637 times faster\n"
          ]
        }
      ]
    },
    {
      "cell_type": "code",
      "source": [
        "arr1=np.array([1,6,7,9,1,8,3,7])\n",
        "np.sort(arr1)"
      ],
      "metadata": {
        "colab": {
          "base_uri": "https://localhost:8080/"
        },
        "id": "p2gkHJ0VgLPJ",
        "outputId": "fd37a291-fae3-4502-e4f5-f328b4458cf7"
      },
      "execution_count": 7,
      "outputs": [
        {
          "output_type": "execute_result",
          "data": {
            "text/plain": [
              "array([1, 1, 3, 6, 7, 7, 8, 9])"
            ]
          },
          "metadata": {},
          "execution_count": 7
        }
      ]
    },
    {
      "cell_type": "code",
      "source": [
        "a=np.array([4,6,8,9])\n",
        "b=np.array([7,6,2,9])\n",
        "np.concatenate((a,b))"
      ],
      "metadata": {
        "colab": {
          "base_uri": "https://localhost:8080/"
        },
        "id": "GQlaAfrfjhtt",
        "outputId": "4c4dd7a8-adc4-4e61-fdcb-a3e3c1e1cf07"
      },
      "execution_count": 8,
      "outputs": [
        {
          "output_type": "execute_result",
          "data": {
            "text/plain": [
              "array([4, 6, 8, 9, 7, 6, 2, 9])"
            ]
          },
          "metadata": {},
          "execution_count": 8
        }
      ]
    },
    {
      "cell_type": "code",
      "source": [
        "a=np.arange(10)\n",
        "a"
      ],
      "metadata": {
        "colab": {
          "base_uri": "https://localhost:8080/"
        },
        "id": "_mt0MMQej5Ko",
        "outputId": "436fef73-c16a-4a91-eacf-cc00be6df81a"
      },
      "execution_count": 9,
      "outputs": [
        {
          "output_type": "execute_result",
          "data": {
            "text/plain": [
              "array([0, 1, 2, 3, 4, 5, 6, 7, 8, 9])"
            ]
          },
          "metadata": {},
          "execution_count": 9
        }
      ]
    },
    {
      "cell_type": "code",
      "source": [
        "a.reshape(5,2)"
      ],
      "metadata": {
        "colab": {
          "base_uri": "https://localhost:8080/"
        },
        "id": "cw1zwpNVkAnh",
        "outputId": "ca5e20f1-cecd-4660-ad71-062bd8a7cf20"
      },
      "execution_count": 10,
      "outputs": [
        {
          "output_type": "execute_result",
          "data": {
            "text/plain": [
              "array([[0, 1],\n",
              "       [2, 3],\n",
              "       [4, 5],\n",
              "       [6, 7],\n",
              "       [8, 9]])"
            ]
          },
          "metadata": {},
          "execution_count": 10
        }
      ]
    },
    {
      "cell_type": "markdown",
      "source": [
        "Create an array óf 64 elements (64,) and reshape into\n",
        "(16,4),(4,4,4),(8,2,4),(10,2)"
      ],
      "metadata": {
        "id": "avSD3QVpQM8I"
      }
    },
    {
      "cell_type": "code",
      "source": [
        "a=[1,2,3,4,5]\n",
        "a*5"
      ],
      "metadata": {
        "id": "kO9Gt95fkIsY",
        "colab": {
          "base_uri": "https://localhost:8080/"
        },
        "outputId": "cdecc18b-2929-45ba-b1ac-bcb785a5a449"
      },
      "execution_count": 11,
      "outputs": [
        {
          "output_type": "execute_result",
          "data": {
            "text/plain": [
              "[1, 2, 3, 4, 5, 1, 2, 3, 4, 5, 1, 2, 3, 4, 5, 1, 2, 3, 4, 5, 1, 2, 3, 4, 5]"
            ]
          },
          "metadata": {},
          "execution_count": 11
        }
      ]
    },
    {
      "cell_type": "code",
      "source": [
        "data=np.array([1,2,3,4,5,])\n",
        "data*20"
      ],
      "metadata": {
        "colab": {
          "base_uri": "https://localhost:8080/"
        },
        "id": "AZ2MqQDHQtKL",
        "outputId": "8e29ed64-c430-41fa-c9cc-c4a4a1fe67da"
      },
      "execution_count": 12,
      "outputs": [
        {
          "output_type": "execute_result",
          "data": {
            "text/plain": [
              "array([ 20,  40,  60,  80, 100])"
            ]
          },
          "metadata": {},
          "execution_count": 12
        }
      ]
    },
    {
      "cell_type": "markdown",
      "source": [
        "It was the difference between list and numpy array"
      ],
      "metadata": {
        "id": "e8bY53MPQ5c9"
      }
    },
    {
      "cell_type": "code",
      "source": [
        " data.max()"
      ],
      "metadata": {
        "colab": {
          "base_uri": "https://localhost:8080/"
        },
        "id": "QREU4GN1Q3c9",
        "outputId": "92f4665c-e843-400f-8bde-633ca23d4862"
      },
      "execution_count": 13,
      "outputs": [
        {
          "output_type": "execute_result",
          "data": {
            "text/plain": [
              "5"
            ]
          },
          "metadata": {},
          "execution_count": 13
        }
      ]
    },
    {
      "cell_type": "code",
      "source": [
        " data.min()"
      ],
      "metadata": {
        "colab": {
          "base_uri": "https://localhost:8080/"
        },
        "id": "CrHGqm-lRAEv",
        "outputId": "2fada202-7a24-43d6-9f27-465c06ca91a8"
      },
      "execution_count": 14,
      "outputs": [
        {
          "output_type": "execute_result",
          "data": {
            "text/plain": [
              "1"
            ]
          },
          "metadata": {},
          "execution_count": 14
        }
      ]
    },
    {
      "cell_type": "code",
      "source": [
        " data.sum()"
      ],
      "metadata": {
        "colab": {
          "base_uri": "https://localhost:8080/"
        },
        "id": "PxOYwS58RB_w",
        "outputId": "d8276011-6459-4400-dd65-bd8e267e289e"
      },
      "execution_count": 16,
      "outputs": [
        {
          "output_type": "execute_result",
          "data": {
            "text/plain": [
              "15"
            ]
          },
          "metadata": {},
          "execution_count": 16
        }
      ]
    },
    {
      "cell_type": "markdown",
      "source": [
        "Exercise: Double each  list element\n",
        "i.e [10,12,14,16]=[5,6,7,8]\n",
        "\n",
        "using normal python approach\n",
        "using numpy apporach"
      ],
      "metadata": {
        "id": "XAXK44llROWI"
      }
    },
    {
      "cell_type": "code",
      "source": [
        "\n",
        "#using python approach\n",
        "numbers=[10,12,14,16]\n",
        "new_numbers=[]\n",
        "for number in numbers:\n",
        "    new_numbers.append(number/2.0)\n",
        "print(new_numbers)"
      ],
      "metadata": {
        "colab": {
          "base_uri": "https://localhost:8080/"
        },
        "id": "phawCvSIRDn3",
        "outputId": "6412d0fa-68cf-489a-bc94-62401c66b9c5"
      },
      "execution_count": 21,
      "outputs": [
        {
          "output_type": "stream",
          "name": "stdout",
          "text": [
            "[5.0, 6.0, 7.0, 8.0]\n"
          ]
        }
      ]
    },
    {
      "cell_type": "code",
      "source": [
        "#using numpy approach\n",
        "numbers=np.array([10,12,14,16])\n",
        "divided_numbers=numbers/2\n",
        "divided_numbers=a\n",
        "a"
      ],
      "metadata": {
        "colab": {
          "base_uri": "https://localhost:8080/"
        },
        "id": "gFs0cyY0R1lU",
        "outputId": "879f2adc-903d-40f1-9f7a-484b549b4fa0"
      },
      "execution_count": 27,
      "outputs": [
        {
          "output_type": "execute_result",
          "data": {
            "text/plain": [
              "[1, 2, 3, 4, 5]"
            ]
          },
          "metadata": {},
          "execution_count": 27
        }
      ]
    },
    {
      "cell_type": "code",
      "source": [
        "np.sin(a)"
      ],
      "metadata": {
        "colab": {
          "base_uri": "https://localhost:8080/"
        },
        "id": "SxUgHbOqSP4X",
        "outputId": "a0e00402-1383-41e8-98df-f063b4564b0a"
      },
      "execution_count": 28,
      "outputs": [
        {
          "output_type": "execute_result",
          "data": {
            "text/plain": [
              "array([ 0.84147098,  0.90929743,  0.14112001, -0.7568025 , -0.95892427])"
            ]
          },
          "metadata": {},
          "execution_count": 28
        }
      ]
    },
    {
      "cell_type": "code",
      "source": [
        "np.cos(a)"
      ],
      "metadata": {
        "colab": {
          "base_uri": "https://localhost:8080/"
        },
        "id": "l9RhXugZfDhs",
        "outputId": "00e6e313-ebfd-4a53-f6eb-a9a041d61bc1"
      },
      "execution_count": 29,
      "outputs": [
        {
          "output_type": "execute_result",
          "data": {
            "text/plain": [
              "array([ 0.54030231, -0.41614684, -0.9899925 , -0.65364362,  0.28366219])"
            ]
          },
          "metadata": {},
          "execution_count": 29
        }
      ]
    },
    {
      "cell_type": "code",
      "source": [
        "np.tan(a)"
      ],
      "metadata": {
        "colab": {
          "base_uri": "https://localhost:8080/"
        },
        "id": "LIfQxEgHgdeO",
        "outputId": "5fd1386f-bbb8-41b6-a715-a6413e15752a"
      },
      "execution_count": 30,
      "outputs": [
        {
          "output_type": "execute_result",
          "data": {
            "text/plain": [
              "array([ 1.55740772, -2.18503986, -0.14254654,  1.15782128, -3.38051501])"
            ]
          },
          "metadata": {},
          "execution_count": 30
        }
      ]
    },
    {
      "cell_type": "code",
      "source": [
        "a=np.arange(15)\n",
        "a"
      ],
      "metadata": {
        "colab": {
          "base_uri": "https://localhost:8080/"
        },
        "id": "n9CMafGhggUf",
        "outputId": "ff191c54-a56d-47f9-fcbf-e5e403658ad3"
      },
      "execution_count": 32,
      "outputs": [
        {
          "output_type": "execute_result",
          "data": {
            "text/plain": [
              "array([ 0,  1,  2,  3,  4,  5,  6,  7,  8,  9, 10, 11, 12, 13, 14])"
            ]
          },
          "metadata": {},
          "execution_count": 32
        }
      ]
    },
    {
      "cell_type": "code",
      "source": [
        "a[(a>6) & (a<14)]"
      ],
      "metadata": {
        "colab": {
          "base_uri": "https://localhost:8080/"
        },
        "id": "-4mFOPzfuUnY",
        "outputId": "ae6f6046-3a04-40b8-a4c3-c769c663117d"
      },
      "execution_count": 34,
      "outputs": [
        {
          "output_type": "execute_result",
          "data": {
            "text/plain": [
              "array([ 7,  8,  9, 10, 11, 12, 13])"
            ]
          },
          "metadata": {},
          "execution_count": 34
        }
      ]
    },
    {
      "cell_type": "markdown",
      "source": [
        "!Create two np arrays random numbers\n",
        "\n",
        "1)Array A should have dimension 2,3\n",
        "\n",
        "2)Array B should have dimension 3,2"
      ],
      "metadata": {
        "id": "zgliNMtjuwDr"
      }
    },
    {
      "cell_type": "code",
      "source": [
        "a=np.random.randn(2,3)\n",
        "b=np.random.randn(3,2)"
      ],
      "metadata": {
        "id": "KP3P4MoSugiR"
      },
      "execution_count": 35,
      "outputs": []
    },
    {
      "cell_type": "code",
      "source": [
        "a"
      ],
      "metadata": {
        "colab": {
          "base_uri": "https://localhost:8080/"
        },
        "id": "8WM2ZOyZvFxF",
        "outputId": "8968376a-4839-4469-f41e-7160d965f81c"
      },
      "execution_count": 36,
      "outputs": [
        {
          "output_type": "execute_result",
          "data": {
            "text/plain": [
              "array([[-1.23088508,  1.26499676,  1.47197303],\n",
              "       [ 0.50127693, -0.00400181, -0.09662103]])"
            ]
          },
          "metadata": {},
          "execution_count": 36
        }
      ]
    },
    {
      "cell_type": "code",
      "source": [
        "b"
      ],
      "metadata": {
        "colab": {
          "base_uri": "https://localhost:8080/"
        },
        "id": "lpe59QibvIjG",
        "outputId": "7fd840e5-6d16-4600-c329-ab5143cbf5ec"
      },
      "execution_count": 37,
      "outputs": [
        {
          "output_type": "execute_result",
          "data": {
            "text/plain": [
              "array([[ 0.9223856 , -0.95541239],\n",
              "       [-1.38148747,  0.25337523],\n",
              "       [ 0.34095579, -0.13909192]])"
            ]
          },
          "metadata": {},
          "execution_count": 37
        }
      ]
    },
    {
      "cell_type": "code",
      "source": [
        "np.matmul(a,b)"
      ],
      "metadata": {
        "colab": {
          "base_uri": "https://localhost:8080/"
        },
        "id": "_RTZgZ5OvKIm",
        "outputId": "fa7b9268-f128-43e0-ed48-b2f55e4b6892"
      },
      "execution_count": 38,
      "outputs": [
        {
          "output_type": "execute_result",
          "data": {
            "text/plain": [
              "array([[-2.38105013,  1.29178215],\n",
              "       [ 0.43495558, -0.46650095]])"
            ]
          },
          "metadata": {},
          "execution_count": 38
        }
      ]
    },
    {
      "cell_type": "markdown",
      "source": [
        "Create a random matrix of shape(1000,3) and create another with a shape(3,1000) .\n",
        "\n",
        "Chech the shape of the resultant matrix after multiplication"
      ],
      "metadata": {
        "id": "KPzSCyPmvfOo"
      }
    },
    {
      "cell_type": "code",
      "source": [
        "a=np.random.randn(1000,3)\n",
        "b=np.random.randn(3,1000)"
      ],
      "metadata": {
        "id": "bh-gwynWvbeY"
      },
      "execution_count": 39,
      "outputs": []
    },
    {
      "cell_type": "code",
      "source": [
        "a"
      ],
      "metadata": {
        "colab": {
          "base_uri": "https://localhost:8080/"
        },
        "id": "1b0hr5cHv35U",
        "outputId": "8e149e33-5ebc-4c8c-936d-2f2242e95e83"
      },
      "execution_count": 40,
      "outputs": [
        {
          "output_type": "execute_result",
          "data": {
            "text/plain": [
              "array([[-0.41810441, -0.30506   , -1.4461145 ],\n",
              "       [ 0.66507857, -0.83280626, -0.55878151],\n",
              "       [-0.24437414,  1.44298315,  0.00991975],\n",
              "       ...,\n",
              "       [ 0.07378903, -2.06591635, -2.78903419],\n",
              "       [ 0.60623356,  1.82200515,  0.76075836],\n",
              "       [ 0.59746966, -1.94235417, -0.47931682]])"
            ]
          },
          "metadata": {},
          "execution_count": 40
        }
      ]
    },
    {
      "cell_type": "markdown",
      "source": [
        "cREATE A numpy array of range 10 Reshape it to (5,2) .What is the transpose of (5,2)"
      ],
      "metadata": {
        "id": "YRfD2BYNwCFL"
      }
    },
    {
      "cell_type": "code",
      "source": [
        " arr=np.arange(10)\n",
        " arr"
      ],
      "metadata": {
        "colab": {
          "base_uri": "https://localhost:8080/"
        },
        "id": "z2eWe2ENv6WL",
        "outputId": "57ed7088-8eb4-485a-b072-6a0675751a1e"
      },
      "execution_count": 41,
      "outputs": [
        {
          "output_type": "execute_result",
          "data": {
            "text/plain": [
              "array([0, 1, 2, 3, 4, 5, 6, 7, 8, 9])"
            ]
          },
          "metadata": {},
          "execution_count": 41
        }
      ]
    },
    {
      "cell_type": "code",
      "source": [
        "arr.reshape(5,2)\n",
        "arr"
      ],
      "metadata": {
        "colab": {
          "base_uri": "https://localhost:8080/"
        },
        "id": "t5SUGD9ZwQhO",
        "outputId": "7209903e-a742-4f6c-d308-94cf92d9ec7d"
      },
      "execution_count": 45,
      "outputs": [
        {
          "output_type": "execute_result",
          "data": {
            "text/plain": [
              "array([0, 1, 2, 3, 4, 5, 6, 7, 8, 9])"
            ]
          },
          "metadata": {},
          "execution_count": 45
        }
      ]
    },
    {
      "cell_type": "code",
      "source": [
        "arr.T"
      ],
      "metadata": {
        "colab": {
          "base_uri": "https://localhost:8080/"
        },
        "id": "xBqnokgqwRxt",
        "outputId": "51372477-4f4f-40c5-aa48-01b24d8a8e16"
      },
      "execution_count": 46,
      "outputs": [
        {
          "output_type": "execute_result",
          "data": {
            "text/plain": [
              "array([0, 1, 2, 3, 4, 5, 6, 7, 8, 9])"
            ]
          },
          "metadata": {},
          "execution_count": 46
        }
      ]
    },
    {
      "cell_type": "markdown",
      "source": [
        "Create an array of 64 elements (64,) and reshape into\n",
        "\n",
        "(16,4)\n",
        "(4,4,4)\n",
        "(8,2,4)\n",
        "(10,2)\n",
        "\n",
        "Divisible by two\n",
        "\n",
        "Create a numpy array from 1 to 50\n",
        "Filter only even elements by passing the condition as index.\n",
        "\n",
        "Greater than and less than?"
      ],
      "metadata": {
        "id": "HrJUFW0Nw18o"
      }
    },
    {
      "cell_type": "code",
      "source": [
        "array_64=np.arange(1,65)\n",
        "array_64"
      ],
      "metadata": {
        "colab": {
          "base_uri": "https://localhost:8080/"
        },
        "id": "9g4LG7vOwWNW",
        "outputId": "e343374c-e0d4-4e21-9aee-420ac03aa0fd"
      },
      "execution_count": 55,
      "outputs": [
        {
          "output_type": "execute_result",
          "data": {
            "text/plain": [
              "array([ 1,  2,  3,  4,  5,  6,  7,  8,  9, 10, 11, 12, 13, 14, 15, 16, 17,\n",
              "       18, 19, 20, 21, 22, 23, 24, 25, 26, 27, 28, 29, 30, 31, 32, 33, 34,\n",
              "       35, 36, 37, 38, 39, 40, 41, 42, 43, 44, 45, 46, 47, 48, 49, 50, 51,\n",
              "       52, 53, 54, 55, 56, 57, 58, 59, 60, 61, 62, 63, 64])"
            ]
          },
          "metadata": {},
          "execution_count": 55
        }
      ]
    },
    {
      "cell_type": "code",
      "source": [
        "reshape_16_4=arra"
      ],
      "metadata": {
        "colab": {
          "base_uri": "https://localhost:8080/"
        },
        "id": "UgSSXp5hw8EQ",
        "outputId": "0612c238-b32a-464a-a8cf-4433bd02c2b7"
      },
      "execution_count": 56,
      "outputs": [
        {
          "output_type": "execute_result",
          "data": {
            "text/plain": [
              "array([[ 1,  2,  3,  4],\n",
              "       [ 5,  6,  7,  8],\n",
              "       [ 9, 10, 11, 12],\n",
              "       [13, 14, 15, 16],\n",
              "       [17, 18, 19, 20],\n",
              "       [21, 22, 23, 24],\n",
              "       [25, 26, 27, 28],\n",
              "       [29, 30, 31, 32],\n",
              "       [33, 34, 35, 36],\n",
              "       [37, 38, 39, 40],\n",
              "       [41, 42, 43, 44],\n",
              "       [45, 46, 47, 48],\n",
              "       [49, 50, 51, 52],\n",
              "       [53, 54, 55, 56],\n",
              "       [57, 58, 59, 60],\n",
              "       [61, 62, 63, 64]])"
            ]
          },
          "metadata": {},
          "execution_count": 56
        }
      ]
    },
    {
      "cell_type": "code",
      "source": [
        "reshape_4_4_4=np.reshape(array_64,(4,4,4))\n",
        "reshape_4_4_4\n",
        "#"
      ],
      "metadata": {
        "colab": {
          "base_uri": "https://localhost:8080/"
        },
        "id": "vAwHhaOBxkPm",
        "outputId": "85171752-c066-4492-89cc-b0851e1f3cf9"
      },
      "execution_count": 57,
      "outputs": [
        {
          "output_type": "execute_result",
          "data": {
            "text/plain": [
              "array([[[ 1,  2,  3,  4],\n",
              "        [ 5,  6,  7,  8],\n",
              "        [ 9, 10, 11, 12],\n",
              "        [13, 14, 15, 16]],\n",
              "\n",
              "       [[17, 18, 19, 20],\n",
              "        [21, 22, 23, 24],\n",
              "        [25, 26, 27, 28],\n",
              "        [29, 30, 31, 32]],\n",
              "\n",
              "       [[33, 34, 35, 36],\n",
              "        [37, 38, 39, 40],\n",
              "        [41, 42, 43, 44],\n",
              "        [45, 46, 47, 48]],\n",
              "\n",
              "       [[49, 50, 51, 52],\n",
              "        [53, 54, 55, 56],\n",
              "        [57, 58, 59, 60],\n",
              "        [61, 62, 63, 64]]])"
            ]
          },
          "metadata": {},
          "execution_count": 57
        }
      ]
    },
    {
      "cell_type": "markdown",
      "source": [
        "Create an array from 1 to 50, filter only even elements, and apply conditions to find elements greater than and less than certain values.\n"
      ],
      "metadata": {
        "id": "MYxhl9L9x8zh"
      }
    },
    {
      "cell_type": "code",
      "source": [
        "array_1_50=np.arange(1,51)\n",
        "array_1_50"
      ],
      "metadata": {
        "colab": {
          "base_uri": "https://localhost:8080/"
        },
        "id": "g3PL_iaryAN7",
        "outputId": "971f70bc-edd9-432c-a910-44acbd8b7665"
      },
      "execution_count": 58,
      "outputs": [
        {
          "output_type": "execute_result",
          "data": {
            "text/plain": [
              "array([ 1,  2,  3,  4,  5,  6,  7,  8,  9, 10, 11, 12, 13, 14, 15, 16, 17,\n",
              "       18, 19, 20, 21, 22, 23, 24, 25, 26, 27, 28, 29, 30, 31, 32, 33, 34,\n",
              "       35, 36, 37, 38, 39, 40, 41, 42, 43, 44, 45, 46, 47, 48, 49, 50])"
            ]
          },
          "metadata": {},
          "execution_count": 58
        }
      ]
    },
    {
      "cell_type": "code",
      "source": [
        "array_elements=array_1_50[array_1_50%2==0]\n",
        "array_elements"
      ],
      "metadata": {
        "colab": {
          "base_uri": "https://localhost:8080/"
        },
        "id": "_7PBGYExyZKc",
        "outputId": "09eb8973-ac82-46ef-c931-5ca5601319bb"
      },
      "execution_count": 59,
      "outputs": [
        {
          "output_type": "execute_result",
          "data": {
            "text/plain": [
              "array([ 2,  4,  6,  8, 10, 12, 14, 16, 18, 20, 22, 24, 26, 28, 30, 32, 34,\n",
              "       36, 38, 40, 42, 44, 46, 48, 50])"
            ]
          },
          "metadata": {},
          "execution_count": 59
        }
      ]
    },
    {
      "cell_type": "code",
      "source": [
        "filter_elements=array_1_50[(array_1_50<10) & (array_1_50>5)]\n",
        "filter_elements"
      ],
      "metadata": {
        "colab": {
          "base_uri": "https://localhost:8080/"
        },
        "id": "-UcJHW4tx2p4",
        "outputId": "8b518716-ddff-4fb8-9dc1-85bb8c526261"
      },
      "execution_count": 60,
      "outputs": [
        {
          "output_type": "execute_result",
          "data": {
            "text/plain": [
              "array([6, 7, 8, 9])"
            ]
          },
          "metadata": {},
          "execution_count": 60
        }
      ]
    },
    {
      "cell_type": "code",
      "source": [
        "import numpy as np\n",
        "\n",
        "# Create an array of 64 elements\n",
        "array_64 = np.arange(1, 65)  # Numbers from 1 to 64\n",
        "\n",
        "# Reshaping the array into different shapes\n",
        "reshape_16_4 = array_64.reshape(16, 4)\n",
        "reshape_4_4_4 = array_64.reshape(4, 4, 4)\n",
        "reshape_8_2_4 = array_64.reshape(8, 2, 4)\n",
        "reshape_10_2 = array_64[:20].reshape(10, 2)  # First 20 elements reshaped into (10, 2)\n",
        "\n",
        "# Display the reshaped arrays\n",
        "print(\"Shape (16, 4):\\n\", reshape_16_4)\n",
        "print(\"\\nShape (4, 4, 4):\\n\", reshape_4_4_4)\n",
        "print(\"\\nShape (8, 2, 4):\\n\", reshape_8_2_4)\n",
        "print(\"\\nShape (10, 2):\\n\", reshape_10_2)\n",
        "\n",
        "# Create an array from 1 to 50\n",
        "array_1_to_50 = np.arange(1, 51)\n",
        "\n",
        "# Filter only even elements\n",
        "even_elements = array_1_to_50[array_1_to_50 % 2 == 0]\n",
        "\n",
        "print(\"\\nEven elements from 1 to 50:\", even_elements)\n",
        "\n",
        "# Filter elements greater than 10 and less than 40\n",
        "filtered_elements = array_1_to_50[(array_1_to_50 > 10) & (array_1_to_50 < 40)]\n",
        "\n",
        "print(\"\\nElements greater than 10 and less than 40:\", filtered_elements)\n"
      ],
      "metadata": {
        "colab": {
          "base_uri": "https://localhost:8080/"
        },
        "id": "sWyuPSaRywoG",
        "outputId": "f28b5e3b-732e-4313-9578-9c9fd7790c04"
      },
      "execution_count": 61,
      "outputs": [
        {
          "output_type": "stream",
          "name": "stdout",
          "text": [
            "Shape (16, 4):\n",
            " [[ 1  2  3  4]\n",
            " [ 5  6  7  8]\n",
            " [ 9 10 11 12]\n",
            " [13 14 15 16]\n",
            " [17 18 19 20]\n",
            " [21 22 23 24]\n",
            " [25 26 27 28]\n",
            " [29 30 31 32]\n",
            " [33 34 35 36]\n",
            " [37 38 39 40]\n",
            " [41 42 43 44]\n",
            " [45 46 47 48]\n",
            " [49 50 51 52]\n",
            " [53 54 55 56]\n",
            " [57 58 59 60]\n",
            " [61 62 63 64]]\n",
            "\n",
            "Shape (4, 4, 4):\n",
            " [[[ 1  2  3  4]\n",
            "  [ 5  6  7  8]\n",
            "  [ 9 10 11 12]\n",
            "  [13 14 15 16]]\n",
            "\n",
            " [[17 18 19 20]\n",
            "  [21 22 23 24]\n",
            "  [25 26 27 28]\n",
            "  [29 30 31 32]]\n",
            "\n",
            " [[33 34 35 36]\n",
            "  [37 38 39 40]\n",
            "  [41 42 43 44]\n",
            "  [45 46 47 48]]\n",
            "\n",
            " [[49 50 51 52]\n",
            "  [53 54 55 56]\n",
            "  [57 58 59 60]\n",
            "  [61 62 63 64]]]\n",
            "\n",
            "Shape (8, 2, 4):\n",
            " [[[ 1  2  3  4]\n",
            "  [ 5  6  7  8]]\n",
            "\n",
            " [[ 9 10 11 12]\n",
            "  [13 14 15 16]]\n",
            "\n",
            " [[17 18 19 20]\n",
            "  [21 22 23 24]]\n",
            "\n",
            " [[25 26 27 28]\n",
            "  [29 30 31 32]]\n",
            "\n",
            " [[33 34 35 36]\n",
            "  [37 38 39 40]]\n",
            "\n",
            " [[41 42 43 44]\n",
            "  [45 46 47 48]]\n",
            "\n",
            " [[49 50 51 52]\n",
            "  [53 54 55 56]]\n",
            "\n",
            " [[57 58 59 60]\n",
            "  [61 62 63 64]]]\n",
            "\n",
            "Shape (10, 2):\n",
            " [[ 1  2]\n",
            " [ 3  4]\n",
            " [ 5  6]\n",
            " [ 7  8]\n",
            " [ 9 10]\n",
            " [11 12]\n",
            " [13 14]\n",
            " [15 16]\n",
            " [17 18]\n",
            " [19 20]]\n",
            "\n",
            "Even elements from 1 to 50: [ 2  4  6  8 10 12 14 16 18 20 22 24 26 28 30 32 34 36 38 40 42 44 46 48\n",
            " 50]\n",
            "\n",
            "Elements greater than 10 and less than 40: [11 12 13 14 15 16 17 18 19 20 21 22 23 24 25 26 27 28 29 30 31 32 33 34\n",
            " 35 36 37 38 39]\n"
          ]
        }
      ]
    },
    {
      "cell_type": "markdown",
      "source": [
        "Numpy Exercises\n",
        "Multiply the following two NumPy arrays element-wise: [1, 2, 3] and [4, 5, 6], and print the result.\n",
        "\n",
        "Calculate the mean of the following NumPy array: [3, 7, 10, 15, 19], and print the result.\n",
        "\n",
        "Reshape the following NumPy array into a 2x3 matrix: [1, 2, 3, 4, 5, 6].\n",
        "Find the maximum value in the following NumPy array: [9, 2, 7, 5, 3], and print it.\n",
        "\n",
        "More exercises\n",
        "\n",
        "Create a 2D NumPy array with shape (5, 5) containing random integers between 1 and 100. Replace all values greater than 50 with 0 and print the modified array.\n",
        "\n",
        "Create a 1D NumPy array with 20 elements ranging from 0 to 100. Reshape the array into a 4x5 matrix and print it.\n",
        "\n",
        "Create a 3x3 matrix with random values between 0 and 1. Replace all values less than 0.5 with 0 and print the modified matrix.\n",
        "\n",
        "Create a 1D NumPy array with 100 elements ranging from 1 to 100. Reshape the array into a 10x10 matrix and calculate the sum of each row. Print the sum.\n",
        "\n",
        "Create a 2D NumPy array with shape (4, 4) containing random integers between 1 and 10. Find the indices of the maximum value in each row and print the indices.\n",
        "\n",
        "Create a 1D NumPy array with 50 random elements randomly. Calculate the mean and standard deviation of the array and print the results.\n",
        "\n",
        "Create a 2D NumPy array with shape (3, 3) and fill it with values ranging from 0 to 8. Shuffle the rows randomly and print the shuffled array.\n",
        "\n",
        "Create a 1D NumPy array with 100 elements ranging from 1 to 10. Replace all odd values with -1 and print the modified array.\n",
        "\n",
        "Create a 3x3 matrix with random values between 0 and 1. Normalize the matrix by dividing each row by the sum of its elements and print the normalized matrix.\n",
        "\n",
        "Create a 2D NumPy array with shape (5, 5) and fill it with random values between 0 and 1. Sort the elements in each column in descending order and print the sorted array."
      ],
      "metadata": {
        "id": "x59ZxYEZzUOC"
      }
    },
    {
      "cell_type": "markdown",
      "source": [
        "# Numpy Exercises Multiply the following two NumPy arrays element-wise: [1, 2, 3] and [4, 5, 6], and print the result.\n",
        "\n",
        "# Calculate the mean of the following NumPy array: [3, 7, 10, 15, 19], and print the result.\n",
        "\n",
        "# Reshape the following NumPy array into a 2x3 matrix: [1, 2, 3, 4, 5, 6]. Find the maximum value in the following NumPy array: [9, 2, 7, 5, 3], and print it."
      ],
      "metadata": {
        "id": "jOVe4_5fzccq"
      }
    },
    {
      "cell_type": "code",
      "source": [
        "a=np.array([1,2,3])\n",
        "b=np.array([4,5,6])\n",
        "result=a*b\n",
        "print(f\"Element wise result is {result}\")"
      ],
      "metadata": {
        "colab": {
          "base_uri": "https://localhost:8080/"
        },
        "id": "klIYa9jAyzcA",
        "outputId": "f2ff894a-1435-4978-cd6c-600a2e519678"
      },
      "execution_count": 70,
      "outputs": [
        {
          "output_type": "stream",
          "name": "stdout",
          "text": [
            "Element wise result is [ 4 10 18]\n"
          ]
        }
      ]
    },
    {
      "cell_type": "code",
      "source": [
        "mean_array=np.array([3,7,10,15,19])\n",
        "mean=np.mean(mean_array)\n",
        "print(f\"The mean of the array is {mean}\")"
      ],
      "metadata": {
        "colab": {
          "base_uri": "https://localhost:8080/"
        },
        "id": "BNAAA7iizqXd",
        "outputId": "b0598112-7e48-42d3-8a0b-a9f52077bf90"
      },
      "execution_count": 73,
      "outputs": [
        {
          "output_type": "stream",
          "name": "stdout",
          "text": [
            "The mean of the array is 10.8\n"
          ]
        }
      ]
    },
    {
      "cell_type": "code",
      "source": [
        "reshape_matrix=np.array([1,2,3,4,5,6])\n",
        "result=reshape_matrix.reshape(2,3)\n",
        "result"
      ],
      "metadata": {
        "colab": {
          "base_uri": "https://localhost:8080/"
        },
        "id": "EoBx0Mk80wCp",
        "outputId": "f09d1f39-cc2b-4330-d813-03bf768c62a8"
      },
      "execution_count": 75,
      "outputs": [
        {
          "output_type": "execute_result",
          "data": {
            "text/plain": [
              "array([[1, 2, 3],\n",
              "       [4, 5, 6]])"
            ]
          },
          "metadata": {},
          "execution_count": 75
        }
      ]
    },
    {
      "cell_type": "code",
      "source": [
        "find_max=np.array([9,2,7,5,3])\n",
        "max=np.max(find_max)\n",
        "max"
      ],
      "metadata": {
        "colab": {
          "base_uri": "https://localhost:8080/"
        },
        "id": "iDLwyCun1SDI",
        "outputId": "97ce793b-fd2a-4eab-abb0-8cca76efaee4"
      },
      "execution_count": 79,
      "outputs": [
        {
          "output_type": "execute_result",
          "data": {
            "text/plain": [
              "9"
            ]
          },
          "metadata": {},
          "execution_count": 79
        }
      ]
    },
    {
      "cell_type": "markdown",
      "source": [
        "Create a 2D NumPy array with shape (5, 5) containing random integers between 1 and 100. Replace all values greater than 50 with 0 and print the modified array.\n",
        "\n",
        "Create a 1D NumPy array with 20 elements ranging from 0 to 100. Reshape the array into a 4x5 matrix and print it.\n",
        "\n",
        "Create a 3x3 matrix with random values between 0 and 1. Replace all values less than 0.5 with 0 and print the modified matrix.\n",
        "\n",
        "Create a 1D NumPy array with 100 elements ranging from 1 to 100. Reshape the array into a 10x10 matrix and calculate the sum of each row. Print the sum."
      ],
      "metadata": {
        "id": "G53gL94j1-oC"
      }
    },
    {
      "cell_type": "code",
      "source": [
        "import numpy as np\n",
        "\n",
        "# Create a 2D array of random integers between 1 and 100\n",
        "array_2d = np.random.randint(1, 101, size=(5, 5))\n",
        "\n",
        "array_2d\n",
        "\n"
      ],
      "metadata": {
        "colab": {
          "base_uri": "https://localhost:8080/"
        },
        "id": "0qxYc98L1rSi",
        "outputId": "60a9f6c5-0482-4215-e575-ff4a97467a9f"
      },
      "execution_count": 90,
      "outputs": [
        {
          "output_type": "execute_result",
          "data": {
            "text/plain": [
              "array([[19, 63, 32, 33, 51],\n",
              "       [36, 60, 27, 59, 50],\n",
              "       [96, 96, 92, 93, 58],\n",
              "       [87, 64, 71, 58, 87],\n",
              "       [66, 10, 95,  4, 28]])"
            ]
          },
          "metadata": {},
          "execution_count": 90
        }
      ]
    },
    {
      "cell_type": "code",
      "source": [
        "# Replace all values greater than 50 with 0\n",
        "array_2d[array_2d > 50] = 0\n",
        "\n",
        "print(\"Modified array with values > 50 replaced by 0:\\n\", array_2d)"
      ],
      "metadata": {
        "colab": {
          "base_uri": "https://localhost:8080/"
        },
        "id": "NxKhNGLa3Hi3",
        "outputId": "d15c25f2-111c-4598-a150-dd18c63df205"
      },
      "execution_count": 91,
      "outputs": [
        {
          "output_type": "stream",
          "name": "stdout",
          "text": [
            "Modified array with values > 50 replaced by 0:\n",
            " [[19  0 32 33  0]\n",
            " [36  0 27  0 50]\n",
            " [ 0  0  0  0  0]\n",
            " [ 0  0  0  0  0]\n",
            " [ 0 10  0  4 28]]\n"
          ]
        }
      ]
    },
    {
      "cell_type": "markdown",
      "source": [
        "Create a 1D NumPy array with 20 elements ranging from 0 to 100. Reshape the array into a 4x5 matrix and print it."
      ],
      "metadata": {
        "id": "6XuDi1Wz3r4d"
      }
    },
    {
      "cell_type": "code",
      "source": [
        "# Create a 1D arrayint)\n",
        " of 20 elements ranging from 0 to 100\n",
        "array_1d = np.linspace(0, 100, 20, dtype=\n",
        "# Reshape into a 4x5 matrix\n",
        "reshaped_matrix = array_1d.reshape(4, 5)\n",
        "\n",
        "print(\"Reshaped 4x5 matrix:\\n\", reshaped_matrix)\n"
      ],
      "metadata": {
        "colab": {
          "base_uri": "https://localhost:8080/"
        },
        "id": "v5R8rW-w3lkM",
        "outputId": "18aeb605-f58a-4b3e-c5cd-9abdbfe0614b"
      },
      "execution_count": 93,
      "outputs": [
        {
          "output_type": "stream",
          "name": "stdout",
          "text": [
            "Reshaped 4x5 matrix:\n",
            " [[  0   5  10  15  21]\n",
            " [ 26  31  36  42  47]\n",
            " [ 52  57  63  68  73]\n",
            " [ 78  84  89  94 100]]\n"
          ]
        }
      ]
    },
    {
      "cell_type": "markdown",
      "source": [
        " Create a 3x3 matrix with random values between 0 and 1, replace values less than 0.5 with 0:"
      ],
      "metadata": {
        "id": "B98QCIA_4RWl"
      }
    },
    {
      "cell_type": "code",
      "source": [
        "matrix_33=np.random.rand(3,3)\n",
        "matrix_33"
      ],
      "metadata": {
        "colab": {
          "base_uri": "https://localhost:8080/"
        },
        "id": "e7Nlon5Z37b4",
        "outputId": "d01f271f-0edb-4a10-96f0-d836ee000998"
      },
      "execution_count": 95,
      "outputs": [
        {
          "output_type": "execute_result",
          "data": {
            "text/plain": [
              "array([[0.71781424, 0.64245172, 0.88170482],\n",
              "       [0.60087091, 0.80736822, 0.11542134],\n",
              "       [0.94339386, 0.33064964, 0.59657444]])"
            ]
          },
          "metadata": {},
          "execution_count": 95
        }
      ]
    },
    {
      "cell_type": "code",
      "source": [
        "matrix_33[matrix_33<0.643]=0\n",
        "matrix_33"
      ],
      "metadata": {
        "colab": {
          "base_uri": "https://localhost:8080/"
        },
        "id": "x3AJMvvV4jEj",
        "outputId": "b7b06e73-9587-4624-aff5-307875e9ea3b"
      },
      "execution_count": 98,
      "outputs": [
        {
          "output_type": "execute_result",
          "data": {
            "text/plain": [
              "array([[0.71781424, 0.        , 0.88170482],\n",
              "       [0.        , 0.80736822, 0.        ],\n",
              "       [0.94339386, 0.        , 0.        ]])"
            ]
          },
          "metadata": {},
          "execution_count": 98
        }
      ]
    },
    {
      "cell_type": "markdown",
      "source": [
        "Create a 1D NumPy array with 100 elements ranging from 1 to 100, reshape into a 10x10 matrix, and calculate the sum of each row:"
      ],
      "metadata": {
        "id": "sfyfqZFk5GT9"
      }
    },
    {
      "cell_type": "code",
      "source": [
        "arr_1d=np.arange(1,101)\n",
        "arr_1d"
      ],
      "metadata": {
        "colab": {
          "base_uri": "https://localhost:8080/"
        },
        "id": "4914Ky_747m6",
        "outputId": "5105d63e-16f7-4409-866f-6ddadc724ef8"
      },
      "execution_count": 103,
      "outputs": [
        {
          "output_type": "execute_result",
          "data": {
            "text/plain": [
              "array([  1,   2,   3,   4,   5,   6,   7,   8,   9,  10,  11,  12,  13,\n",
              "        14,  15,  16,  17,  18,  19,  20,  21,  22,  23,  24,  25,  26,\n",
              "        27,  28,  29,  30,  31,  32,  33,  34,  35,  36,  37,  38,  39,\n",
              "        40,  41,  42,  43,  44,  45,  46,  47,  48,  49,  50,  51,  52,\n",
              "        53,  54,  55,  56,  57,  58,  59,  60,  61,  62,  63,  64,  65,\n",
              "        66,  67,  68,  69,  70,  71,  72,  73,  74,  75,  76,  77,  78,\n",
              "        79,  80,  81,  82,  83,  84,  85,  86,  87,  88,  89,  90,  91,\n",
              "        92,  93,  94,  95,  96,  97,  98,  99, 100])"
            ]
          },
          "metadata": {},
          "execution_count": 103
        }
      ]
    },
    {
      "cell_type": "code",
      "source": [
        "reshaped_matrix=arr_1d.reshape(10,10)\n",
        "reshaped_matrix"
      ],
      "metadata": {
        "colab": {
          "base_uri": "https://localhost:8080/"
        },
        "id": "camSv2AD5PKC",
        "outputId": "9ad70dcb-73cc-4d00-c4c6-768c8b0d8c3f"
      },
      "execution_count": 105,
      "outputs": [
        {
          "output_type": "execute_result",
          "data": {
            "text/plain": [
              "array([[  1,   2,   3,   4,   5,   6,   7,   8,   9,  10],\n",
              "       [ 11,  12,  13,  14,  15,  16,  17,  18,  19,  20],\n",
              "       [ 21,  22,  23,  24,  25,  26,  27,  28,  29,  30],\n",
              "       [ 31,  32,  33,  34,  35,  36,  37,  38,  39,  40],\n",
              "       [ 41,  42,  43,  44,  45,  46,  47,  48,  49,  50],\n",
              "       [ 51,  52,  53,  54,  55,  56,  57,  58,  59,  60],\n",
              "       [ 61,  62,  63,  64,  65,  66,  67,  68,  69,  70],\n",
              "       [ 71,  72,  73,  74,  75,  76,  77,  78,  79,  80],\n",
              "       [ 81,  82,  83,  84,  85,  86,  87,  88,  89,  90],\n",
              "       [ 91,  92,  93,  94,  95,  96,  97,  98,  99, 100]])"
            ]
          },
          "metadata": {},
          "execution_count": 105
        }
      ]
    },
    {
      "cell_type": "code",
      "source": [
        "#how to calculate the sum of each row ??\n",
        "row_sum=np.sum(reshaped_matrix,axis=1)\n",
        "print(\"10x10 matrix:\\n\", arr_1d)\n",
        "print(\"\\nSum of each row:\", row_sum)"
      ],
      "metadata": {
        "colab": {
          "base_uri": "https://localhost:8080/"
        },
        "id": "bh7l-AvZ5VTb",
        "outputId": "3fee5af3-97d0-4420-f2b3-611fc97910bb"
      },
      "execution_count": 110,
      "outputs": [
        {
          "output_type": "stream",
          "name": "stdout",
          "text": [
            "10x10 matrix:\n",
            " [  1   2   3   4   5   6   7   8   9  10  11  12  13  14  15  16  17  18\n",
            "  19  20  21  22  23  24  25  26  27  28  29  30  31  32  33  34  35  36\n",
            "  37  38  39  40  41  42  43  44  45  46  47  48  49  50  51  52  53  54\n",
            "  55  56  57  58  59  60  61  62  63  64  65  66  67  68  69  70  71  72\n",
            "  73  74  75  76  77  78  79  80  81  82  83  84  85  86  87  88  89  90\n",
            "  91  92  93  94  95  96  97  98  99 100]\n",
            "\n",
            "Sum of each row: [ 55 155 255 355 455 555 655 755 855 955]\n"
          ]
        }
      ]
    },
    {
      "cell_type": "markdown",
      "source": [
        "Create a 2D NumPy array with shape (4, 4) containing random integers between 1 and 10. Find the indices of the maximum value in each row and print the indices.\n",
        "\n",
        "Create a 1D NumPy array with 50 random elements randomly. Calculate the mean and standard deviation of the array and print the results.\n",
        "\n",
        "Create a 2D NumPy array with shape (3, 3) and fill it with values ranging from 0 to 8. Shuffle the rows randomly and print the shuffled array.\n",
        "\n",
        "Create a 1D NumPy array with 100 elements ranging from 1 to 10. Replace all odd values with -1 and print the modified array.\n",
        "\n",
        "Create a 3x3 matrix with random values between 0 and 1. Normalize the matrix by dividing each row by the sum of its elements and print the normalized matrix.\n",
        "\n",
        "Create a 2D NumPy array with shape (5, 5) and fill it with random values between 0 and 1. Sort the elements in each column in descending order and print the sorted array."
      ],
      "metadata": {
        "id": "IArcFExl6Pkg"
      }
    },
    {
      "cell_type": "code",
      "source": [
        "#This much of questions to do but i am feeling bored !Sorry thank u"
      ],
      "metadata": {
        "id": "IfHsl0sr5yZd"
      },
      "execution_count": null,
      "outputs": []
    }
  ]
}