{
 "cells": [
  {
   "cell_type": "code",
   "execution_count": 2,
   "id": "104e2e9e-07d0-4113-902f-48456c3cd5fa",
   "metadata": {},
   "outputs": [],
   "source": [
    "import cv2 "
   ]
  },
  {
   "cell_type": "code",
   "execution_count": 3,
   "id": "58f56be0-f280-47e3-94e2-c1d6926705b3",
   "metadata": {},
   "outputs": [],
   "source": [
    "img=cv2.imread('lena.png',-1)"
   ]
  },
  {
   "cell_type": "code",
   "execution_count": 4,
   "id": "aff77d6e-8ef6-4447-bed5-a8677642fa06",
   "metadata": {
    "scrolled": true
   },
   "outputs": [
    {
     "name": "stdout",
     "output_type": "stream",
     "text": [
      "[[[126 136 223 255]\n",
      "  [128 138 225 255]\n",
      "  [128 138 225 255]\n",
      "  ...\n",
      "  [128 146 235 255]\n",
      "  [107 126 217 255]\n",
      "  [ 84 105 196 255]]\n",
      "\n",
      " [[126 136 223 255]\n",
      "  [128 138 225 255]\n",
      "  [128 138 225 255]\n",
      "  ...\n",
      "  [131 151 239 255]\n",
      "  [107 128 219 255]\n",
      "  [ 79 103 193 255]]\n",
      "\n",
      " [[125 137 225 255]\n",
      "  [126 138 226 255]\n",
      "  [125 137 225 255]\n",
      "  ...\n",
      "  [123 147 235 255]\n",
      "  [106 130 218 255]\n",
      "  [ 78 105 192 255]]\n",
      "\n",
      " ...\n",
      "\n",
      " [[ 57  22  86 255]\n",
      "  [ 54  19  83 255]\n",
      "  [ 62  28  92 255]\n",
      "  ...\n",
      "  [ 82  71 175 255]\n",
      "  [ 74  65 175 255]\n",
      "  [ 73  67 176 255]]\n",
      "\n",
      " [[ 56  21  85 255]\n",
      "  [ 54  19  83 255]\n",
      "  [ 66  32  96 255]\n",
      "  ...\n",
      "  [ 82  72 178 255]\n",
      "  [ 77  70 181 255]\n",
      "  [ 78  72 183 255]]\n",
      "\n",
      " [[ 56  21  85 255]\n",
      "  [ 55  20  84 255]\n",
      "  [ 68  34  98 255]\n",
      "  ...\n",
      "  [ 79  71 178 255]\n",
      "  [ 80  73 184 255]\n",
      "  [ 81  75 188 255]]]\n"
     ]
    }
   ],
   "source": [
    "print(img)"
   ]
  },
  {
   "cell_type": "code",
   "execution_count": 15,
   "id": "a7a764c8-2b7a-4be9-aadd-ad69e5d2ca7e",
   "metadata": {},
   "outputs": [],
   "source": [
    "cv2.imshow('image',img)\n",
    "cv2.waitKey(100)\n",
    "cv2.destroyAllWindows()"
   ]
  },
  {
   "cell_type": "code",
   "execution_count": 13,
   "id": "24cdcb6e-fbd7-48d7-a553-e363241d9f97",
   "metadata": {},
   "outputs": [],
   "source": [
    "img1=cv2.imread('Climbing.jpg',1)\n",
    "cv2.imshow('image',img1)\n",
    "cv2.waitKey(0)\n",
    "cv2.destroyAllWindows()"
   ]
  },
  {
   "cell_type": "code",
   "execution_count": 17,
   "id": "286da504-7d2f-47b1-b96d-c68d72e5100d",
   "metadata": {},
   "outputs": [],
   "source": [
    "img2=cv2.imread('2.0.jpg',1)\n",
    "cv2.imshow('image',img1)\n",
    "cv2.waitKey(1000)\n",
    "cv2.destroyAllWindows()"
   ]
  },
  {
   "cell_type": "markdown",
   "id": "b9d75d8c-bd68-4b00-a123-9f17bf290a52",
   "metadata": {},
   "source": [
    "# writing and saving an image "
   ]
  },
  {
   "cell_type": "code",
   "execution_count": null,
   "id": "5993ccca-e5df-4b0d-8575-27e7287e7aca",
   "metadata": {},
   "outputs": [],
   "source": [
    "img=cv2.imread('lena.png',-1)\n",
    "cv2.imshow('image',img)\n",
    "k=cv2.waitkey(0)\n",
    "if k==27: \n",
    "    cv2.destroyAllWindows()\n",
    "elif k==ord('s'"
   ]
  }
 ],
 "metadata": {
  "kernelspec": {
   "display_name": "Python 3 (ipykernel)",
   "language": "python",
   "name": "python3"
  },
  "language_info": {
   "codemirror_mode": {
    "name": "ipython",
    "version": 3
   },
   "file_extension": ".py",
   "mimetype": "text/x-python",
   "name": "python",
   "nbconvert_exporter": "python",
   "pygments_lexer": "ipython3",
   "version": "3.12.4"
  }
 },
 "nbformat": 4,
 "nbformat_minor": 5
}
