{
 "cells": [
  {
   "cell_type": "markdown",
   "id": "684a291b-ef37-481e-9651-b9ff61cc180c",
   "metadata": {},
   "source": [
    "1. Write a Python program that takes a list of integers and uses map() to square\n",
    "each number.\n"
   ]
  },
  {
   "cell_type": "code",
   "execution_count": 1,
   "id": "6945278a-685e-495d-8028-2378d06ec655",
   "metadata": {},
   "outputs": [
    {
     "name": "stdout",
     "output_type": "stream",
     "text": [
      "[1, 16, 36, 64, 1024]\n"
     ]
    }
   ],
   "source": [
    "numbers=[1,4,6,8,32]\n",
    "square=list(map(lambda number:number**2,numbers))\n",
    "print(square)"
   ]
  },
  {
   "cell_type": "markdown",
   "id": "2084da1c-851f-40de-a721-73124d44f48a",
   "metadata": {},
   "source": [
    "2.Create a program that converts a list of Celsius temperatures into\n",
    "Fahrenheit using the formula (Celsius * 9/5) + 32 with map().\n"
   ]
  },
  {
   "cell_type": "code",
   "execution_count": 8,
   "id": "9ba74585-ddf2-4e48-a020-fb9572dbf480",
   "metadata": {},
   "outputs": [
    {
     "name": "stdout",
     "output_type": "stream",
     "text": [
      "[95.0, 98.6, 102.2, 73.4, 113.0, 62.6]\n"
     ]
    }
   ],
   "source": [
    "temp_in_c=[35,37,39,23,45,17]\n",
    "convert_into_f=lambda Celcius:(Celcius * 9/5) + 32 \n",
    "temp_in_f=list(map(convert_into_f,temp_in_c))\n",
    "print(temp_in_f)"
   ]
  },
  {
   "cell_type": "markdown",
   "id": "ea85de52-38cc-4712-81e7-ebefc9d53bca",
   "metadata": {},
   "source": [
    "3.Develop a code snippet that capitalizes the first letter of each word in a list\n",
    "of strings using map().\n"
   ]
  },
  {
   "cell_type": "code",
   "execution_count": 16,
   "id": "3e2af3e6-44d1-46ca-a4a5-ccbff3ecfffc",
   "metadata": {},
   "outputs": [
    {
     "name": "stdout",
     "output_type": "stream",
     "text": [
      "['Hero', 'Chameli', 'Pawan', 'Sherawat', 'Bahubali']\n"
     ]
    }
   ],
   "source": [
    "letters=['hero', 'chameli','pawan','sherawat','bahubali']\n",
    "capitalized_letters=list(map(lambda word:word.capitalize(),letters))\n",
    "print(capitalized_letters)"
   ]
  },
  {
   "cell_type": "markdown",
   "id": "834a0065-9ae0-46fd-a802-a59c277a87df",
   "metadata": {},
   "source": [
    "Filter"
   ]
  },
  {
   "cell_type": "markdown",
   "id": "70b227e9-c05a-4247-9787-5332e4002d28",
   "metadata": {},
   "source": [
    "4. Construct a program that filters out all the even numbers from\n",
    "a list of integers using filter()."
   ]
  },
  {
   "cell_type": "code",
   "execution_count": 18,
   "id": "2d044cf3-4bda-423a-9fea-811541a28357",
   "metadata": {},
   "outputs": [
    {
     "data": {
      "text/plain": [
       "[22, 10, 6, 8]"
      ]
     },
     "execution_count": 18,
     "metadata": {},
     "output_type": "execute_result"
    }
   ],
   "source": [
    "integers=[22,10,5,6,7,9,8]\n",
    "new_numbers=list(filter(lambda n:n%2==0, integers))\n",
    "new_numbers"
   ]
  },
  {
   "cell_type": "markdown",
   "id": "374036f6-3209-4151-a21c-b73eb41ec26f",
   "metadata": {},
   "source": [
    "5. Write a Python script that extracts all the vowels\n",
    "from a list of characters using filter()."
   ]
  },
  {
   "cell_type": "code",
   "execution_count": 33,
   "id": "76445a74-8990-414c-8393-17330a556630",
   "metadata": {},
   "outputs": [
    {
     "name": "stdout",
     "output_type": "stream",
     "text": [
      "['a', 'e', 'i', 'u']\n"
     ]
    }
   ],
   "source": [
    "characters=['a','b','e','n','m','i','p','u']\n",
    "vowels=lambda vowel:vowel.lower() in 'aeiou'\n",
    "print(list(filter(vowels,characters)))"
   ]
  },
  {
   "cell_type": "markdown",
   "id": "e89054d5-75f1-4ac1-8d05-ebeb65d24be1",
   "metadata": {},
   "source": [
    "6. Create a function that filters out all the\n",
    "words containing less than 5 characters from a list of strings using filter().\n"
   ]
  },
  {
   "cell_type": "code",
   "execution_count": 36,
   "id": "556e9684-bf39-47cf-ac9f-26896661cf7c",
   "metadata": {},
   "outputs": [
    {
     "data": {
      "text/plain": [
       "['om', 'jay', 'hawa']"
      ]
     },
     "execution_count": 36,
     "metadata": {},
     "output_type": "execute_result"
    }
   ],
   "source": [
    "t_series=['haiwan','netflix','om','jay','heeiye','hawa']\n",
    "filtered_words=list(filter(lambda word:len(word)<5,t_series))\n",
    "filtered_words"
   ]
  },
  {
   "cell_type": "markdown",
   "id": "ff473b18-42f7-4ea8-a354-c9e94a6d5556",
   "metadata": {},
   "source": [
    "7. Implement a program that calculates the product of all\n",
    "numbers in a list using the reduce() function"
   ]
  },
  {
   "cell_type": "code",
   "execution_count": 45,
   "id": "e56a520d-7c24-4252-a30d-1aa2d5b8c66e",
   "metadata": {},
   "outputs": [
    {
     "data": {
      "text/plain": [
       "3150"
      ]
     },
     "execution_count": 45,
     "metadata": {},
     "output_type": "execute_result"
    }
   ],
   "source": [
    "from functools import reduce\n",
    "j_pai_tei=[7,5,3,10,1,3]\n",
    "product=(reduce(lambda x,y: x * y, j_pai_tei))\n",
    "product"
   ]
  },
  {
   "cell_type": "markdown",
   "id": "5d37cedd-0d6f-4b5a-9cb4-9cf8bd266a50",
   "metadata": {},
   "source": [
    " 8. Develop a Python script that finds\n",
    "the maximum element from a list of integers using reduce()."
   ]
  },
  {
   "cell_type": "code",
   "execution_count": 49,
   "id": "a8dad0d9-7c71-4840-ab20-0728799b2d63",
   "metadata": {},
   "outputs": [
    {
     "data": {
      "text/plain": [
       "87"
      ]
     },
     "execution_count": 49,
     "metadata": {},
     "output_type": "execute_result"
    }
   ],
   "source": [
    "from functools import reduce\n",
    "elements=[34,87,56,77,11,55,22,43]\n",
    "max_element=reduce(lambda x,y:x if x>y  else y, elements)\n",
    "max_element"
   ]
  },
  {
   "cell_type": "markdown",
   "id": "faa43abc-257a-41e5-adab-a07fefbe3961",
   "metadata": {},
   "source": [
    "9. Write a function that\n",
    "concatenates a list of strings into a single string using the reduce() function."
   ]
  },
  {
   "cell_type": "code",
   "execution_count": 59,
   "id": "8cd83a2e-d15a-44ad-bc2a-8cc97c69afd6",
   "metadata": {},
   "outputs": [
    {
     "data": {
      "text/plain": [
       "'doyour.homework.'"
      ]
     },
     "execution_count": 59,
     "metadata": {},
     "output_type": "execute_result"
    }
   ],
   "source": [
    "from functools import reduce\n",
    "letters=['do','your','homework']\n",
    "concated=reduce(lambda x,y:x+y+\".\", letters)\n",
    "concated"
   ]
  },
  {
   "cell_type": "markdown",
   "id": "9a05db79-057f-48a3-a27b-f4b0db215835",
   "metadata": {},
   "source": [
    "COmbined : map,filter,reduce"
   ]
  },
  {
   "cell_type": "markdown",
   "id": "1f1af106-4f1e-49e1-9527-bf24d05969b6",
   "metadata": {},
   "source": [
    "10. Create a program that uses map() to square each\n",
    "number in a list, then filters out numbers greater than 10 using filter()."
   ]
  },
  {
   "cell_type": "code",
   "execution_count": 63,
   "id": "1bfa7860-9257-445c-9b23-16dc35f44262",
   "metadata": {},
   "outputs": [
    {
     "data": {
      "text/plain": [
       "[25, 16, 49]"
      ]
     },
     "execution_count": 63,
     "metadata": {},
     "output_type": "execute_result"
    }
   ],
   "source": [
    "numbers=[1,2,5,3,4,7]\n",
    "square=list(map(lambda x:x**2,numbers))\n",
    "new_filter_num=list(filter(lambda x:x>10,square))\n",
    "new_filter_num"
   ]
  },
  {
   "cell_type": "markdown",
   "id": "77462422-29d6-47a4-9b6c-2dd1281682af",
   "metadata": {},
   "source": [
    "11. Develop\n",
    "a Python script that doubles each number in a list using map(), then finds the sum\n",
    "of these doubled values using reduce()."
   ]
  },
  {
   "cell_type": "code",
   "execution_count": 66,
   "id": "906e48da-0aec-491a-9f1a-a8c88446c926",
   "metadata": {},
   "outputs": [
    {
     "data": {
      "text/plain": [
       "44"
      ]
     },
     "execution_count": 66,
     "metadata": {},
     "output_type": "execute_result"
    }
   ],
   "source": [
    "from functools import reduce\n",
    "numbers=[1,2,5,3,4,7]\n",
    "double=list(map(lambda x:x*2,numbers))\n",
    "sum=reduce(lambda x,y:x+y,double)\n",
    "sum"
   ]
  },
  {
   "cell_type": "markdown",
   "id": "86bc9608-c25f-42b0-bd50-b8198bd7e595",
   "metadata": {},
   "source": [
    "12. Write a program that converts a list of\n",
    "Celsius temperatures to Fahrenheit, filters out temperatures below 80°F, and then\n",
    "computes the average of the remaining temperatures."
   ]
  },
  {
   "cell_type": "code",
   "execution_count": 72,
   "id": "6f0ab832-6db3-40bd-b83c-a92a200e18e9",
   "metadata": {},
   "outputs": [
    {
     "name": "stdout",
     "output_type": "stream",
     "text": [
      "[95.0, 98.6, 102.2, 73.4, 113.0, 62.6]\n"
     ]
    },
    {
     "data": {
      "text/plain": [
       "[73.4, 62.6]"
      ]
     },
     "execution_count": 72,
     "metadata": {},
     "output_type": "execute_result"
    }
   ],
   "source": [
    "temp_in_c=[35,37,39,23,45,17]\n",
    "convert_into_f=lambda Celcius:(Celcius * 9/5) + 32 \n",
    "temp_in_f=list(map(convert_into_f,temp_in_c))\n",
    "temp_b=list(filter(lambda x:x<80 , temp_in_f))\n",
    "temp_b"
   ]
  },
  {
   "cell_type": "markdown",
   "id": "eabb1f25-9612-49ed-8e89-37f5730e5551",
   "metadata": {},
   "source": [
    "Complex Questions"
   ]
  },
  {
   "cell_type": "markdown",
   "id": "2855f2cd-8d8c-41e6-b82d-ed118813e786",
   "metadata": {},
   "source": [
    "13. Given a list of strings, write a program that calculates the total\n",
    "length of all strings using the reduce() function."
   ]
  },
  {
   "cell_type": "code",
   "execution_count": 82,
   "id": "cc8a5a93-de00-43eb-b589-24e7c5679811",
   "metadata": {},
   "outputs": [
    {
     "name": "stdout",
     "output_type": "stream",
     "text": [
      "22\n"
     ]
    }
   ],
   "source": [
    "from functools import reduce\n",
    "\n",
    "list_of_strings = ['hello', 'myworld', 'amazon', 'nile']\n",
    "\n",
    "# Use reduce to calculate the total length of all strings\n",
    "total_length_of_strings = reduce(lambda initial,x: initial + len(x), list_of_strings,0)\n",
    "\n",
    "print(total_length_of_strings)\n"
   ]
  },
  {
   "cell_type": "markdown",
   "id": "0fa03c35-ed9a-4e7d-aa24-662dff58db6d",
   "metadata": {},
   "source": [
    " 14. Build a function that filters out\n",
    "integers from a list of mixed data types using filter(), then squares all the remaining\n",
    "numbers using map()."
   ]
  },
  {
   "cell_type": "code",
   "execution_count": 88,
   "id": "0b8ac990-2432-4651-acd8-994cf0866da9",
   "metadata": {},
   "outputs": [
    {
     "name": "stdout",
     "output_type": "stream",
     "text": [
      "[9, 16, 4, 49]\n"
     ]
    }
   ],
   "source": [
    "data=('iost',33.33,3,4,2,77.003,7,'hawa','tal','5')\n",
    "def filter_and_square(data):\n",
    "    integers=list(filter(lambda x:isinstance(x,int),data))\n",
    "    square=list(map(lambda x:x**2 , integers))\n",
    "    return square\n",
    "\n",
    "result=filter_and_square(data)\n",
    "print(result)\n"
   ]
  },
  {
   "cell_type": "markdown",
   "id": "5a714ad8-5176-49dd-b531-9051712a3503",
   "metadata": {},
   "source": [
    "15. Create a program that combines map(), filter(),\n",
    "and reduce() to find the average length of words in a list of strings with more than\n",
    "four characters."
   ]
  },
  {
   "cell_type": "code",
   "execution_count": 97,
   "id": "c6dfe745-8dff-49eb-a87c-cac55cbd1597",
   "metadata": {},
   "outputs": [
    {
     "name": "stdout",
     "output_type": "stream",
     "text": [
      "8.2\n"
     ]
    }
   ],
   "source": [
    "from functools import reduce\n",
    "\n",
    "words = ('ambition', 'mildajabari', 'mahakali', 'tutu', 'mimi', 'bhakundo', 'ram', 'toyota')\n",
    "\n",
    "def avg_length(words):\n",
    "    more_words = filter(lambda x: len(x) > 5, words)\n",
    "    \n",
    "    length = list(map(lambda word: len(word), more_words))\n",
    "    \n",
    "    total_length = reduce(lambda x, y: x + y, length)\n",
    "    \n",
    "    num_words = len(length)\n",
    "    \n",
    "    average = total_length / num_words if num_words > 0 else 0\n",
    "    \n",
    "    return average\n",
    "\n",
    "result = avg_length(words)\n",
    "print(result)\n",
    "\n"
   ]
  },
  {
   "cell_type": "code",
   "execution_count": null,
   "id": "b7a50e6f-204c-425c-9c22-1c9817864dd8",
   "metadata": {},
   "outputs": [],
   "source": []
  }
 ],
 "metadata": {
  "kernelspec": {
   "display_name": "Python 3 (ipykernel)",
   "language": "python",
   "name": "python3"
  },
  "language_info": {
   "codemirror_mode": {
    "name": "ipython",
    "version": 3
   },
   "file_extension": ".py",
   "mimetype": "text/x-python",
   "name": "python",
   "nbconvert_exporter": "python",
   "pygments_lexer": "ipython3",
   "version": "3.12.4"
  }
 },
 "nbformat": 4,
 "nbformat_minor": 5
}
