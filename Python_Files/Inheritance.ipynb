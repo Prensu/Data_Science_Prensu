{
  "nbformat": 4,
  "nbformat_minor": 0,
  "metadata": {
    "colab": {
      "provenance": [],
      "authorship_tag": "ABX9TyMjmn/kUMu3akuABcdf1DA1",
      "include_colab_link": true
    },
    "kernelspec": {
      "name": "python3",
      "display_name": "Python 3"
    },
    "language_info": {
      "name": "python"
    }
  },
  "cells": [
    {
      "cell_type": "markdown",
      "metadata": {
        "id": "view-in-github",
        "colab_type": "text"
      },
      "source": [
        "<a href=\"https://colab.research.google.com/github/Prensu/Data_Science_Prensu/blob/main/Inheritance.ipynb\" target=\"_parent\"><img src=\"https://colab.research.google.com/assets/colab-badge.svg\" alt=\"Open In Colab\"/></a>"
      ]
    },
    {
      "cell_type": "code",
      "execution_count": null,
      "metadata": {
        "id": "YGLnqMGJkUcn"
      },
      "outputs": [],
      "source": [
        "class Person:\n",
        "    def __init__(self,name,age):\n",
        "        self.name=name\n",
        "        self.age=age\n",
        "\n",
        "    def get_full_name(self):\n",
        "            return f\"{self.name} {self.age}\""
      ]
    },
    {
      "cell_type": "code",
      "source": [
        "class Student(Person):\n",
        "  pass"
      ],
      "metadata": {
        "id": "t2SZyMiBkrgn"
      },
      "execution_count": null,
      "outputs": []
    },
    {
      "cell_type": "code",
      "source": [
        "s=Student(\"anmol\",19)\n",
        "s.get_full_name()"
      ],
      "metadata": {
        "colab": {
          "base_uri": "https://localhost:8080/",
          "height": 36
        },
        "id": "4lnStYSplESe",
        "outputId": "d04bed14-0b50-4c40-97fa-1145cd6fe2ce"
      },
      "execution_count": null,
      "outputs": [
        {
          "output_type": "execute_result",
          "data": {
            "text/plain": [
              "'anmol 19'"
            ],
            "application/vnd.google.colaboratory.intrinsic+json": {
              "type": "string"
            }
          },
          "metadata": {},
          "execution_count": 14
        }
      ]
    },
    {
      "cell_type": "markdown",
      "source": [
        "The Super Function and Overriding"
      ],
      "metadata": {
        "id": "mnHonhSumR2M"
      }
    },
    {
      "cell_type": "code",
      "source": [
        "class Person:\n",
        "    def __init__(self,name,age):\n",
        "        self.name=name\n",
        "        self.age=age\n",
        "\n",
        "class Student(Person):\n",
        "    def __init__(self,name,age,schoolname,percentage):\n",
        "        super().__init__(name,age) #functions haru tanne kam garyo #super() that allows a child class to refer to its parent class\n",
        "        self.schoolname=schoolname\n",
        "        self.percentage=percentage\n",
        "    def student_details(self):\n",
        "      return f\"Name: {self.name} Age: {self.age} School Name: {self.schoolname} Percentage: {self.percentage}\""
      ],
      "metadata": {
        "id": "4IRMMBDUmCHY"
      },
      "execution_count": null,
      "outputs": []
    },
    {
      "cell_type": "code",
      "source": [
        "\n",
        "x=Student(\"Anmol Adhikari\",20,\"King's College\",90.4)\n",
        "x.student_details()"
      ],
      "metadata": {
        "colab": {
          "base_uri": "https://localhost:8080/",
          "height": 36
        },
        "id": "ruCCQfs-n0Lk",
        "outputId": "4241918d-8826-4d6c-8814-32aaa5777200"
      },
      "execution_count": null,
      "outputs": [
        {
          "output_type": "execute_result",
          "data": {
            "text/plain": [
              "\"Name: Anmol Adhikari Age: 20 School Name: King's College Percentage: 90.4\""
            ],
            "application/vnd.google.colaboratory.intrinsic+json": {
              "type": "string"
            }
          },
          "metadata": {},
          "execution_count": 17
        }
      ]
    },
    {
      "cell_type": "markdown",
      "source": [
        "Create a subclass called Doctor that inherits from Person and adds an attribute called specialization. The Doctor class should override the introduce method to include the specialization. The introduce method for Doctor should print \"Hi, my name is [name] and I am [age] years old. I am a [specialization] doctor.\""
      ],
      "metadata": {
        "id": "CDMGBFb_ojdz"
      }
    },
    {
      "cell_type": "code",
      "source": [
        "class Person:\n",
        "  def __init__(self,name,age):\n",
        "    self.name=name\n",
        "    self.age=age\n",
        "\n",
        "class Doctor(Person):\n",
        "  def __init__(self,name,age,specialization):\n",
        "    super().__init__(name,age)\n",
        "    self.specialization=specialization\n",
        "\n",
        "  def introduce(self):\n",
        "    return f\"Hi, my name is {self.name} and I am {self.age} years old. I am a {self.specialization} doctor.\"\n"
      ],
      "metadata": {
        "id": "kuOkr3qLn-wa"
      },
      "execution_count": null,
      "outputs": []
    },
    {
      "cell_type": "code",
      "source": [
        "d=Doctor(\"Anmol Adhikari\",20,\"Heart\")\n",
        "d.introduce()"
      ],
      "metadata": {
        "colab": {
          "base_uri": "https://localhost:8080/",
          "height": 36
        },
        "id": "kKKQV4KMpDKa",
        "outputId": "86c7f7dc-33c8-401b-ec37-6b8f7fb86143"
      },
      "execution_count": null,
      "outputs": [
        {
          "output_type": "execute_result",
          "data": {
            "text/plain": [
              "'Hi, my name is Anmol Adhikari and I am 20 years old. I am a Heart doctor.'"
            ],
            "application/vnd.google.colaboratory.intrinsic+json": {
              "type": "string"
            }
          },
          "metadata": {},
          "execution_count": 29
        }
      ]
    },
    {
      "cell_type": "code",
      "source": [
        "class Person:\n",
        "    def __init__(self, name, age):\n",
        "        self.name = name\n",
        "        self.age = age\n",
        "\n",
        "class Developer(Person):  # Inherit from Person\n",
        "    def __init__(self, name, age, programming_language):\n",
        "        super().__init__(name, age)\n",
        "        self.programming_language = programming_language  # Fixed typo\n",
        "\n",
        "    def introduce(self):\n",
        "        return f\"Hi, my name is {self.name} and I am {self.age} years old. I am a developer specializing in {self.programming_language}.\"  # Use self\n",
        "\n",
        "d = Developer(\"anmol.kc\", 19, \"C++\")\n",
        "print(d.introduce())  # Added print to see the output\n"
      ],
      "metadata": {
        "colab": {
          "base_uri": "https://localhost:8080/"
        },
        "id": "Ef-Q0d8upMtC",
        "outputId": "4cba5317-5291-4ff6-980b-a6a0570ba32f"
      },
      "execution_count": null,
      "outputs": [
        {
          "output_type": "stream",
          "name": "stdout",
          "text": [
            "Hi, my name is anmol.kc and I am 19 years old. I am a developer specializing in C++.\n"
          ]
        }
      ]
    },
    {
      "cell_type": "code",
      "source": [
        "class Shape:\n",
        "    def__init__(self,length):\n",
        "        self.length=length\n",
        "    def area(self):\n",
        "        return 0\n",
        "class Rectangle(Shape):\n",
        "    def__init__(self,length,breadth):\n",
        "        super().__init__(length)\n",
        "        self.breadth=breadth\n",
        "\n",
        "    def area():\n",
        "        return f\"{length}*{breadth}={area}\"\n",
        "class Triangle(Shape):\n",
        "    def __init__(self,length,breadth,height):\n",
        "        super().__init__(length)\n",
        "        self.height=height\n",
        ""
      ],
      "metadata": {
        "colab": {
          "base_uri": "https://localhost:8080/",
          "height": 106
        },
        "id": "bPIJmk2PrJLY",
        "outputId": "054fd973-20b9-4ff2-d5a0-c61696711468"
      },
      "execution_count": null,
      "outputs": [
        {
          "output_type": "error",
          "ename": "SyntaxError",
          "evalue": "invalid syntax (<ipython-input-40-5d45a1a676c2>, line 2)",
          "traceback": [
            "\u001b[0;36m  File \u001b[0;32m\"<ipython-input-40-5d45a1a676c2>\"\u001b[0;36m, line \u001b[0;32m2\u001b[0m\n\u001b[0;31m    def__init__(self,length):\u001b[0m\n\u001b[0m                            ^\u001b[0m\n\u001b[0;31mSyntaxError\u001b[0m\u001b[0;31m:\u001b[0m invalid syntax\n"
          ]
        }
      ]
    }
  ]
}