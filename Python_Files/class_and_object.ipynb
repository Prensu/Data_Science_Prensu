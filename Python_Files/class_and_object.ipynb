{
  "nbformat": 4,
  "nbformat_minor": 0,
  "metadata": {
    "colab": {
      "provenance": [],
      "authorship_tag": "ABX9TyOZ26UMNCyYsEgNheocbG89",
      "include_colab_link": true
    },
    "kernelspec": {
      "name": "python3",
      "display_name": "Python 3"
    },
    "language_info": {
      "name": "python"
    }
  },
  "cells": [
    {
      "cell_type": "markdown",
      "metadata": {
        "id": "view-in-github",
        "colab_type": "text"
      },
      "source": [
        "<a href=\"https://colab.research.google.com/github/Prensu/Data_Science_Prensu/blob/main/class_and_object.ipynb\" target=\"_parent\"><img src=\"https://colab.research.google.com/assets/colab-badge.svg\" alt=\"Open In Colab\"/></a>"
      ]
    },
    {
      "cell_type": "code",
      "execution_count": 6,
      "metadata": {
        "id": "QkV7BxBCb65V"
      },
      "outputs": [],
      "source": [
        "class Car:\n",
        "  def __init__(self,make,model,year):\n",
        "    self.make=make\n",
        "    self.model=model\n",
        "    self.year=year\n",
        "\n",
        "  def display_info(self):\n",
        "      return f\"{self.year} {self.make} {self.model}\""
      ]
    },
    {
      "cell_type": "code",
      "source": [
        "car1=Car(\"BYD\",\"CHINA\",2023)\n",
        "car2=Car(\"Tata\",\"India\",2023)"
      ],
      "metadata": {
        "id": "SHPdwSNAcaMV"
      },
      "execution_count": 7,
      "outputs": []
    },
    {
      "cell_type": "code",
      "source": [
        "print(car1.display_info())\n",
        "print(car2.display_info())"
      ],
      "metadata": {
        "colab": {
          "base_uri": "https://localhost:8080/"
        },
        "id": "-qSp8XXqcwfa",
        "outputId": "da0576f8-34f8-4b6c-ed08-75da8e967672"
      },
      "execution_count": 9,
      "outputs": [
        {
          "output_type": "stream",
          "name": "stdout",
          "text": [
            "2023 BYD CHINA\n",
            "2023 Tata India\n"
          ]
        }
      ]
    },
    {
      "cell_type": "markdown",
      "source": [
        "Create a class Company that initializes the attributes employee_name, employee_salary in the _init_ function.\n",
        "Create a class function get_emp_detail that stores the employee's record in the form of\n",
        "\"Employee name is {{employee_name}} and the salary is {{employee_salary}}\"\n",
        "Define another method salary_after_tax_cut which takes the employee's salary and cuts 13% from it and returns Salary after tax cut: {self.new_salary}"
      ],
      "metadata": {
        "id": "5RcIqbiZeZpX"
      }
    },
    {
      "cell_type": "code",
      "source": [
        "class Company:\n",
        "  def __init__(self,employee_name,employee_salary):\n",
        "    self.employee_name=employee_name\n",
        "    self.employee_salary=employee_salary\n",
        "\n",
        "    def get_emp_detail(self):\n",
        "      return f\"Employee name is {self.employee}\"and the salary is {employee_salary}\n",
        "\n",
        "    def salary_tax_cut(self):\n",
        ""
      ],
      "metadata": {
        "id": "N48l8FDAee42"
      },
      "execution_count": null,
      "outputs": []
    },
    {
      "cell_type": "markdown",
      "source": [
        "[Task] Create a class called Student with attributes name, age, and marks. Write a method within the class called has_distinction that checks if a student has passed with distinction based on their marks. If the mark is greater than or equal to 80, the method should return a congratulatory message mentioning the student's name and the fact that they passed with distinction. Otherwise, it should return a message addressing the student by name and wishing them better luck next time for achieving the distinction."
      ],
      "metadata": {
        "id": "LQAYdiRLhVqT"
      }
    },
    {
      "cell_type": "code",
      "source": [
        "class student:\n",
        "  def __init__(self,name,age,marks):\n",
        "    self.name=name\n",
        "    self.age=age\n",
        "    self.marks=marks\n",
        "\n",
        "  def has_distinction(self):\n",
        "    if self.marks>=80:\n",
        "      return f\"congratulations {self.name} on receiving distinction\"\n",
        "    else:\n",
        "      return f\" {self.name} , you done progress but better luck next time for achiving distinction!\"\n",
        "\n",
        "student1=student(\"John\",20,90)\n",
        "print(student1.has_distinction())"
      ],
      "metadata": {
        "colab": {
          "base_uri": "https://localhost:8080/"
        },
        "id": "8tHGrhkEhXd6",
        "outputId": "314eb0bd-4939-4a4d-a6bb-7f142321479d"
      },
      "execution_count": 17,
      "outputs": [
        {
          "output_type": "stream",
          "name": "stdout",
          "text": [
            "congratulations John on receiving distinction\n"
          ]
        }
      ]
    },
    {
      "cell_type": "markdown",
      "source": [
        "Create a class named \"Mountain\" with attributes for \"name\", \"elevation\", and \"range\". Include a method to display all the details of the mountain.\n",
        "\n",
        "Develop a class called \"Festival\" with attributes for \"name\", \"region\", and \"significance\". Implement a method to display the festival details.\n",
        "\n",
        "Design a class named \"River\" with properties like \"name\", \"length\", and \"origin\". Integrate a method to exhibit the river's information.\n",
        "\n",
        "Craft a class titled \"TrekkingRoute\" with characteristics such as \"name\", \"region\", and \"difficulty\". Introduce a method to present the details of the trekking route.\n",
        "\n",
        "Establish a class named \"City\" with attributes for \"name\", \"population\", and \"landmarks\". Construct a method to exhibit all the particulars of the city."
      ],
      "metadata": {
        "id": "2p9MfrA7uxdE"
      }
    },
    {
      "cell_type": "code",
      "source": [
        "class Mountain:\n",
        "  def __init__(self,name,elevation,range):\n",
        "    self.name=name\n",
        "    self.elevation=elevation\n",
        "    self.range=range\n",
        "\n",
        "  def display_info(self):\n",
        "    print(f\"Name: {self.name}\")\n",
        "    print(f\"Elevation: {self.elevation}\")\n",
        "    print(f\"Range: {self.range}\")\n",
        "\n",
        "mountain1=Mountain(\"Mount Everest\",8848,\"Nepal\")\n",
        "mountain2=Mountain(\"Mount k2\",8600,\"Pakistan\")\n",
        "mountain1.display_info()\n",
        "mountain1.display_info()"
      ],
      "metadata": {
        "colab": {
          "base_uri": "https://localhost:8080/"
        },
        "id": "llUaikKEigzt",
        "outputId": "4710478b-730b-471b-eee6-3181c6ad6cef"
      },
      "execution_count": 19,
      "outputs": [
        {
          "output_type": "stream",
          "name": "stdout",
          "text": [
            "Name: Mount Everest\n",
            "Elevation: 8848\n",
            "Range: Nepal\n",
            "Name: Mount Everest\n",
            "Elevation: 8848\n",
            "Range: Nepal\n"
          ]
        }
      ]
    },
    {
      "cell_type": "code",
      "source": [
        "class Festival:\n",
        "  def __init__(self,name,region,significance):\n",
        "    self.name=name\n",
        "    self.region=region\n",
        "    self.significance=significance\n",
        "\n",
        "  def display_info(self):\n",
        "    print(f\"Name: {self.name}\")\n",
        "    print(f\"Region: {self.region}\")\n",
        "    print(f\"Significance: {self.significance}\")\n",
        "\n",
        "fes1=Festival(\"mhapuja\",\"newars\",\"Very very significant because it teaches self love ! Its festival in which we worship our body\")\n",
        "fes2=Festival(\"yomari\",\"newars\",\"creates togetherness and we eat yomaries and also ask yomaries from whole villages ! \")\n",
        "fes1.display_info()\n",
        "fes2.display_info()"
      ],
      "metadata": {
        "colab": {
          "base_uri": "https://localhost:8080/"
        },
        "id": "4OikncIqwBh7",
        "outputId": "238fcc43-4f08-4ac6-aee0-08619db44fe0"
      },
      "execution_count": 22,
      "outputs": [
        {
          "output_type": "stream",
          "name": "stdout",
          "text": [
            "Name: mhapuja\n",
            "Region: newars\n",
            "Significance: Very very significant because it teaches self love ! Its festival in which we worship our body\n",
            "Name: yomari\n",
            "Region: newars\n",
            "Significance: creates togetherness and we eat yomaries and also ask yomaries from whole villages ! \n"
          ]
        }
      ]
    },
    {
      "cell_type": "code",
      "source": [
        "class River:\n",
        "  def __init__(self,name,length,origin):\n",
        "    self.name=name\n",
        "    self.length=length\n",
        "    self.origin=origin\n",
        "\n",
        "  def River_info(self):\n",
        "    print(f\"Name: {self.name}\")\n",
        "    print(f\"Length: {self.length}\")\n",
        "    print(f\"Origin: {self.origin}\")\n",
        "\n",
        "river1=River(\"Nile\",6500,\"Egypt\")\n",
        "river2=River(\"Amazon\",4500,\"South America\")\n",
        "river3=River(\"Bagmati\",900,\"nepal\")\n",
        "river1.River_info()\n",
        "\n",
        "river2.River_info()\n",
        "\n",
        "river3.River_info()"
      ],
      "metadata": {
        "colab": {
          "base_uri": "https://localhost:8080/"
        },
        "id": "OKM7qaMmw4oc",
        "outputId": "17085f93-6345-4abd-fe4c-2a2d1669491e"
      },
      "execution_count": 27,
      "outputs": [
        {
          "output_type": "stream",
          "name": "stdout",
          "text": [
            "Name: Nile\n",
            "Length: 6500\n",
            "Origin: Egypt\n",
            "Name: Amazon\n",
            "Length: 4500\n",
            "Origin: South America\n",
            "Name: Bagmati\n",
            "Length: 900\n",
            "Origin: nepal\n"
          ]
        }
      ]
    },
    {
      "cell_type": "code",
      "source": [
        "class Trekking_Route:\n",
        "  def __init__(self,name,region,difficulty):\n",
        "    self.name=name\n",
        "    self.region=region\n",
        "    self.difficulty=difficulty\n",
        "\n",
        "  def trek_info(self):\n",
        "    print(f\"Name: {self.name}\")\n",
        "    print(f\"Region: {self.region}\")\n",
        "    print(f\"Difficulty: {self.difficulty}\")\n",
        "\n",
        "trek1=Trekking_Route(\"Mount annarpurna\",\"pokhara\",\"Easy\")\n",
        "trek2=Trekking_Route(\"Mount kailash\",\"manang\",\"Very Hard\")\n",
        "trek3=Trekking_Route(\"Mount makalu\",\"makalu\",\"medium\")\n",
        "trek1.trek_info()\n",
        "trek2.trek_info()\n",
        "trek3.trek_info()"
      ],
      "metadata": {
        "colab": {
          "base_uri": "https://localhost:8080/"
        },
        "id": "3iJ2n-unx961",
        "outputId": "54ba0b92-ce37-471b-c64f-6a13d0b879bd"
      },
      "execution_count": 29,
      "outputs": [
        {
          "output_type": "stream",
          "name": "stdout",
          "text": [
            "Name: Mount annarpurna\n",
            "Region: pokhara\n",
            "Difficulty: Easy\n",
            "Name: Mount kailash\n",
            "Region: manang\n",
            "Difficulty: Very Hard\n",
            "Name: Mount makalu\n",
            "Region: makalu\n",
            "Difficulty: medium\n"
          ]
        }
      ]
    },
    {
      "cell_type": "code",
      "source": [
        "class city:\n",
        "  def __init__(self,name,population,landmarks):\n",
        "    self.name=name\n",
        "    self.population=population\n",
        "    self.landmarks=landmarks\n",
        "\n",
        "  def city_info(self):\n",
        "    print(f\"Name: {self.name}\")\n",
        "    print(f\"Population: {self.population}\")\n",
        "    print(f\"Landmarks: {self.landmarks}\")\n",
        "\n",
        "\n",
        "city1=city(\"newyork\",8.6,\"empire state building\")\n",
        "city2=city(\"paris\",2.1,\"eiffel tower\")\n",
        "city3=city(\"kathamndu\",8.9,\"dharahara\")\n",
        "city1.city_info()\n",
        "city2.city_info()\n",
        "city3.city_info()"
      ],
      "metadata": {
        "colab": {
          "base_uri": "https://localhost:8080/"
        },
        "id": "6EYmvVjfy5uN",
        "outputId": "b00f72c3-56f5-4999-f973-cf8ff090842c"
      },
      "execution_count": 30,
      "outputs": [
        {
          "output_type": "stream",
          "name": "stdout",
          "text": [
            "Name: newyork\n",
            "Population: 8.6\n",
            "Landmarks: empire state building\n",
            "Name: paris\n",
            "Population: 2.1\n",
            "Landmarks: eiffel tower\n",
            "Name: kathamndu\n",
            "Population: 8.9\n",
            "Landmarks: dharahara\n"
          ]
        }
      ]
    },
    {
      "cell_type": "code",
      "source": [],
      "metadata": {
        "id": "XKWWPl9ezjNS"
      },
      "execution_count": null,
      "outputs": []
    }
  ]
}