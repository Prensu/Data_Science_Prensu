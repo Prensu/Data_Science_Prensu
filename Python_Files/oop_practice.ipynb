{
 "cells": [
  {
   "cell_type": "markdown",
   "id": "dcec1ab2-a7c5-44bb-ac1a-5eefca51b400",
   "metadata": {},
   "source": [
    "Create a Bus class that inherits from the Vehicle class. Give the capacity argument of Bus.seating_capacity() a default value of 50."
   ]
  },
  {
   "cell_type": "code",
   "execution_count": 18,
   "id": "17523f4d-7695-481f-af50-770af90cb671",
   "metadata": {},
   "outputs": [
    {
     "name": "stdout",
     "output_type": "stream",
     "text": [
      "Though max speed is 20, the vehicle only gives 25 mileage.\n",
      "The seating_capacity of bus is 50\n"
     ]
    }
   ],
   "source": [
    "class Vehicle:\n",
    "    def __init__(self, max_speed, mileage):\n",
    "        self.max_speed = max_speed\n",
    "        self.mileage = mileage\n",
    "\n",
    "    def display_info(self):\n",
    "        return f\"Though max speed is {self.max_speed}, the vehicle only gives {self.mileage} mileage.\"\n",
    "\n",
    "class Bus(Vehicle):\n",
    "    def __init__(self,max_speed, mileage,seating_capacity=50):\n",
    "        super().__init__(max_speed, mileage)  # Initialize the Vehicle class\n",
    "        self.seating_capacity = seating_capacity\n",
    "\n",
    "    def get_seating_capacity(self):\n",
    "        return f\"The seating_capacity of bus is {self.seating_capacity}\"\n",
    "\n",
    "# Example usage\n",
    "b = Bus(20, 25)  # max_speed=20, mileage=25\n",
    "print(b.display_info())  # Output: Though max speed is 20, the vehicle only gives 25 mileage.\n",
    "print(b.get_seating_capacity())  # Output: 50\n"
   ]
  },
  {
   "cell_type": "markdown",
   "id": "74d57dcf-5b17-4dba-aae9-74649ba636c8",
   "metadata": {},
   "source": [
    "OOP Exercise 7: Check type of an object"
   ]
  },
  {
   "cell_type": "markdown",
   "id": "3489fd07-d6e2-4906-b4fd-bbaaa06a910a",
   "metadata": {},
   "source": [
    "Create a Bus child class that inherits from the Vehicle class. The default fare charge of any vehicle is seating capacity * 100. If Vehicle is Bus instance, we need to add an extra 10% on full fare as a maintenance charge. So total fare for bus instance will become the final amount = total fare + 10% of the total fare.\n",
    "\n",
    "Note: The bus seating capacity is 50. so the final fare amount should be 5500. You need to override the fare() method of a Vehicle class in Bus class."
   ]
  },
  {
   "cell_type": "code",
   "execution_count": 25,
   "id": "586ba285-d568-41ad-89ca-674ae1da1992",
   "metadata": {},
   "outputs": [
    {
     "name": "stdout",
     "output_type": "stream",
     "text": [
      "Total fare for Vehicle: 5000\n",
      "Total fare for Bus: 5500.0\n"
     ]
    }
   ],
   "source": [
    "class Vehicle:\n",
    "    def __init__(self, seating_capacity):\n",
    "        self.seating_capacity = seating_capacity\n",
    "\n",
    "    def total_fare(self):\n",
    "        fare = self.seating_capacity * 100\n",
    "        return fare  # Return the calculated fare\n",
    "\n",
    "class Bus(Vehicle):\n",
    "    def __init__(self, seating_capacity=50):\n",
    "        super().__init__(seating_capacity)  # Initialize the Vehicle class with seating capacity\n",
    "        self.maintenance_charge_percentage = 0.10  # 10% maintenance charge\n",
    "\n",
    "    def total_fare(self):\n",
    "        base_fare = super().total_fare()  # Get the base fare from the Vehicle class\n",
    "        maintenance_charge = base_fare * self.maintenance_charge_percentage  # Calculate maintenance charge\n",
    "        total = base_fare + maintenance_charge  # Total fare\n",
    "        return total  # Return the total fare\n",
    "\n",
    "# Example usage\n",
    "v = Vehicle(50)\n",
    "print(f\"Total fare for Vehicle: {v.total_fare()}\")  # Output: Total fare for Vehicle: 5000\n",
    "\n",
    "b = Bus(50)\n",
    "print(f\"Total fare for Bus: {b.total_fare()}\")  # Output: Total fare for Bus: 5500\n"
   ]
  },
  {
   "cell_type": "markdown",
   "id": "d7f567b8-9fba-446d-9e14-1c8bed747eb2",
   "metadata": {},
   "source": [
    "Another Method!!!"
   ]
  },
  {
   "cell_type": "code",
   "execution_count": 26,
   "id": "2f8f0a2f-48ac-4efc-ad29-df51350b77a3",
   "metadata": {},
   "outputs": [
    {
     "name": "stdout",
     "output_type": "stream",
     "text": [
      "Total Bus fare is: 5500.0\n"
     ]
    }
   ],
   "source": [
    "class Vehicle:\n",
    "    def __init__(self, name, mileage, capacity):\n",
    "        self.name = name\n",
    "        self.mileage = mileage\n",
    "        self.capacity = capacity\n",
    "\n",
    "    def fare(self):\n",
    "        return self.capacity * 100\n",
    "\n",
    "class Bus(Vehicle):\n",
    "    def fare(self):\n",
    "        amount = super().fare()\n",
    "        amount += amount * 10 / 100\n",
    "        return amount\n",
    "\n",
    "School_bus = Bus(\"School Volvo\", 12, 50)\n",
    "print(\"Total Bus fare is:\", School_bus.fare())"
   ]
  },
  {
   "cell_type": "markdown",
   "id": "2c158cea-d0a1-4fd3-965a-b0b823602525",
   "metadata": {},
   "source": [
    "Write a program to determine which class a given Bus object belongs to."
   ]
  },
  {
   "cell_type": "code",
   "execution_count": 27,
   "id": "b134c0c9-d6cd-405b-90e3-02d46405bdf4",
   "metadata": {},
   "outputs": [
    {
     "name": "stdout",
     "output_type": "stream",
     "text": [
      "<class '__main__.Bus'>\n"
     ]
    }
   ],
   "source": [
    "class Vehicle:\n",
    "    def __init__(self, name, mileage, capacity):\n",
    "        self.name = name\n",
    "        self.mileage = mileage\n",
    "        self.capacity = capacity\n",
    "\n",
    "class Bus(Vehicle):\n",
    "    pass\n",
    "\n",
    "School_bus = Bus(\"School Volvo\", 12, 50)\n",
    "\n",
    "# Python's built-in type()\n",
    "print(type(School_bus))"
   ]
  },
  {
   "cell_type": "code",
   "execution_count": null,
   "id": "2d48d629-e3b9-41d1-8d22-c62308910bdb",
   "metadata": {},
   "outputs": [],
   "source": []
  }
 ],
 "metadata": {
  "kernelspec": {
   "display_name": "Python 3 (ipykernel)",
   "language": "python",
   "name": "python3"
  },
  "language_info": {
   "codemirror_mode": {
    "name": "ipython",
    "version": 3
   },
   "file_extension": ".py",
   "mimetype": "text/x-python",
   "name": "python",
   "nbconvert_exporter": "python",
   "pygments_lexer": "ipython3",
   "version": "3.12.4"
  }
 },
 "nbformat": 4,
 "nbformat_minor": 5
}
